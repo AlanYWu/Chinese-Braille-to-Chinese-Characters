{
 "cells": [
  {
   "cell_type": "markdown",
   "id": "1d58cd6c",
   "metadata": {},
   "source": [
    "BiLSTM序列标注---盲汉翻译"
   ]
  },
  {
   "cell_type": "code",
   "execution_count": 1,
   "id": "f10a85cc",
   "metadata": {},
   "outputs": [],
   "source": [
    "import torch\n",
    "import torch.nn as nn"
   ]
  },
  {
   "cell_type": "code",
   "execution_count": 2,
   "id": "89cf1c6c",
   "metadata": {},
   "outputs": [],
   "source": [
    "# 构造RNN网络，x的维度5，隐层的维度10,网络的层数2\n",
    "rnn_seq = nn.RNN(5, 10,2)  \n",
    "# 构造一个输入序列，句长为 6，batch 是 3， 每个单词使用长度是 5的向量表示\n",
    "x = torch.randn(6, 3, 5)\n",
    "#out,ht = rnn_seq(x,h0) \n",
    "out,ht = rnn_seq(x) #h0可以指定或者不指定\n"
   ]
  },
  {
   "cell_type": "code",
   "execution_count": 3,
   "id": "7985d8de",
   "metadata": {},
   "outputs": [],
   "source": [
    "# 输入维度 50，隐层100维，两层\n",
    "lstm_seq = nn.LSTM(50, 100, num_layers=2)\n",
    "# 输入序列seq= 10，batch =3，输入维度=50\n",
    "lstm_input = torch.randn(10, 3, 50)\n",
    "out, (h, c) = lstm_seq(lstm_input) # 使用默认的全 0 隐藏状态"
   ]
  },
  {
   "cell_type": "code",
   "execution_count": 4,
   "id": "121642c4",
   "metadata": {},
   "outputs": [],
   "source": [
    "\n",
    "class RNN(torch.nn.Module):\n",
    "    def __init__(self,input_size, hidden_size, num_layers):\n",
    "        super(RNN,self).__init__()\n",
    "        self.input_size = input_size\n",
    "        self.hidden_size=hidden_size\n",
    "        self.num_layers=num_layers\n",
    "        self.lstm = torch.nn.LSTM(input_size=input_size,hidden_size=hidden_size,num_layers=num_layers,batch_first=True)\n",
    "    \n",
    "    def forward(self,input):\n",
    "        # input应该为(batch_size,seq_len,input_szie)\n",
    "        self.hidden = self.initHidden(input.size(0))\n",
    "        out,self.hidden = self.lstm(input,self.hidden)#lstm->self.lstm\n",
    "        return out,self.hidden\n",
    "    \n",
    "    def initHidden(self,batch_size):\n",
    "        if self.lstm.bidirectional:\n",
    "            return (torch.rand(self.num_layers*2,batch_size,self.hidden_size),torch.rand(self.num_layers*2,batch_size,self.hidden_size))\n",
    "        else:\n",
    "            return (torch.rand(self.num_layers,batch_size,self.hidden_size),torch.rand(self.num_layers,batch_size,self.hidden_size))\n",
    "\n",
    "input_size = 12\n",
    "hidden_size = 10\n",
    "num_layers = 3\n",
    "batch_size = 2\n",
    "model = RNN(input_size,hidden_size,num_layers)\n",
    "# input (seq_len, batch, input_size) 包含特征的输入序列，如果设置了batch_first，则batch为第一维\n",
    "input = torch.rand(2,4,12)    #生成一个用随机数初始化的矩阵"
   ]
  },
  {
   "cell_type": "markdown",
   "id": "636f44cf",
   "metadata": {},
   "source": [
    "https://blog.csdn.net/vivian_ll/article/details/93894151"
   ]
  },
  {
   "cell_type": "code",
   "execution_count": 5,
   "id": "aef6258d",
   "metadata": {},
   "outputs": [],
   "source": [
    "import torch.nn.functional as F\n",
    "class LSTMTagger(nn.Module):\n",
    "\n",
    "    def __init__(self, embedding_dim, hidden_dim, vocab_size, tagset_size):\n",
    "        super(LSTMTagger, self).__init__()\n",
    "        self.hidden_dim = hidden_dim\n",
    "\n",
    "        self.word_embeddings = nn.Embedding(vocab_size, embedding_dim)\n",
    "\n",
    "        # LSTM以word_embeddings作为输入, 输出维度为 hidden_dim 的隐藏状态值\n",
    "        self.lstm = nn.LSTM(embedding_dim, hidden_dim)\n",
    "\n",
    "        # 线性层将隐藏状态空间映射到标注空间\n",
    "        self.hidden2tag = nn.Linear(hidden_dim, tagset_size)\n",
    "        self.hidden = self.init_hidden()\n",
    "\n",
    "    def init_hidden(self):\n",
    "        # 一开始并没有隐藏状态所以我们要先初始化一个\n",
    "        # 关于维度为什么这么设计请参考Pytoch相关文档\n",
    "        # 各个维度的含义是 (num_layers*num_directions, batch_size, hidden_dim)\n",
    "        return (torch.zeros(1, 1, self.hidden_dim),\n",
    "                torch.zeros(1, 1, self.hidden_dim))\n",
    "\n",
    "    def forward(self, sentence):\n",
    "        embeds = self.word_embeddings(sentence)\n",
    "        lstm_out, self.hidden = self.lstm(\n",
    "            embeds.view(len(sentence), 1, -1), self.hidden)\n",
    "        tag_space = self.hidden2tag(lstm_out.view(len(sentence), -1))\n",
    "        tag_scores = F.log_softmax(tag_space, dim=1)\n",
    "        return tag_scores"
   ]
  },
  {
   "cell_type": "code",
   "execution_count": 6,
   "id": "c6eec1f5",
   "metadata": {},
   "outputs": [
    {
     "data": {
      "text/plain": [
       "'\\ntraining_data = [\\n    (\"The dog ate the apple\".split(), [\"DET\", \"NN\", \"V\", \"DET\", \"NN\"]),\\n    (\"Everybody read that book\".split(), [\"NN\", \"V\", \"DET\", \"NN\"])\\n]\\n'"
      ]
     },
     "execution_count": 6,
     "metadata": {},
     "output_type": "execute_result"
    }
   ],
   "source": [
    "#Making training data\n",
    "training_data = []\n",
    "t = open('./对应拼音标调.txt',\"r\", encoding='UTF8')\n",
    "\n",
    "f = open(\"./训练集.txt\", \"rb\")\n",
    "#计数 数一共有多少行\n",
    "lines = f.readlines()\n",
    "tags = t.readlines()\n",
    "# counter = len(lines)\n",
    "# counter = 0\n",
    "# for i in line:   \n",
    "#     counter = counter + 1\n",
    "\n",
    "for index, line in enumerate(lines):\n",
    "    line = lines[index].rstrip().split()\n",
    "    tag = tags[index].rstrip().split()\n",
    "    training_data.append((line, tag))\n",
    "    # f = open(\"./训练集.txt\", \"r\",encoding=\"ANSI\")\n",
    "    # line = f.readline().split()\n",
    "    # index = t.readline().split()\n",
    "    # for i in range(len(line)):\n",
    "    #     temp=[]\n",
    "    #     temp.append(line[i])\n",
    "    #     temp.append(tag[i])\n",
    "    #     temp = tuple(temp)\n",
    "    #     training_data.append(temp)\n",
    "'''\n",
    "training_data = [\n",
    "    (\"The dog ate the apple\".split(), [\"DET\", \"NN\", \"V\", \"DET\", \"NN\"]),\n",
    "    (\"Everybody read that book\".split(), [\"NN\", \"V\", \"DET\", \"NN\"])\n",
    "]\n",
    "'''\n",
    "# training_data为[(data,tag),…]"
   ]
  },
  {
   "cell_type": "code",
   "execution_count": 24,
   "id": "ae18c521",
   "metadata": {},
   "outputs": [
    {
     "data": {
      "text/plain": [
       "['2', '3', '2', '4', '4', '4', '3', '3', '1', '.']"
      ]
     },
     "execution_count": 24,
     "metadata": {},
     "output_type": "execute_result"
    }
   ],
   "source": [
    "import numpy as np\n",
    "len(training_data)\n",
    "training_data[1000][1]"
   ]
  },
  {
   "cell_type": "code",
   "execution_count": 25,
   "id": "f1901deb",
   "metadata": {},
   "outputs": [],
   "source": [
    "\n",
    "def prepare_sequence(seq, to_ix):\n",
    "    idxs = [to_ix[w] for w in seq]\n",
    "    return torch.tensor(idxs, dtype=torch.long)\n",
    "\n",
    "word_to_ix = {}\n",
    "for sent, tags in training_data:\n",
    "    for word in sent:\n",
    "        if word not in word_to_ix:\n",
    "            word_to_ix[word] = len(word_to_ix)\n",
    "# print(word_to_ix)\n",
    "# tag_to_ix = {\"DET\": 0, \"NN\": 1, \"V\": 2}\n",
    "tag_to_ix = {\"0\":0, \"1\":1, \"2\":2, \"3\":3, \"4\":4, \",\":5, \".\":6, \"?\":7,\"!\":8}\n",
    "\n",
    "# 实际中通常使用更大的维度如32维, 64维.\n",
    "# 这里我们使用小的维度, 为了方便查看训练过程中权重的变化.\n",
    "EMBEDDING_DIM = 12\n",
    "HIDDEN_DIM = 12\n",
    "# import numpy as np\n",
    "# np.save('word_to_ix.npy',word_to_ix)\n",
    "# np.save('tag_to_ix.npy',tag_to_ix)"
   ]
  },
  {
   "cell_type": "code",
   "execution_count": 26,
   "id": "19fc27ed",
   "metadata": {},
   "outputs": [],
   "source": [
    "from torch.utils.tensorboard import SummaryWriter"
   ]
  },
  {
   "cell_type": "code",
   "execution_count": 27,
   "id": "89e01395",
   "metadata": {},
   "outputs": [
    {
     "name": "stdout",
     "output_type": "stream",
     "text": [
      "[b'ai', b'ya', b',', b'dui', b'bu', b'qi', b',', b'wo', b'ba', b'zhe', b'xie', b'shi', b'qing', b'tong', b'tong', b'wang', b'le', b'.']\n",
      "b'ai'\n",
      "b'ya'\n",
      "b','\n",
      "b'dui'\n",
      "b'bu'\n",
      "b'qi'\n",
      "b','\n",
      "b'wo'\n",
      "b'ba'\n",
      "b'zhe'\n",
      "b'xie'\n",
      "b'shi'\n",
      "b'qing'\n",
      "b'tong'\n",
      "b'tong'\n",
      "b'wang'\n",
      "b'le'\n",
      "b'.'\n"
     ]
    },
    {
     "ename": "KeyError",
     "evalue": "'ai'",
     "output_type": "error",
     "traceback": [
      "\u001b[1;31m---------------------------------------------------------------------------\u001b[0m",
      "\u001b[1;31mKeyError\u001b[0m                                  Traceback (most recent call last)",
      "\u001b[1;32m~\\AppData\\Local\\Temp\\ipykernel_17068\\309413776.py\u001b[0m in \u001b[0;36m<module>\u001b[1;34m\u001b[0m\n\u001b[0;32m      3\u001b[0m \u001b[1;32mfor\u001b[0m \u001b[0mw\u001b[0m \u001b[1;32min\u001b[0m \u001b[0ma\u001b[0m\u001b[1;33m:\u001b[0m\u001b[1;33m\u001b[0m\u001b[1;33m\u001b[0m\u001b[0m\n\u001b[0;32m      4\u001b[0m     \u001b[0mprint\u001b[0m\u001b[1;33m(\u001b[0m\u001b[0mw\u001b[0m\u001b[1;33m)\u001b[0m\u001b[1;33m\u001b[0m\u001b[1;33m\u001b[0m\u001b[0m\n\u001b[1;32m----> 5\u001b[1;33m \u001b[0mprint\u001b[0m\u001b[1;33m(\u001b[0m\u001b[0mword_to_ix\u001b[0m\u001b[1;33m[\u001b[0m\u001b[0mstr\u001b[0m\u001b[1;33m(\u001b[0m\u001b[1;34m'ai'\u001b[0m\u001b[1;33m)\u001b[0m\u001b[1;33m]\u001b[0m\u001b[1;33m)\u001b[0m\u001b[1;33m\u001b[0m\u001b[1;33m\u001b[0m\u001b[0m\n\u001b[0m\u001b[0;32m      6\u001b[0m \u001b[1;33m\u001b[0m\u001b[0m\n\u001b[0;32m      7\u001b[0m \u001b[0mprepare_sequence\u001b[0m\u001b[1;33m(\u001b[0m\u001b[0ma\u001b[0m\u001b[1;33m,\u001b[0m \u001b[0mword_to_ix\u001b[0m\u001b[1;33m)\u001b[0m\u001b[1;33m\u001b[0m\u001b[1;33m\u001b[0m\u001b[0m\n",
      "\u001b[1;31mKeyError\u001b[0m: 'ai'"
     ]
    }
   ],
   "source": []
  },
  {
   "cell_type": "code",
   "execution_count": 31,
   "id": "a44e7ed3",
   "metadata": {},
   "outputs": [
    {
     "name": "stdout",
     "output_type": "stream",
     "text": [
      "0\n"
     ]
    },
    {
     "name": "stderr",
     "output_type": "stream",
     "text": [
      "100%|██████████| 5000/5000 [00:38<00:00, 130.39it/s]\n",
      "100%|██████████| 1000/1000 [00:02<00:00, 361.57it/s]"
     ]
    },
    {
     "name": "stdout",
     "output_type": "stream",
     "text": [
      "tensor(0.0630, grad_fn=<NllLossBackward0>)\n",
      "training_acuracy 0.8389310521215664\n",
      "validation_acuracy: 0.7983849904425574\n"
     ]
    },
    {
     "name": "stderr",
     "output_type": "stream",
     "text": [
      "\n"
     ]
    }
   ],
   "source": [
    "from tqdm import tqdm\n",
    "for i in range(1):\n",
    "    #更改训练参数\n",
    "    #Bert 有768个hidden_feature\n",
    "    #目前是embedding_dim=110\n",
    "    EMBEDDING_DIM = 60\n",
    "    HIDDEN_DIM = 130\n",
    "    #HIDDEN_DIM = 10 + 30*i\n",
    "    # g = \"./log\"+\"Hidden_dim_\"+str(EMBEDDING_DIM)+\"_Embedding_dim_\"+str(HIDDEN_DIM)\n",
    "    # model = LSTMTagger(EMBEDDING_DIM, HIDDEN_DIM, len(word_to_ix), len(tag_to_ix))\n",
    "    # loss_function = nn.NLLLoss()\n",
    "    # optimizer = torch.optim.SGD(model.parameters(), lr=0.1)\n",
    "    # writer = SummaryWriter(g)\n",
    "\n",
    "    # 查看训练前的分数\n",
    "    # 注意: 输出的 i,j 元素的值表示单词 i 的 j 标签的得分\n",
    "    # 这里我们不需要训练不需要求导所以使用torch.no_grad()\n",
    "    with torch.no_grad():\n",
    "        inputs = prepare_sequence(training_data[0][0], word_to_ix)\n",
    "        # print(training_data[0][0], word_to_ix)\n",
    "        \n",
    "        tag_scores = model(inputs)\n",
    "        #print(tag_scores)\n",
    "        targets = prepare_sequence(training_data[0][1], tag_to_ix)\n",
    "        #print((torch.argmax(tag_scores, dim=-1) == targets).sum().item() / len(targets))\n",
    "\n",
    "\n",
    "    for epoch in range(1):  # 实际情况下你不会训练300个周期, 此例中我们只是随便设了一个值\n",
    "        print(epoch)\n",
    "        training_acuracy = []\n",
    "        validation_acuracy = []\n",
    "        loss_list_train = []\n",
    "        loss_list_validation = []\n",
    "        for sentence, tags in tqdm(training_data[:5000]):\n",
    "            # 第一步: 请记住Pytorch会累加梯度.\n",
    "            # 我们需要在训练每个实例前清空梯度\n",
    "            model.zero_grad()\n",
    "\n",
    "            # 此外还需要清空 LSTM 的隐状态,\n",
    "            # 将其从上个实例的历史中分离出来.\n",
    "            model.hidden = model.init_hidden()\n",
    "\n",
    "            # 准备网络输入, 将其变为词索引的 Tensor 类型数据\n",
    "            \n",
    "            sentence_in = prepare_sequence(sentence, word_to_ix)\n",
    "            targets = prepare_sequence(tags, tag_to_ix)\n",
    "            # 第三步: 前向传播.\n",
    "            tag_scores = model(sentence_in)\n",
    "\n",
    "            # 第四步: 计算损失和梯度值, 通过调用 optimizer.step() 来更新梯度\n",
    "            loss = loss_function(tag_scores, targets)\n",
    "            a = (torch.argmax(tag_scores, dim=-1) == targets).sum().item() / len(targets)\n",
    "            training_acuracy.append(a)\n",
    "            writer.add_scalar('Accuracy/train', a, epoch)\n",
    "            loss.backward()\n",
    "            optimizer.step()\n",
    "            loss_list_train.append(loss.item())\n",
    "        #Validation\n",
    "        for sentence, tags in tqdm(training_data[5000:6000]):\n",
    "            model.zero_grad()\n",
    "            model.hidden = model.init_hidden()\n",
    "\n",
    "            # 准备网络输入, 将其变为词索引的 Tensor 类型数据\n",
    "            \n",
    "            sentence_in = prepare_sequence(sentence, word_to_ix)\n",
    "            targets = prepare_sequence(tags, tag_to_ix)\n",
    "            # 第三步: 前向传播.\n",
    "            tag_scores = model(sentence_in)\n",
    "            #计算损失\n",
    "            a = (torch.argmax(tag_scores, dim=-1) == targets).sum().item() / len(targets)\n",
    "            validation_acuracy.append(a)\n",
    "            loss = loss_function(tag_scores, targets)\n",
    "            loss_list_validation.append(loss.item())\n",
    "            \n",
    "            \n",
    "\n",
    "            \n",
    "        #LSTM 可以做padding\n",
    "        print(loss)\n",
    "        c= sum(loss_list_train)\n",
    "        writer.add_scalar('Loss/training', c, epoch)\n",
    "        d = sum(loss_list_validation)\n",
    "        writer.add_scalar('Loss/validation', d, epoch)\n",
    "        #print(torch.argmax(tag_scores, dim=-1))\n",
    "        print(\"training_acuracy\",sum(training_acuracy)/len(training_acuracy))\n",
    "        b = sum(training_acuracy)/len(training_acuracy)\n",
    "        writer.add_scalar('Accuracy/training', b, epoch)\n",
    "        print(\"validation_acuracy:\",sum(validation_acuracy)/len(validation_acuracy))\n",
    "        a =sum(validation_acuracy)/len(validation_acuracy) \n",
    "        writer.add_scalar('Accuracy/validation', a, epoch)\n",
    "\n",
    "    # 查看训练后的得分\n",
    "    with torch.no_grad():\n",
    "        inputs = prepare_sequence(training_data[0][0], word_to_ix)\n",
    "        tag_scores = model(inputs)\n",
    "\n",
    "        # 句子是 \"the dog ate the apple\", i,j 表示对于单词 i, 标签 j 的得分.\n",
    "        # 我们采用得分最高的标签作为预测的标签. 从下面的输出我们可以看到, 预测得\n",
    "        # 到的结果是0 1 2 0 1. 因为 索引是从0开始的, 因此第一个值0表示第一行的\n",
    "        # 最大值, 第二个值1表示第二行的最大值, 以此类推. 所以最后的结果是 DET\n",
    "        # NOUN VERB DET NOUN, 整个序列都是正确的!\n",
    "        #print(tag_scores)\n"
   ]
  },
  {
   "cell_type": "code",
   "execution_count": 32,
   "id": "7b80ac88",
   "metadata": {},
   "outputs": [],
   "source": [
    "torch.save(model, 'TESTING.pth')"
   ]
  },
  {
   "cell_type": "code",
   "execution_count": 65,
   "id": "303c27e6",
   "metadata": {},
   "outputs": [],
   "source": [
    "f = open(\"./test.txt\", \"rb\")\n",
    "#prepare training data\n",
    "testing_data = []\n",
    "lines = f.readlines()\n",
    "for index, line in enumerate(lines):\n",
    "    line = lines[index].rstrip().split()\n",
    "    # tag = tags[index].rstrip().split()\n",
    "    testing_data.append((line, ' '))\n",
    "\n",
    "def prepare_sequence(seq, to_ix):\n",
    "    idxs = [to_ix[w] for w in seq]\n",
    "    return torch.tensor(idxs, dtype=torch.long)\n",
    "\n",
    "results=[]\n",
    "for i in range(len(testing_data)):\n",
    "    sentence = testing_data[0][0]\n",
    "    model.hidden = model.init_hidden()\n",
    "    sentence_in = prepare_sequence(sentence, word_to_ix)\n",
    "    tag_scores = model(sentence_in)\n",
    "    tag_scores_arg = torch.argmax(tag_scores, dim=-1)\n",
    "    results.append(tag_scores_arg)\n"
   ]
  },
  {
   "cell_type": "code",
   "execution_count": 68,
   "metadata": {},
   "outputs": [
    {
     "data": {
      "text/plain": [
       "[([b'rang',\n",
       "   b'qin',\n",
       "   b'fen',\n",
       "   b'xue',\n",
       "   b'xi',\n",
       "   b'cheng',\n",
       "   b'wei',\n",
       "   b'qing',\n",
       "   b'chun',\n",
       "   b'yuan',\n",
       "   b'hang',\n",
       "   b'de',\n",
       "   b'dong',\n",
       "   b'li',\n",
       "   b'.'],\n",
       "  ' '),\n",
       " ([b'yi',\n",
       "   b'kao',\n",
       "   b'xue',\n",
       "   b'xi',\n",
       "   b'zou',\n",
       "   b'xiang',\n",
       "   b'wei',\n",
       "   b'lai',\n",
       "   b'bu',\n",
       "   b'shi',\n",
       "   b'yi',\n",
       "   b'ju',\n",
       "   b'kong',\n",
       "   b'hua,',\n",
       "   b'er',\n",
       "   b'shi',\n",
       "   b'zai',\n",
       "   b'bu',\n",
       "   b'duan',\n",
       "   b'mo',\n",
       "   b'li',\n",
       "   b'zhog',\n",
       "   b'zong',\n",
       "   b'jie',\n",
       "   b'chu',\n",
       "   b'lai',\n",
       "   b'de',\n",
       "   b'cheng',\n",
       "   b'zhang',\n",
       "   b'jing',\n",
       "   b'yan',\n",
       "   b'.'],\n",
       "  ' ')]"
      ]
     },
     "execution_count": 68,
     "metadata": {},
     "output_type": "execute_result"
    }
   ],
   "source": [
    "testing_data"
   ]
  },
  {
   "cell_type": "code",
   "execution_count": null,
   "id": "fce76d72",
   "metadata": {},
   "outputs": [],
   "source": [
    "#torch.save(LSTMTagger, 'LSTMTagger[130,60].pt')#[embedding_dim, hydden_dim]"
   ]
  },
  {
   "cell_type": "code",
   "execution_count": 12,
   "id": "d29ded56",
   "metadata": {},
   "outputs": [],
   "source": [
    "new_m = torch.load('LSTMTagger[130,60].pt')"
   ]
  },
  {
   "cell_type": "code",
   "execution_count": 13,
   "id": "01e4dd8b",
   "metadata": {},
   "outputs": [
    {
     "name": "stdout",
     "output_type": "stream",
     "text": [
      "tensor([  6,  10,  33, 142])\n"
     ]
    }
   ],
   "source": [
    "test_tensor = prepare_sequence('wo shi wu you'.split(),word_to_ix)\n",
    "print(test_tensor)"
   ]
  },
  {
   "cell_type": "code",
   "execution_count": 1,
   "id": "c6eec1f5",
   "metadata": {},
   "outputs": [],
   "source": [
    "import numpy as np\n",
    "#reading dictionary\n",
    "word_to_ix = np.load('word_to_ix.npy',allow_pickle=True)\n",
    "tag_to_ix = np.load('tag_to_ix.npy',allow_pickle=True)"
   ]
  },
  {
   "cell_type": "code",
   "execution_count": 3,
   "id": "f21fe382",
   "metadata": {},
   "outputs": [
    {
     "data": {
      "text/plain": [
       "numpy.ndarray"
      ]
     },
     "execution_count": 3,
     "metadata": {},
     "output_type": "execute_result"
    }
   ],
   "source": []
  },
  {
   "cell_type": "code",
   "execution_count": 15,
   "id": "f1901deb",
   "metadata": {},
   "outputs": [],
   "source": [
    "#针对于保存下来的numpy.ndarrary格式的字符对应字典，进行了语法的调整\n",
    "#word_to_dictionary的格式变成了ndarray\n",
    "#https://blog.csdn.net/Strive_For_Future/article/details/115869658\n",
    "def prepare_sequence(seq, to_ix):\n",
    "    idxs = [to_ix.item()[w] for w in seq]\n",
    "    return torch.tensor(idxs, dtype=torch.long)"
   ]
  },
  {
   "cell_type": "code",
   "execution_count": 16,
   "id": "4c3ef07a",
   "metadata": {},
   "outputs": [
    {
     "data": {
      "text/plain": [
       "4"
      ]
     },
     "execution_count": 16,
     "metadata": {},
     "output_type": "execute_result"
    }
   ],
   "source": [
    "len(test_tensor)"
   ]
  },
  {
   "cell_type": "code",
   "execution_count": 17,
   "id": "01e4dd8b",
   "metadata": {},
   "outputs": [
    {
     "ename": "TypeError",
     "evalue": "__init__() missing 3 required positional arguments: 'hidden_dim', 'vocab_size', and 'tagset_size'",
     "output_type": "error",
     "traceback": [
      "\u001b[1;31m---------------------------------------------------------------------------\u001b[0m",
      "\u001b[1;31mTypeError\u001b[0m                                 Traceback (most recent call last)",
      "\u001b[1;32m~\\AppData\\Local\\Temp/ipykernel_6816/3552594098.py\u001b[0m in \u001b[0;36m<module>\u001b[1;34m\u001b[0m\n\u001b[1;32m----> 1\u001b[1;33m \u001b[0mpredict\u001b[0m \u001b[1;33m=\u001b[0m \u001b[0mnew_m\u001b[0m\u001b[1;33m(\u001b[0m\u001b[0mtest_tensor\u001b[0m\u001b[1;33m)\u001b[0m\u001b[1;33m\u001b[0m\u001b[1;33m\u001b[0m\u001b[0m\n\u001b[0m",
      "\u001b[1;31mTypeError\u001b[0m: __init__() missing 3 required positional arguments: 'hidden_dim', 'vocab_size', and 'tagset_size'"
     ]
    }
   ],
   "source": [
    "predict = new_m(test_tensor)"
   ]
  },
  {
   "cell_type": "code",
   "execution_count": 35,
   "id": "9e35a0cb",
   "metadata": {},
   "outputs": [
    {
     "ename": "TypeError",
     "evalue": "empty() received an invalid combination of arguments - got (tuple, dtype=NoneType, device=NoneType), but expected one of:\n * (tuple of ints size, *, tuple of names names, torch.memory_format memory_format, torch.dtype dtype, torch.layout layout, torch.device device, bool pin_memory, bool requires_grad)\n * (tuple of ints size, *, torch.memory_format memory_format, Tensor out, torch.dtype dtype, torch.layout layout, torch.device device, bool pin_memory, bool requires_grad)\n",
     "output_type": "error",
     "traceback": [
      "\u001b[1;31m---------------------------------------------------------------------------\u001b[0m",
      "\u001b[1;31mTypeError\u001b[0m                                 Traceback (most recent call last)",
      "\u001b[1;32m~\\AppData\\Local\\Temp/ipykernel_17172/1992913882.py\u001b[0m in \u001b[0;36m<module>\u001b[1;34m\u001b[0m\n\u001b[1;32m----> 1\u001b[1;33m \u001b[0mpredict\u001b[0m \u001b[1;33m=\u001b[0m \u001b[0mnew_m\u001b[0m\u001b[1;33m(\u001b[0m\u001b[0mtest_tensor\u001b[0m\u001b[1;33m,\u001b[0m\u001b[1;36m60\u001b[0m\u001b[1;33m,\u001b[0m\u001b[1;33m(\u001b[0m\u001b[1;36m4\u001b[0m\u001b[1;33m,\u001b[0m\u001b[1;36m5\u001b[0m\u001b[1;33m)\u001b[0m\u001b[1;33m,\u001b[0m\u001b[1;36m4\u001b[0m\u001b[1;33m)\u001b[0m\u001b[1;33m\u001b[0m\u001b[1;33m\u001b[0m\u001b[0m\n\u001b[0m",
      "\u001b[1;32m~\\AppData\\Local\\Temp/ipykernel_17172/124131055.py\u001b[0m in \u001b[0;36m__init__\u001b[1;34m(self, embedding_dim, hidden_dim, vocab_size, tagset_size)\u001b[0m\n\u001b[0;32m      6\u001b[0m         \u001b[0mself\u001b[0m\u001b[1;33m.\u001b[0m\u001b[0mhidden_dim\u001b[0m \u001b[1;33m=\u001b[0m \u001b[0mhidden_dim\u001b[0m\u001b[1;33m\u001b[0m\u001b[1;33m\u001b[0m\u001b[0m\n\u001b[0;32m      7\u001b[0m \u001b[1;33m\u001b[0m\u001b[0m\n\u001b[1;32m----> 8\u001b[1;33m         \u001b[0mself\u001b[0m\u001b[1;33m.\u001b[0m\u001b[0mword_embeddings\u001b[0m \u001b[1;33m=\u001b[0m \u001b[0mnn\u001b[0m\u001b[1;33m.\u001b[0m\u001b[0mEmbedding\u001b[0m\u001b[1;33m(\u001b[0m\u001b[0mvocab_size\u001b[0m\u001b[1;33m,\u001b[0m \u001b[0membedding_dim\u001b[0m\u001b[1;33m)\u001b[0m\u001b[1;33m\u001b[0m\u001b[1;33m\u001b[0m\u001b[0m\n\u001b[0m\u001b[0;32m      9\u001b[0m \u001b[1;33m\u001b[0m\u001b[0m\n\u001b[0;32m     10\u001b[0m         \u001b[1;31m# LSTM以word_embeddings作为输入, 输出维度为 hidden_dim 的隐藏状态值\u001b[0m\u001b[1;33m\u001b[0m\u001b[1;33m\u001b[0m\u001b[0m\n",
      "\u001b[1;32mD:\\Anaconda\\lib\\site-packages\\torch\\nn\\modules\\sparse.py\u001b[0m in \u001b[0;36m__init__\u001b[1;34m(self, num_embeddings, embedding_dim, padding_idx, max_norm, norm_type, scale_grad_by_freq, sparse, _weight, device, dtype)\u001b[0m\n\u001b[0;32m    137\u001b[0m         \u001b[0mself\u001b[0m\u001b[1;33m.\u001b[0m\u001b[0mscale_grad_by_freq\u001b[0m \u001b[1;33m=\u001b[0m \u001b[0mscale_grad_by_freq\u001b[0m\u001b[1;33m\u001b[0m\u001b[1;33m\u001b[0m\u001b[0m\n\u001b[0;32m    138\u001b[0m         \u001b[1;32mif\u001b[0m \u001b[0m_weight\u001b[0m \u001b[1;32mis\u001b[0m \u001b[1;32mNone\u001b[0m\u001b[1;33m:\u001b[0m\u001b[1;33m\u001b[0m\u001b[1;33m\u001b[0m\u001b[0m\n\u001b[1;32m--> 139\u001b[1;33m             \u001b[0mself\u001b[0m\u001b[1;33m.\u001b[0m\u001b[0mweight\u001b[0m \u001b[1;33m=\u001b[0m \u001b[0mParameter\u001b[0m\u001b[1;33m(\u001b[0m\u001b[0mtorch\u001b[0m\u001b[1;33m.\u001b[0m\u001b[0mempty\u001b[0m\u001b[1;33m(\u001b[0m\u001b[1;33m(\u001b[0m\u001b[0mnum_embeddings\u001b[0m\u001b[1;33m,\u001b[0m \u001b[0membedding_dim\u001b[0m\u001b[1;33m)\u001b[0m\u001b[1;33m,\u001b[0m \u001b[1;33m**\u001b[0m\u001b[0mfactory_kwargs\u001b[0m\u001b[1;33m)\u001b[0m\u001b[1;33m)\u001b[0m\u001b[1;33m\u001b[0m\u001b[1;33m\u001b[0m\u001b[0m\n\u001b[0m\u001b[0;32m    140\u001b[0m             \u001b[0mself\u001b[0m\u001b[1;33m.\u001b[0m\u001b[0mreset_parameters\u001b[0m\u001b[1;33m(\u001b[0m\u001b[1;33m)\u001b[0m\u001b[1;33m\u001b[0m\u001b[1;33m\u001b[0m\u001b[0m\n\u001b[0;32m    141\u001b[0m         \u001b[1;32melse\u001b[0m\u001b[1;33m:\u001b[0m\u001b[1;33m\u001b[0m\u001b[1;33m\u001b[0m\u001b[0m\n",
      "\u001b[1;31mTypeError\u001b[0m: empty() received an invalid combination of arguments - got (tuple, dtype=NoneType, device=NoneType), but expected one of:\n * (tuple of ints size, *, tuple of names names, torch.memory_format memory_format, torch.dtype dtype, torch.layout layout, torch.device device, bool pin_memory, bool requires_grad)\n * (tuple of ints size, *, torch.memory_format memory_format, Tensor out, torch.dtype dtype, torch.layout layout, torch.device device, bool pin_memory, bool requires_grad)\n"
     ]
    }
   ],
   "source": [
    "predict = new_m(test_tensor,60,(4,5),4)"
   ]
  },
  {
   "cell_type": "code",
   "execution_count": null,
   "id": "b650bdf1",
   "metadata": {},
   "outputs": [],
   "source": [
    "help(model)"
   ]
  },
  {
   "cell_type": "code",
   "execution_count": null,
   "id": "7aad324b",
   "metadata": {},
   "outputs": [],
   "source": []
  },
  {
   "cell_type": "code",
   "execution_count": null,
   "id": "8d9f1c67",
   "metadata": {},
   "outputs": [],
   "source": []
  }
 ],
 "metadata": {
  "kernelspec": {
   "display_name": "Python 3.9.13 ('base')",
   "language": "python",
   "name": "python3"
  },
  "language_info": {
   "codemirror_mode": {
    "name": "ipython",
    "version": 3
   },
   "file_extension": ".py",
   "mimetype": "text/x-python",
   "name": "python",
   "nbconvert_exporter": "python",
   "pygments_lexer": "ipython3",
   "version": "3.9.13"
  },
  "vscode": {
   "interpreter": {
    "hash": "b09ec625f77bf4fd762565a912b97636504ad6ec901eb2d0f4cf5a7de23e1ee5"
   }
  }
 },
 "nbformat": 4,
 "nbformat_minor": 5
}
