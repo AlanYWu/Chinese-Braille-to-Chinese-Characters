{
 "cells": [
  {
   "cell_type": "code",
   "execution_count": 29,
   "id": "f8da8160",
   "metadata": {},
   "outputs": [
    {
     "data": {
      "text/plain": [
       "'在公共汽车上,玛丽给老大娘让了一个座位.\\n'"
      ]
     },
     "execution_count": 29,
     "metadata": {},
     "output_type": "execute_result"
    }
   ],
   "source": [
    "import re\n",
    "f = open(\"./预测结果.txt\",\"w\",encoding = \"UTF8\")\n",
    "for line in open(\"./原始数据.txt\",encoding = \"ANSI\"):\n",
    "    line = line.replace('^[0-9]*$', '') #正则表达式的语法 去除非法字符\n",
    "    line = re.sub(\"《|》|（|）|(|)|；|、\",\"\",line) #清除特殊字符\n",
    "    line = re.sub(\"。\",\".\")\n",
    "    line = re.sub(\"，\",\",\")\n",
    "    line = re.sub(\"(\",\"\")\n",
    "    line = re.sub(\")\",\"\")\n",
    "    line = re.sub(\"[a-zA-Z]\",\"\",line)\n",
    "    line = re.sub(\"ā|á|ǎ|à|ō|ó|ǒ|ò|ê|ē|é|ě|è|ī|í|ǐ|ì|ū|ú|ǔ|ù|ǖ|ǘ|ǚ|ǜ|ü\",\"\",line)\n",
    "    f.write(line)\n",
    "f.close()\n",
    "line\n"
   ]
  },
  {
   "cell_type": "code",
   "execution_count": 35,
   "id": "40f3ec11",
   "metadata": {},
   "outputs": [],
   "source": [
    "# 替换拼音标调\n",
    "def line_label_new(line = ['lineā']):\n",
    "    line_head = []\n",
    "    for i in line:\n",
    "        \n",
    "        if 'ā' in i or 'ō'in i or 'ē'in i or 'ī'in i or 'ū'in i or 'ǖ'in i:\n",
    "            line_head.append('1')\n",
    "        elif 'á'in i or  'ó'in i or 'é'in i or 'í' in i or 'ú'in i or 'ǘ'in i:\n",
    "            line_head.append('2')\n",
    "        elif 'ǎ'in i or 'ǒ'in i or 'ǐ'in i or 'ǔ'in i or 'ǚ'in i or 'ě' in i:\n",
    "            line_head.append('3')\n",
    "        elif 'à'in i or 'ò'in i or 'è'in i or 'ì'in i or 'ù'in i or 'ǜ'in i:\n",
    "            line_head.append('4')\n",
    "        elif ',' in i:\n",
    "                line_head.append(',')\n",
    "        elif '.' in i:\n",
    "            line_head.append('.')\n",
    "        else:\n",
    "            line_head.append('0')\n",
    "    return line_head"
   ]
  },
  {
   "cell_type": "code",
   "execution_count": 32,
   "id": "a869e796",
   "metadata": {},
   "outputs": [
    {
     "data": {
      "text/plain": [
       "['0', '.']"
      ]
     },
     "execution_count": 32,
     "metadata": {},
     "output_type": "execute_result"
    }
   ],
   "source": [
    "line_label_new([\"ba\",\".\"])"
   ]
  },
  {
   "cell_type": "code",
   "execution_count": 40,
   "id": "25b5e96f",
   "metadata": {},
   "outputs": [
    {
     "data": {
      "text/plain": [
       "'zai gong gong qi che shang , ma li gei lao da niang rang le yi ge zuo wei .'"
      ]
     },
     "execution_count": 40,
     "metadata": {},
     "output_type": "execute_result"
    }
   ],
   "source": [
    "import re\n",
    "f = open(\"./输入_无标调拼音.txt\",\"w\",encoding = \"UTF8\")\n",
    "for line in open(\"./原始数据.txt\",encoding = \"ANSI\"):\n",
    "    line = line.replace('^[0-9]*$', '') #正则表达式的语法 去除非法字符\n",
    "    line = re.sub(\"《|》|（|(|)|、\",\"\",line) #清除特殊字符\n",
    "    line = line.replace(\"，\",\", \")\n",
    "    line = line.replace(\"。\",\".\")\n",
    "    line = line.replace(\")\",\" \")#加入空格进行分词\n",
    "    line = line.replace(\"(\",\"\")\n",
    "    line = re.sub('[\\u4e00-\\u9fa5]', '', line)\n",
    "    line = re.sub(\"ā|á|ǎ|à\",\"a\",line)\n",
    "    line = re.sub(\"ō|ó|ǒ|ò\",\"o\",line)\n",
    "    line = re.sub(\"ī|í|ǐ|ì\",\"i\",line)\n",
    "    line = re.sub(\"ē|é|ě|è\",\"e\",line)\n",
    "    line = re.sub(\"ǖ|ǘ|ǚ|ǜ\",\"u\",line)\n",
    "    line = re.sub(\"ū|ú|ǔ|ù\",\"u\",line)\n",
    "    line = line.split()\n",
    "    line=' '.join(line)\n",
    "    f.write('\\n')\n",
    "    f.write(line)\n",
    "f.close()\n",
    "line\n",
    "\n",
    "#输入_无标调拼音会多出来一行，需要手动删掉第一行\n"
   ]
  },
  {
   "cell_type": "code",
   "execution_count": null,
   "id": "c31da22a",
   "metadata": {},
   "outputs": [],
   "source": []
  },
  {
   "cell_type": "code",
   "execution_count": null,
   "id": "0b5e9474",
   "metadata": {},
   "outputs": [],
   "source": []
  }
 ],
 "metadata": {
  "kernelspec": {
   "display_name": "Python 3 (ipykernel)",
   "language": "python",
   "name": "python3"
  },
  "language_info": {
   "codemirror_mode": {
    "name": "ipython",
    "version": 3
   },
   "file_extension": ".py",
   "mimetype": "text/x-python",
   "name": "python",
   "nbconvert_exporter": "python",
   "pygments_lexer": "ipython3",
   "version": "3.9.13"
  }
 },
 "nbformat": 4,
 "nbformat_minor": 5
}
