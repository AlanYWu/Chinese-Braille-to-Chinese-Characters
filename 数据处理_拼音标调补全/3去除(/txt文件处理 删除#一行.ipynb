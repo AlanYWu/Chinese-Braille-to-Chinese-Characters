{
 "cells": [
  {
   "cell_type": "code",
   "execution_count": 1,
   "id": "f8da8160",
   "metadata": {},
   "outputs": [],
   "source": [
    "import re\n",
    "f= open(\"./目标.txt\",\"w\",encoding = \"ANSI\")\n",
    "for line in open(\"./训练集.txt\",encoding = \"ANSI\"):\n",
    "    line = line.replace('(', '')\n",
    "    f.write(line)\n",
    "f.close()\n"
   ]
  },
  {
   "cell_type": "markdown",
   "id": "28e95b91",
   "metadata": {},
   "source": [
    "https://blog.csdn.net/luoganttcc/article/details/100834731"
   ]
  },
  {
   "cell_type": "markdown",
   "id": "f1712b7a",
   "metadata": {},
   "source": [
    "字符串替换https://www.runoob.com/python/att-string-replace.html"
   ]
  }
 ],
 "metadata": {
  "kernelspec": {
   "display_name": "Python 3 (ipykernel)",
   "language": "python",
   "name": "python3"
  },
  "language_info": {
   "codemirror_mode": {
    "name": "ipython",
    "version": 3
   },
   "file_extension": ".py",
   "mimetype": "text/x-python",
   "name": "python",
   "nbconvert_exporter": "python",
   "pygments_lexer": "ipython3",
   "version": "3.9.7"
  }
 },
 "nbformat": 4,
 "nbformat_minor": 5
}
