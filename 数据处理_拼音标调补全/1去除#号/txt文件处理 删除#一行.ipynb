{
 "cells": [
  {
   "cell_type": "code",
   "execution_count": 5,
   "id": "5c6c9c4e",
   "metadata": {},
   "outputs": [
    {
     "name": "stdout",
     "output_type": "stream",
     "text": [
      "Read file End or Error\n"
     ]
    }
   ],
   "source": [
    "import re\n",
    " \n",
    "lineList = []\n",
    "matchPattern = re.compile(r'#')\n",
    "file = open('./训练集.txt','r',encoding='ANSI')  \n",
    "while 1:\n",
    "    line = file.readline()\n",
    "    if not line:\n",
    "        print(\"Read file End or Error\")\n",
    "        break\n",
    "    elif matchPattern.search(line):\n",
    "        pass\n",
    "    else:\n",
    "        lineList.append(line)\n",
    "file.close()\n",
    "file = open('./修改后的训练集.txt' , 'w',encoding='ANSI')\n",
    "for i in lineList:\n",
    "    file.write(i)\n",
    "file.close()\n"
   ]
  },
  {
   "cell_type": "markdown",
   "id": "29c9f1d7",
   "metadata": {},
   "source": [
    "https://blog.csdn.net/bandaoyu/article/details/84990513"
   ]
  }
 ],
 "metadata": {
  "kernelspec": {
   "display_name": "Python 3 (ipykernel)",
   "language": "python",
   "name": "python3"
  },
  "language_info": {
   "codemirror_mode": {
    "name": "ipython",
    "version": 3
   },
   "file_extension": ".py",
   "mimetype": "text/x-python",
   "name": "python",
   "nbconvert_exporter": "python",
   "pygments_lexer": "ipython3",
   "version": "3.9.7"
  }
 },
 "nbformat": 4,
 "nbformat_minor": 5
}
