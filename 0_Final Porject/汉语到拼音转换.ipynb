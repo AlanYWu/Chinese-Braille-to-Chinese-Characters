{
 "cells": [
  {
   "cell_type": "code",
   "execution_count": 2,
   "metadata": {},
   "outputs": [
    {
     "name": "stdout",
     "output_type": "stream",
     "text": [
      "Collecting Pinyin2Hanzi\n",
      "  Downloading Pinyin2Hanzi-0.1.1.tar.gz (6.1 MB)\n",
      "     ---------------------------------------- 6.1/6.1 MB 311.8 kB/s eta 0:00:00\n",
      "  Preparing metadata (setup.py): started\n",
      "  Preparing metadata (setup.py): finished with status 'done'\n",
      "Building wheels for collected packages: Pinyin2Hanzi\n",
      "  Building wheel for Pinyin2Hanzi (setup.py): started\n",
      "  Building wheel for Pinyin2Hanzi (setup.py): finished with status 'done'\n",
      "  Created wheel for Pinyin2Hanzi: filename=Pinyin2Hanzi-0.1.1-py3-none-any.whl size=6337724 sha256=b15859b920835bb48ea6d957a39b6c478bb4fa44b6914cfdb45327cc8d487697\n",
      "  Stored in directory: c:\\users\\lenovo\\appdata\\local\\pip\\cache\\wheels\\61\\c7\\78\\ca47b21cd9fe2f3a83f3a38f07182af71aa52aa0bbc5441acb\n",
      "Successfully built Pinyin2Hanzi\n",
      "Installing collected packages: Pinyin2Hanzi\n",
      "Successfully installed Pinyin2Hanzi-0.1.1\n"
     ]
    }
   ],
   "source": [
    "!pip install Pinyin2Hanzi"
   ]
  },
  {
   "cell_type": "code",
   "execution_count": 4,
   "metadata": {},
   "outputs": [
    {
     "name": "stdout",
     "output_type": "stream",
     "text": [
      "['你', '好呀']\n",
      "['你好', '压']\n",
      "['你好', '亚']\n",
      "['你好', '雅']\n",
      "['你好', '牙']\n",
      "['你好', '涯']\n",
      "['你好', '呀']\n",
      "['你好', '丫']\n",
      "['你好', '讶']\n",
      "['你好', '押']\n",
      "None\n"
     ]
    }
   ],
   "source": [
    "\n",
    "def pinyin_2_hanzi(pinyinList):\n",
    "    from Pinyin2Hanzi import DefaultDagParams\n",
    "    from Pinyin2Hanzi import dag\n",
    "\n",
    "    dagParams = DefaultDagParams()\n",
    "    # path_num：候选值，可设置一个或多个\n",
    "    result = dag(dagParams, pinyinList, path_num=10, log=True)\n",
    "    for item in result:\n",
    "        # socre = item.score # 得分\n",
    "        res = item.path # 转换结果\n",
    "        print(res)\n",
    "\n",
    "if __name__ == '__main__':\n",
    "    lists = ['ni', 'hao', 'ya']\n",
    "    print(pinyin_2_hanzi(lists))\n",
    "    \n",
    "\n",
    "# # 输出结果\n",
    "# ['你', '好呀']\n",
    "# ['你好', '压']\n",
    "# ['你好', '亚']\n",
    "# ['你好', '雅']\n",
    "# ['你好', '牙']\n",
    "# ['你好', '涯']\n",
    "# ['你好', '呀']\n",
    "# ['你好', '丫']\n",
    "# ['你好', '讶']\n",
    "# ['你好', '押']"
   ]
  },
  {
   "cell_type": "code",
   "execution_count": null,
   "metadata": {},
   "outputs": [],
   "source": []
  }
 ],
 "metadata": {
  "kernelspec": {
   "display_name": "base",
   "language": "python",
   "name": "python3"
  },
  "language_info": {
   "codemirror_mode": {
    "name": "ipython",
    "version": 3
   },
   "file_extension": ".py",
   "mimetype": "text/x-python",
   "name": "python",
   "nbconvert_exporter": "python",
   "pygments_lexer": "ipython3",
   "version": "3.9.13"
  },
  "orig_nbformat": 4,
  "vscode": {
   "interpreter": {
    "hash": "b09ec625f77bf4fd762565a912b97636504ad6ec901eb2d0f4cf5a7de23e1ee5"
   }
  }
 },
 "nbformat": 4,
 "nbformat_minor": 2
}
