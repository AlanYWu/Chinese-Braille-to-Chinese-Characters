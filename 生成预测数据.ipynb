{
 "cells": [
  {
   "cell_type": "markdown",
   "id": "1d58cd6c",
   "metadata": {},
   "source": [
    "BiLSTM序列标注---盲汉翻译"
   ]
  },
  {
   "cell_type": "code",
   "execution_count": 1,
   "id": "f10a85cc",
   "metadata": {},
   "outputs": [],
   "source": [
    "import torch\n",
    "import torch.nn as nn\n",
    "import numpy as np"
   ]
  },
  {
   "cell_type": "code",
   "execution_count": 2,
   "id": "45aa14d5",
   "metadata": {},
   "outputs": [],
   "source": [
    "word_to_ix = np.load(\"word_to_ix.npy\",allow_pickle=True)\n",
    "tag_to_ix = np.load(\"tag_to_ix.npy\",allow_pickle=True)"
   ]
  },
  {
   "cell_type": "code",
   "execution_count": 3,
   "id": "ede30519",
   "metadata": {},
   "outputs": [
    {
     "data": {
      "text/plain": [
       "array({'0': 0, '1': 1, '2': 2, '3': 3, '4': 4, ',': 5, '.': 6, '?': 7, '!': 8},\n",
       "      dtype=object)"
      ]
     },
     "execution_count": 3,
     "metadata": {},
     "output_type": "execute_result"
    }
   ],
   "source": [
    "tag_to_ix"
   ]
  },
  {
   "cell_type": "code",
   "execution_count": 191,
   "id": "c6eec1f5",
   "metadata": {},
   "outputs": [],
   "source": [
    "def prepare_sequence(seq, to_ix):\n",
    "    idxs = [to_ix.item()[w.encode() ] for w in seq]\n",
    "    return torch.tensor(idxs, dtype=torch.long)\n",
    "\n",
    "f = open(\"./Testing data.txt\", \"r\",encoding='UTF8') # r\", encoding='UTF8')\n",
    "#计数 数一共有多少行\n",
    "lines = f.readlines()\n",
    "testing_data = []\n",
    "for index, line in enumerate(lines):\n",
    "    line = lines[index].rstrip().split()\n",
    "    # data = prepare_sequence(line,word_to_ix)\n",
    "    # print(type(data))\n",
    "    testing_data.append(line)\n",
    " "
   ]
  },
  {
   "cell_type": "code",
   "execution_count": 192,
   "id": "aef6258d",
   "metadata": {},
   "outputs": [
    {
     "data": {
      "text/plain": [
       "[['3', '2', '3', '0', '4', '4', '0'], ['4', '3']]"
      ]
     },
     "execution_count": 192,
     "metadata": {},
     "output_type": "execute_result"
    }
   ],
   "source": [
    "import torch.nn.functional as F\n",
    "class LSTMTagger(nn.Module):\n",
    "\n",
    "    def __init__(self, embedding_dim, hidden_dim, vocab_size, tagset_size):\n",
    "        super(LSTMTagger, self).__init__()\n",
    "        self.hidden_dim = hidden_dim\n",
    "\n",
    "        self.word_embeddings = nn.Embedding(vocab_size, embedding_dim)\n",
    "\n",
    "        # LSTM以word_embeddings作为输入, 输出维度为 hidden_dim 的隐藏状态值\n",
    "        self.lstm = nn.LSTM(embedding_dim, hidden_dim)\n",
    "\n",
    "        # 线性层将隐藏状态空间映射到标注空间\n",
    "        self.hidden2tag = nn.Linear(hidden_dim, tagset_size)\n",
    "        self.hidden = self.init_hidden()\n",
    "\n",
    "    def init_hidden(self):\n",
    "        # 一开始并没有隐藏状态所以我们要先初始化一个\n",
    "        # 关于维度为什么这么设计请参考Pytoch相关文档\n",
    "        # 各个维度的含义是 (num_layers*num_directions, batch_size, hidden_dim)\n",
    "        return (torch.zeros(1, 1, self.hidden_dim),\n",
    "                torch.zeros(1, 1, self.hidden_dim))\n",
    "\n",
    "    def forward(self, sentence):\n",
    "        embeds = self.word_embeddings(sentence)\n",
    "        lstm_out, self.hidden = self.lstm(\n",
    "            embeds.view(len(sentence), 1, -1), self.hidden)\n",
    "        tag_space = self.hidden2tag(lstm_out.view(len(sentence), -1))\n",
    "        tag_scores = F.log_softmax(tag_space, dim=1)\n",
    "        return tag_scores\n",
    "    def predict(self,data,word_to_ix,tag_to_ix):\n",
    "        # The input data is 2 dimensional list.\n",
    "        self.zero_grad()\n",
    "        result = []\n",
    "        for i in range(len(data)):\n",
    "            pre_data = data[i]\n",
    "            pre_data = prepare_sequence(pre_data,word_to_ix)\n",
    "            self.hidden = self.init_hidden()\n",
    "            tag_scores = self(pre_data)\n",
    "            tag_scores = torch.argmax(tag_scores, dim=-1)\n",
    "            def decode(tag_scores,to_ix):\n",
    "                to_ix = {v: k for k, v in to_ix.item().items()}\n",
    "                return [to_ix[w.item()] for w in tag_scores]\n",
    "            tag_scores = decode(tag_scores,tag_to_ix)\n",
    "            result.append(tag_scores)\n",
    "        return result\n",
    "new_m = LSTMTagger(60,130,len(word_to_ix.item()),len(tag_to_ix.item()))\n",
    "new_m.load_state_dict(torch.load('LSTMTagger[130,60].pt'))\n",
    "new_m.predict(testing_data,word_to_ix,tag_to_ix)"
   ]
  }
 ],
 "metadata": {
  "kernelspec": {
   "display_name": "Python 3.9.13 ('base')",
   "language": "python",
   "name": "python3"
  },
  "language_info": {
   "codemirror_mode": {
    "name": "ipython",
    "version": 3
   },
   "file_extension": ".py",
   "mimetype": "text/x-python",
   "name": "python",
   "nbconvert_exporter": "python",
   "pygments_lexer": "ipython3",
   "version": "3.9.13"
  },
  "vscode": {
   "interpreter": {
    "hash": "b09ec625f77bf4fd762565a912b97636504ad6ec901eb2d0f4cf5a7de23e1ee5"
   }
  }
 },
 "nbformat": 4,
 "nbformat_minor": 5
}
