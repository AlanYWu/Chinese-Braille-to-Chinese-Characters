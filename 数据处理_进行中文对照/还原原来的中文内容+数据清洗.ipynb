{
 "cells": [
  {
   "cell_type": "code",
   "execution_count": 11,
   "id": "f8da8160",
   "metadata": {},
   "outputs": [
    {
     "data": {
      "text/plain": [
       "'在公共汽车上,玛丽给老大娘让了一个座位.\\n'"
      ]
     },
     "execution_count": 11,
     "metadata": {},
     "output_type": "execute_result"
    }
   ],
   "source": [
    "import re\n",
    "f = open(\"./目标.txt\",\"w\",encoding = \"ANSI\")\n",
    "for line in open(\"./训练集.txt\",encoding = \"ANSI\"):\n",
    "    line = line.replace('(', '')\n",
    "    line = line.replace(')', '')\n",
    "    line = line.replace('^[0-9]*$', ' ')\n",
    "    line = line.replace('^[0-9]*$', ' ') #正则表达式的语法 去除非法字符\n",
    "    line = line.replace(\"。\",\".\")\n",
    "    line = line.replace(\"，\",\",\")\n",
    "    line = re.sub(\"[a-zA-Z]\",\"\",line)\n",
    "    line = re.sub(\"ā|á|ǎ|à|ō|ó|ǒ|ò|ê|ē|é|ě|è|ī|í|ǐ|ì|ū|ú|ǔ|ù|ǖ|ǘ|ǚ|ǜ|ü\",\"\",line)\n",
    "\n",
    "    f.write(line)\n",
    "f.close()\n",
    "line\n"
   ]
  }
 ],
 "metadata": {
  "kernelspec": {
   "display_name": "Python 3 (ipykernel)",
   "language": "python",
   "name": "python3"
  },
  "language_info": {
   "codemirror_mode": {
    "name": "ipython",
    "version": 3
   },
   "file_extension": ".py",
   "mimetype": "text/x-python",
   "name": "python",
   "nbconvert_exporter": "python",
   "pygments_lexer": "ipython3",
   "version": "3.9.13"
  }
 },
 "nbformat": 4,
 "nbformat_minor": 5
}
