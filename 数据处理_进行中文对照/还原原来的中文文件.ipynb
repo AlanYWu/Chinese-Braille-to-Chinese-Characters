{
 "cells": [
  {
   "cell_type": "code",
   "execution_count": 5,
   "id": "f8da8160",
   "metadata": {},
   "outputs": [],
   "source": [
    "import re\n",
    "f= open(\"./目标.txt\",\"w\",encoding = \"ANSI\")\n",
    "for line in open(\"./训练集.txt\",encoding = \"ANSI\"):\n",
    "    line = line.replace('(', '')\n",
    "    line = line.replace(')', '')\n",
    "    line = line.replace('^[0-9]*$', ' ')\n",
    "    line = line.replace('^[0-9]*$', ' ') #正则表达式的语法 去除非法字符\n",
    "    line = line.replace(\"。\",\".\")\n",
    "    line = line.replace(\"，\",\",\")\n",
    "\n",
    "    f.write(line)\n",
    "f.close()\n",
    "line\n"
   ]
  },
  {
   "cell_type": "code",
   "execution_count": 7,
   "id": "7d5c2b49",
   "metadata": {},
   "outputs": [
    {
     "data": {
      "text/plain": [
       "'在zài)公gōng)共gòng)汽qì)车chē)上shàng)，玛mǎ)丽lì)给gěi)老lǎo)大dà)娘niáng)让ràng)了le)一yī)个gè)座zuò)位wèi)。\\n'"
      ]
     },
     "execution_count": 7,
     "metadata": {},
     "output_type": "execute_result"
    }
   ],
   "source": []
  },
  {
   "cell_type": "markdown",
   "id": "28e95b91",
   "metadata": {},
   "source": [
    "https://blog.csdn.net/luoganttcc/article/details/100834731"
   ]
  },
  {
   "cell_type": "markdown",
   "id": "f1712b7a",
   "metadata": {},
   "source": [
    "字符串替换https://www.runoob.com/python/att-string-replace.html"
   ]
  }
 ],
 "metadata": {
  "kernelspec": {
   "display_name": "Python 3 (ipykernel)",
   "language": "python",
   "name": "python3"
  },
  "language_info": {
   "codemirror_mode": {
    "name": "ipython",
    "version": 3
   },
   "file_extension": ".py",
   "mimetype": "text/x-python",
   "name": "python",
   "nbconvert_exporter": "python",
   "pygments_lexer": "ipython3",
   "version": "3.9.13"
  }
 },
 "nbformat": 4,
 "nbformat_minor": 5
}
