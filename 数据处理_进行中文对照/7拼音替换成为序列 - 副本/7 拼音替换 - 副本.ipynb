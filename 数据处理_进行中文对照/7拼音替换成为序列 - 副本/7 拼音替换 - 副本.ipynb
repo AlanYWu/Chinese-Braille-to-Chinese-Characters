{
 "cells": [
  {
   "cell_type": "code",
   "execution_count": 2,
   "id": "92856dd6",
   "metadata": {},
   "outputs": [],
   "source": [
    "def line_label(line = 'line'):\n",
    "    line_head = []\n",
    "    for i in line:\n",
    "        if 'ā' in i or 'ō'in i or 'ē'in i or 'ī'in i or 'ū'in i or 'ǖ'in i:\n",
    "            line_head.append('1')\n",
    "            if ',' in i:\n",
    "                line_head.append(',')\n",
    "            if '.' in i:\n",
    "                line_head.append('.')\n",
    "        elif 'á'in i or  'ó'in i or 'é'in i or 'í' in i or 'ú'in i or 'ǘ'in i:\n",
    "            line_head.append('2')\n",
    "            if ',' in i:\n",
    "                line_head.append(',')\n",
    "            if '.' in i:\n",
    "                line_head.append('.')\n",
    "        elif 'ǎ'in i or 'ǒ'in i or 'ǐ'in i or 'ǔ'in i or 'ǚ'in i or 'ě' in i:\n",
    "            line_head.append('3')\n",
    "            if ',' in i:\n",
    "                line_head.append(',')\n",
    "            if '.' in i:\n",
    "                line_head.append('.')\n",
    "        elif 'à'in i or 'ò'in i or 'è'in i or 'ì'in i or 'ù'in i or 'ǜ'in i:\n",
    "            line_head.append('4')\n",
    "            if ',' in i:\n",
    "                line_head.append(',')\n",
    "            if '.' in i:\n",
    "                line_head.append('.')\n",
    "        else:\n",
    "            line_head.append('0')\n",
    "            if ',' in i:\n",
    "                line_head.append(',')\n",
    "            if '.' in i:\n",
    "                line_head.append('.')\n",
    "    return line_head"
   ]
  },
  {
   "cell_type": "code",
   "execution_count": 5,
   "id": "f8da8160",
   "metadata": {},
   "outputs": [],
   "source": [
    "import re\n",
    "f= open(\"./目标.txt\",\"w\",encoding = \"ANSI\")\n",
    "for line in open(\"./训练集.txt\",encoding = \"ANSI\"):\n",
    "    line = line.split()\n",
    "    line_label(line)\n",
    "    line=' '.join(line)\n",
    "    f.write(line)\n",
    "    f.write('\\n')\n",
    "f.close()\n"
   ]
  },
  {
   "cell_type": "markdown",
   "id": "621d7437",
   "metadata": {},
   "source": [
    "如何f.write()换行\n",
    "https://www.cnblogs.com/isme-zjh/p/11585462.html"
   ]
  },
  {
   "cell_type": "markdown",
   "id": "aacfcdb8",
   "metadata": {},
   "source": [
    "如何连接列表\n",
    "https://blog.csdn.net/DeniuHe/article/details/86905359"
   ]
  },
  {
   "cell_type": "markdown",
   "id": "6f3c30a3",
   "metadata": {},
   "source": [
    "如何判断元素是不是在列表当中\n",
    "https://blog.csdn.net/weixin_42445362/article/details/109819677"
   ]
  }
 ],
 "metadata": {
  "kernelspec": {
   "display_name": "Python 3 (ipykernel)",
   "language": "python",
   "name": "python3"
  },
  "language_info": {
   "codemirror_mode": {
    "name": "ipython",
    "version": 3
   },
   "file_extension": ".py",
   "mimetype": "text/x-python",
   "name": "python",
   "nbconvert_exporter": "python",
   "pygments_lexer": "ipython3",
   "version": "3.9.7"
  }
 },
 "nbformat": 4,
 "nbformat_minor": 5
}
