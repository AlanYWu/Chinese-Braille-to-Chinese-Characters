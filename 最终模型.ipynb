{
 "cells": [
  {
   "cell_type": "markdown",
   "id": "1d58cd6c",
   "metadata": {},
   "source": [
    "BiLSTM序列标注---盲汉翻译"
   ]
  },
  {
   "cell_type": "code",
   "execution_count": 1,
   "id": "f10a85cc",
   "metadata": {},
   "outputs": [],
   "source": [
    "import torch\n",
    "import torch.nn as nn\n",
    "import torch.nn.functional as F\n",
    "import numpy as np\n",
    "import random # for dataset shuffling\n",
    "import openpyxl # for recording experimental value\n",
    "import copy"
   ]
  },
  {
   "cell_type": "markdown",
   "id": "636f44cf",
   "metadata": {},
   "source": [
    "https://blog.csdn.net/vivian_ll/article/details/93894151"
   ]
  },
  {
   "cell_type": "code",
   "execution_count": 5,
   "id": "aef6258d",
   "metadata": {},
   "outputs": [],
   "source": [
    "class LSTMTagger(nn.Module):\n",
    "\n",
    "    def __init__(self, embedding_dim, hidden_dim, vocab_size, tagset_size):\n",
    "        super(LSTMTagger, self).__init__()\n",
    "        self.hidden_dim = hidden_dim\n",
    "\n",
    "        self.word_embeddings = nn.Embedding(vocab_size, embedding_dim)\n",
    "\n",
    "        # LSTM以word_embeddings作为输入, 输出维度为 hidden_dim 的隐藏状态值\n",
    "        self.lstm = nn.LSTM(embedding_dim, hidden_dim)\n",
    "\n",
    "        # 线性层将隐藏状态空间映射到标注空间\n",
    "        self.hidden2tag = nn.Linear(hidden_dim, tagset_size)\n",
    "        self.hidden = self.init_hidden()\n",
    "\n",
    "    def init_hidden(self):\n",
    "        # 各个维度的含义是 (num_layers*num_directions, batch_size, hidden_dim)\n",
    "        return (torch.zeros(1, 1, self.hidden_dim),\n",
    "                torch.zeros(1, 1, self.hidden_dim))\n",
    "\n",
    "    def forward(self, sentence):\n",
    "        embeds = self.word_embeddings(sentence)\n",
    "        lstm_out, self.hidden = self.lstm(\n",
    "            embeds.view(len(sentence), 1, -1), self.hidden)\n",
    "        tag_space = self.hidden2tag(lstm_out.view(len(sentence), -1))\n",
    "        tag_scores = F.log_softmax(tag_space, dim=1)\n",
    "        return tag_scores"
   ]
  },
  {
   "cell_type": "code",
   "execution_count": 6,
   "id": "c6eec1f5",
   "metadata": {},
   "outputs": [],
   "source": [
    "#Making training data\n",
    "original_data = []\n",
    "t = open('./对应拼音标调.txt',\"r\", encoding='UTF8')\n",
    "f = open(\"./训练集.txt\", \"rb\")\n",
    "#计数 数一共有多少行\n",
    "lines = f.readlines()\n",
    "tags = t.readlines()\n",
    "\n",
    "# Training data: 6692(total number of sentences)*2(line&tag)\n",
    "for index, line in enumerate(lines):\n",
    "    line = lines[index].rstrip().split()\n",
    "    tag = tags[index].rstrip().split()\n",
    "    original_data.append((line, tag))"
   ]
  },
  {
   "cell_type": "code",
   "execution_count": 7,
   "id": "f1901deb",
   "metadata": {},
   "outputs": [],
   "source": [
    "word_to_ix = {}\n",
    "for sent, tags in training_data:\n",
    "    for word in sent:\n",
    "        if word not in word_to_ix:\n",
    "            word_to_ix[word] = len(word_to_ix)\n",
    "\n",
    "tag_to_ix = {\"0\":0, \"1\":1, \"2\":2, \"3\":3, \"4\":4, \",\":5, \".\":6, \"?\":7,\"!\":8}\n",
    "\n",
    "np.save('word_to_ix.npy',word_to_ix)\n",
    "np.save('tag_to_ix.npy',tag_to_ix)"
   ]
  },
  {
   "cell_type": "code",
   "execution_count": 8,
   "id": "9ec3e6eb",
   "metadata": {},
   "outputs": [
    {
     "name": "stdout",
     "output_type": "stream",
     "text": [
      "Running on the CPU\n"
     ]
    }
   ],
   "source": [
    "# GPU training\n",
    "if torch.cuda.is_available():\n",
    "    device = torch.device(\"cuda:0\")\n",
    "    print(\"Running on the GPU\")\n",
    "    print(\"number of device\",torch.cuda.device_count())\n",
    "else:\n",
    "    device = torch.device(\"cpu\")\n",
    "    print(\"Running on the CPU\")"
   ]
  },
  {
   "cell_type": "code",
   "execution_count": 9,
   "id": "a44e7ed3",
   "metadata": {},
   "outputs": [
    {
     "name": "stdout",
     "output_type": "stream",
     "text": [
      "0\n"
     ]
    },
    {
     "name": "stderr",
     "output_type": "stream",
     "text": [
      "100%|██████████| 5000/5000 [00:31<00:00, 160.95it/s]\n",
      "100%|██████████| 1000/1000 [00:02<00:00, 481.88it/s]\n"
     ]
    },
    {
     "name": "stdout",
     "output_type": "stream",
     "text": [
      "1\n"
     ]
    },
    {
     "name": "stderr",
     "output_type": "stream",
     "text": [
      "100%|██████████| 5000/5000 [00:27<00:00, 184.25it/s]\n",
      "100%|██████████| 1000/1000 [00:01<00:00, 507.27it/s]\n"
     ]
    },
    {
     "name": "stdout",
     "output_type": "stream",
     "text": [
      "2\n"
     ]
    },
    {
     "name": "stderr",
     "output_type": "stream",
     "text": [
      "100%|██████████| 5000/5000 [00:27<00:00, 183.08it/s]\n",
      "100%|██████████| 1000/1000 [00:02<00:00, 488.47it/s]\n"
     ]
    },
    {
     "name": "stdout",
     "output_type": "stream",
     "text": [
      "3\n"
     ]
    },
    {
     "name": "stderr",
     "output_type": "stream",
     "text": [
      "100%|██████████| 5000/5000 [00:27<00:00, 182.86it/s]\n",
      "100%|██████████| 1000/1000 [00:02<00:00, 489.40it/s]\n"
     ]
    },
    {
     "name": "stdout",
     "output_type": "stream",
     "text": [
      "4\n"
     ]
    },
    {
     "name": "stderr",
     "output_type": "stream",
     "text": [
      "100%|██████████| 5000/5000 [00:30<00:00, 165.50it/s]\n",
      "100%|██████████| 1000/1000 [00:02<00:00, 414.55it/s]\n"
     ]
    },
    {
     "name": "stdout",
     "output_type": "stream",
     "text": [
      "5\n"
     ]
    },
    {
     "name": "stderr",
     "output_type": "stream",
     "text": [
      "100%|██████████| 5000/5000 [00:28<00:00, 173.23it/s]\n",
      "100%|██████████| 1000/1000 [00:02<00:00, 487.90it/s]\n"
     ]
    },
    {
     "name": "stdout",
     "output_type": "stream",
     "text": [
      "6\n"
     ]
    },
    {
     "name": "stderr",
     "output_type": "stream",
     "text": [
      "100%|██████████| 5000/5000 [00:28<00:00, 174.23it/s]\n",
      "100%|██████████| 1000/1000 [00:02<00:00, 454.01it/s]\n"
     ]
    },
    {
     "name": "stdout",
     "output_type": "stream",
     "text": [
      "7\n"
     ]
    },
    {
     "name": "stderr",
     "output_type": "stream",
     "text": [
      "100%|██████████| 5000/5000 [00:28<00:00, 175.80it/s]\n",
      "100%|██████████| 1000/1000 [00:02<00:00, 467.48it/s]\n"
     ]
    },
    {
     "name": "stdout",
     "output_type": "stream",
     "text": [
      "8\n"
     ]
    },
    {
     "name": "stderr",
     "output_type": "stream",
     "text": [
      "100%|██████████| 5000/5000 [00:28<00:00, 174.09it/s]\n",
      "100%|██████████| 1000/1000 [00:02<00:00, 447.14it/s]\n"
     ]
    },
    {
     "name": "stdout",
     "output_type": "stream",
     "text": [
      "9\n"
     ]
    },
    {
     "name": "stderr",
     "output_type": "stream",
     "text": [
      "100%|██████████| 5000/5000 [00:29<00:00, 168.92it/s]\n",
      "100%|██████████| 1000/1000 [00:02<00:00, 430.44it/s]\n"
     ]
    },
    {
     "name": "stdout",
     "output_type": "stream",
     "text": [
      "10\n"
     ]
    },
    {
     "name": "stderr",
     "output_type": "stream",
     "text": [
      "100%|██████████| 5000/5000 [00:30<00:00, 165.90it/s]\n",
      "100%|██████████| 1000/1000 [00:02<00:00, 433.05it/s]\n"
     ]
    },
    {
     "name": "stdout",
     "output_type": "stream",
     "text": [
      "11\n"
     ]
    },
    {
     "name": "stderr",
     "output_type": "stream",
     "text": [
      "100%|██████████| 5000/5000 [00:30<00:00, 166.22it/s]\n",
      "100%|██████████| 1000/1000 [00:02<00:00, 425.13it/s]\n"
     ]
    },
    {
     "name": "stdout",
     "output_type": "stream",
     "text": [
      "12\n"
     ]
    },
    {
     "name": "stderr",
     "output_type": "stream",
     "text": [
      "100%|██████████| 5000/5000 [00:32<00:00, 154.52it/s]\n",
      "100%|██████████| 1000/1000 [00:02<00:00, 432.49it/s]\n"
     ]
    },
    {
     "name": "stdout",
     "output_type": "stream",
     "text": [
      "13\n"
     ]
    },
    {
     "name": "stderr",
     "output_type": "stream",
     "text": [
      "100%|██████████| 5000/5000 [00:31<00:00, 160.50it/s]\n",
      "100%|██████████| 1000/1000 [00:02<00:00, 380.24it/s]\n"
     ]
    },
    {
     "name": "stdout",
     "output_type": "stream",
     "text": [
      "14\n"
     ]
    },
    {
     "name": "stderr",
     "output_type": "stream",
     "text": [
      "100%|██████████| 5000/5000 [00:31<00:00, 159.33it/s]\n",
      "100%|██████████| 1000/1000 [00:02<00:00, 410.82it/s]\n"
     ]
    },
    {
     "name": "stdout",
     "output_type": "stream",
     "text": [
      "15\n"
     ]
    },
    {
     "name": "stderr",
     "output_type": "stream",
     "text": [
      "100%|██████████| 5000/5000 [00:30<00:00, 163.26it/s]\n",
      "100%|██████████| 1000/1000 [00:02<00:00, 427.60it/s]\n"
     ]
    },
    {
     "name": "stdout",
     "output_type": "stream",
     "text": [
      "16\n"
     ]
    },
    {
     "name": "stderr",
     "output_type": "stream",
     "text": [
      "100%|██████████| 5000/5000 [00:30<00:00, 162.42it/s]\n",
      "100%|██████████| 1000/1000 [00:02<00:00, 419.11it/s]\n"
     ]
    },
    {
     "name": "stdout",
     "output_type": "stream",
     "text": [
      "17\n"
     ]
    },
    {
     "name": "stderr",
     "output_type": "stream",
     "text": [
      "100%|██████████| 5000/5000 [00:30<00:00, 161.40it/s]\n",
      "100%|██████████| 1000/1000 [00:02<00:00, 436.58it/s]\n"
     ]
    },
    {
     "name": "stdout",
     "output_type": "stream",
     "text": [
      "18\n"
     ]
    },
    {
     "name": "stderr",
     "output_type": "stream",
     "text": [
      "100%|██████████| 5000/5000 [00:30<00:00, 161.74it/s]\n",
      "100%|██████████| 1000/1000 [00:02<00:00, 433.57it/s]\n"
     ]
    },
    {
     "name": "stdout",
     "output_type": "stream",
     "text": [
      "19\n"
     ]
    },
    {
     "name": "stderr",
     "output_type": "stream",
     "text": [
      "100%|██████████| 5000/5000 [00:31<00:00, 157.52it/s]\n",
      "100%|██████████| 1000/1000 [00:02<00:00, 434.86it/s]\n"
     ]
    },
    {
     "name": "stdout",
     "output_type": "stream",
     "text": [
      "20\n"
     ]
    },
    {
     "name": "stderr",
     "output_type": "stream",
     "text": [
      "100%|██████████| 5000/5000 [00:30<00:00, 164.11it/s]\n",
      "100%|██████████| 1000/1000 [00:02<00:00, 411.19it/s]\n"
     ]
    },
    {
     "name": "stdout",
     "output_type": "stream",
     "text": [
      "21\n"
     ]
    },
    {
     "name": "stderr",
     "output_type": "stream",
     "text": [
      "100%|██████████| 5000/5000 [00:30<00:00, 162.28it/s]\n",
      "100%|██████████| 1000/1000 [00:02<00:00, 420.67it/s]\n"
     ]
    },
    {
     "name": "stdout",
     "output_type": "stream",
     "text": [
      "22\n"
     ]
    },
    {
     "name": "stderr",
     "output_type": "stream",
     "text": [
      "100%|██████████| 5000/5000 [00:30<00:00, 163.62it/s]\n",
      "100%|██████████| 1000/1000 [00:02<00:00, 422.67it/s]\n"
     ]
    },
    {
     "name": "stdout",
     "output_type": "stream",
     "text": [
      "23\n"
     ]
    },
    {
     "name": "stderr",
     "output_type": "stream",
     "text": [
      "100%|██████████| 5000/5000 [00:30<00:00, 161.68it/s]\n",
      "100%|██████████| 1000/1000 [00:02<00:00, 435.11it/s]\n"
     ]
    },
    {
     "name": "stdout",
     "output_type": "stream",
     "text": [
      "24\n"
     ]
    },
    {
     "name": "stderr",
     "output_type": "stream",
     "text": [
      "100%|██████████| 5000/5000 [00:30<00:00, 163.14it/s]\n",
      "100%|██████████| 1000/1000 [00:02<00:00, 424.83it/s]\n"
     ]
    },
    {
     "name": "stdout",
     "output_type": "stream",
     "text": [
      "25\n"
     ]
    },
    {
     "name": "stderr",
     "output_type": "stream",
     "text": [
      "100%|██████████| 5000/5000 [00:30<00:00, 161.76it/s]\n",
      "100%|██████████| 1000/1000 [00:02<00:00, 432.81it/s]\n"
     ]
    },
    {
     "name": "stdout",
     "output_type": "stream",
     "text": [
      "26\n"
     ]
    },
    {
     "name": "stderr",
     "output_type": "stream",
     "text": [
      "100%|██████████| 5000/5000 [00:31<00:00, 159.17it/s]\n",
      "100%|██████████| 1000/1000 [00:02<00:00, 424.71it/s]\n"
     ]
    },
    {
     "name": "stdout",
     "output_type": "stream",
     "text": [
      "27\n"
     ]
    },
    {
     "name": "stderr",
     "output_type": "stream",
     "text": [
      "100%|██████████| 5000/5000 [00:30<00:00, 162.24it/s]\n",
      "100%|██████████| 1000/1000 [00:02<00:00, 430.50it/s]\n"
     ]
    },
    {
     "name": "stdout",
     "output_type": "stream",
     "text": [
      "28\n"
     ]
    },
    {
     "name": "stderr",
     "output_type": "stream",
     "text": [
      "100%|██████████| 5000/5000 [00:30<00:00, 162.27it/s]\n",
      "100%|██████████| 1000/1000 [00:02<00:00, 418.14it/s]\n"
     ]
    },
    {
     "name": "stdout",
     "output_type": "stream",
     "text": [
      "29\n"
     ]
    },
    {
     "name": "stderr",
     "output_type": "stream",
     "text": [
      "100%|██████████| 5000/5000 [00:30<00:00, 164.04it/s]\n",
      "100%|██████████| 1000/1000 [00:02<00:00, 436.15it/s]\n"
     ]
    },
    {
     "name": "stdout",
     "output_type": "stream",
     "text": [
      "0\n"
     ]
    },
    {
     "name": "stderr",
     "output_type": "stream",
     "text": [
      "100%|██████████| 5000/5000 [00:30<00:00, 163.56it/s]\n",
      "100%|██████████| 1000/1000 [00:02<00:00, 408.19it/s]\n"
     ]
    },
    {
     "name": "stdout",
     "output_type": "stream",
     "text": [
      "1\n"
     ]
    },
    {
     "name": "stderr",
     "output_type": "stream",
     "text": [
      "100%|██████████| 5000/5000 [00:30<00:00, 164.17it/s]\n",
      "100%|██████████| 1000/1000 [00:02<00:00, 413.33it/s]\n"
     ]
    },
    {
     "name": "stdout",
     "output_type": "stream",
     "text": [
      "2\n"
     ]
    },
    {
     "name": "stderr",
     "output_type": "stream",
     "text": [
      "100%|██████████| 5000/5000 [00:31<00:00, 160.28it/s]\n",
      "100%|██████████| 1000/1000 [00:02<00:00, 421.53it/s]\n"
     ]
    },
    {
     "name": "stdout",
     "output_type": "stream",
     "text": [
      "3\n"
     ]
    },
    {
     "name": "stderr",
     "output_type": "stream",
     "text": [
      "100%|██████████| 5000/5000 [00:30<00:00, 161.85it/s]\n",
      "100%|██████████| 1000/1000 [00:02<00:00, 432.44it/s]\n"
     ]
    },
    {
     "name": "stdout",
     "output_type": "stream",
     "text": [
      "4\n"
     ]
    },
    {
     "name": "stderr",
     "output_type": "stream",
     "text": [
      "100%|██████████| 5000/5000 [00:30<00:00, 163.25it/s]\n",
      "100%|██████████| 1000/1000 [00:02<00:00, 413.12it/s]\n"
     ]
    },
    {
     "name": "stdout",
     "output_type": "stream",
     "text": [
      "5\n"
     ]
    },
    {
     "name": "stderr",
     "output_type": "stream",
     "text": [
      "100%|██████████| 5000/5000 [00:30<00:00, 163.89it/s]\n",
      "100%|██████████| 1000/1000 [00:02<00:00, 426.13it/s]\n"
     ]
    },
    {
     "name": "stdout",
     "output_type": "stream",
     "text": [
      "6\n"
     ]
    },
    {
     "name": "stderr",
     "output_type": "stream",
     "text": [
      "100%|██████████| 5000/5000 [00:31<00:00, 160.85it/s]\n",
      "100%|██████████| 1000/1000 [00:02<00:00, 396.81it/s]\n"
     ]
    },
    {
     "name": "stdout",
     "output_type": "stream",
     "text": [
      "7\n"
     ]
    },
    {
     "name": "stderr",
     "output_type": "stream",
     "text": [
      "100%|██████████| 5000/5000 [00:28<00:00, 175.47it/s]\n",
      "100%|██████████| 1000/1000 [00:04<00:00, 248.71it/s]\n"
     ]
    },
    {
     "name": "stdout",
     "output_type": "stream",
     "text": [
      "8\n"
     ]
    },
    {
     "name": "stderr",
     "output_type": "stream",
     "text": [
      "100%|██████████| 5000/5000 [05:58<00:00, 13.93it/s] \n",
      "100%|██████████| 1000/1000 [00:02<00:00, 493.91it/s]\n"
     ]
    },
    {
     "name": "stdout",
     "output_type": "stream",
     "text": [
      "9\n"
     ]
    },
    {
     "name": "stderr",
     "output_type": "stream",
     "text": [
      " 15%|█▌        | 755/5000 [00:03<00:22, 188.39it/s]"
     ]
    },
    {
     "ename": "",
     "evalue": "",
     "output_type": "error",
     "traceback": [
      "\u001b[1;31mThe Kernel crashed while executing code in the the current cell or a previous cell. Please review the code in the cell(s) to identify a possible cause of the failure. Click <a href='https://aka.ms/vscodeJupyterKernelCrash'>here</a> for more info. View Jupyter <a href='command:jupyter.viewOutput'>log</a> for further details."
     ]
    }
   ],
   "source": [
    "# Training the LSTM\n",
    "\n",
    "#Monitor trianing results\n",
    "from torch.utils.tensorboard import SummaryWriter\n",
    "from tqdm import tqdm\n",
    "\n",
    "#Helper function to convert data into tensor\n",
    "def prepare_sequence(seq, to_ix):\n",
    "    idxs = [to_ix[w] for w in seq]\n",
    "    return torch.tensor(idxs, dtype=torch.long)\n",
    "\n",
    "# Accuracy recording in excel\n",
    "workbook = openpyxl.Workbook()\n",
    "worksheet = workbook.active\n",
    "\n",
    "\n",
    "\n",
    "#Change parameters to reach better performances\n",
    "for i in range(10):\n",
    "    # record results.\n",
    "    acc_repeat_train = ['acc_train']\n",
    "    acc_repeat_val = [\"acc_val\"]\n",
    "    loss_repeat_train = [\"loss_repeat_train\"]\n",
    "    loss_repeat_val = [\"loss_repeat_val\"]\n",
    "\n",
    "    # Repeat for three times in new model with different data. \n",
    "    for repeat in range(3):\n",
    "        #Set data writer\n",
    "        g = \"./log/\"+\"Hidden_dim_\"+str(EMBEDDING_DIM)+\"_Embedding_dim_\"+str(HIDDEN_DIM)+\"repeat_\"+str(repeat) \n",
    "        writer = SummaryWriter(g)\n",
    "\n",
    "        EMBEDDING_DIM = 60 \n",
    "        HIDDEN_DIM = 10 + 20*i\n",
    "        EPOCH=30\n",
    "        model = LSTMTagger(EMBEDDING_DIM, HIDDEN_DIM, len(word_to_ix), len(tag_to_ix))\n",
    "        model = model.to(device) # For GPU calculation\n",
    "        loss_function = nn.NLLLoss()\n",
    "        optimizer = torch.optim.SGD(model.parameters(), lr=0.1)\n",
    "\n",
    "\n",
    "        #Shuffle data\n",
    "        random.seed(repeat)\n",
    "        training_data = copy.deepcopy(original_data) #Deep copy to make sure the original data is not influenced.\n",
    "        random.shuffle(training_data)\n",
    "\n",
    "        #Record accuracy\n",
    "\n",
    "\n",
    "        for epoch in range(EPOCH):  \n",
    "            print(epoch)\n",
    "            training_acuracy = []\n",
    "            validation_acuracy = []\n",
    "            loss_list_train = []\n",
    "            loss_list_validation = []\n",
    "            for sentence, tags in tqdm(training_data[:5000]):\n",
    "                # Clear Gradient because PyTorch accumulate it\n",
    "                model.zero_grad()\n",
    "                # Clear hidden state for LSTM, seperate them from the last instance.\n",
    "                model.hidden = model.init_hidden()\n",
    "\n",
    "                # 准备网络输入, 将其变为词索引的 Tensor 类型数据            \n",
    "                sentence_in = prepare_sequence(sentence, word_to_ix)\n",
    "                targets = prepare_sequence(tags, tag_to_ix)\n",
    "                \n",
    "                # Forward propagation\n",
    "                tag_scores = model(sentence_in)\n",
    "\n",
    "                # 第四步: 计算损失和梯度值, 通过调用 optimizer.step() 来更新梯度\n",
    "                loss = loss_function(tag_scores, targets)\n",
    "                a = (torch.argmax(tag_scores, dim=-1) == targets).sum().item() / len(targets)\n",
    "                training_acuracy.append(a)\n",
    "                loss.backward()\n",
    "                optimizer.step()\n",
    "                loss_list_train.append(loss.item())\n",
    "            \n",
    "            #Validation\n",
    "            for sentence, tags in tqdm(training_data[5000:6000]):\n",
    "                model.zero_grad()\n",
    "                model.hidden = model.init_hidden()\n",
    "                # 准备网络输入, 将其变为词索引的 Tensor 类型数据\n",
    "                sentence_in = prepare_sequence(sentence, word_to_ix)\n",
    "                targets = prepare_sequence(tags, tag_to_ix)\n",
    "                # 第三步: 前向传播.\n",
    "                tag_scores = model(sentence_in)\n",
    "                #计算损失\n",
    "                a = (torch.argmax(tag_scores, dim=-1) == targets).sum().item() / len(targets)\n",
    "                validation_acuracy.append(a)\n",
    "                loss = loss_function(tag_scores, targets)\n",
    "                loss_list_validation.append(loss.item())\n",
    "            \n",
    "                \n",
    "            #LSTM 可以做padding\n",
    "            \n",
    "            # Calculate error and accuracy\n",
    "            # print(loss)\n",
    "            loss_train= sum(loss_list_train)\n",
    "            writer.add_scalar('Loss/training', loss_train, epoch)\n",
    "            loss_val = sum(loss_list_validation)\n",
    "            writer.add_scalar('Loss/validation', loss_val, epoch)\n",
    "            #print(torch.argmax(tag_scores, dim=-1))\n",
    "            # print(\"training_acuracy\",sum(training_acuracy)/len(training_acuracy))\n",
    "            acc_train = sum(training_acuracy)/len(training_acuracy)\n",
    "            writer.add_scalar('Accuracy/training', acc_train, epoch)\n",
    "            # print(\"validation_acuracy:\",sum(validation_acuracy)/len(validation_acuracy))\n",
    "            acc_val =sum(validation_acuracy)/len(validation_acuracy) \n",
    "            writer.add_scalar('Accuracy/validation', acc_val, epoch)\n",
    "\n",
    "        acc_repeat_train.append(acc_train)\n",
    "        acc_repeat_val.append(acc_val)\n",
    "        loss_repeat_train.append(loss_train)\n",
    "        loss_repeat_val.append(loss_val)         \n",
    "            \n",
    "        # 查看训练后的得分\n",
    "        # with torch.no_grad():\n",
    "        #     inputs = prepare_sequence(training_data[0][0], word_to_ix)\n",
    "        #     tag_scores = model(inputs)\n",
    "\n",
    "    worksheet.append(acc_repeat_train+acc_repeat_val+loss_train+loss_val)\n",
    "writer.close()\n",
    "workbook.save(\"Result.xlsx\")"
   ]
  }
 ],
 "metadata": {
  "kernelspec": {
   "display_name": "Python 3.9.13 ('base')",
   "language": "python",
   "name": "python3"
  },
  "language_info": {
   "codemirror_mode": {
    "name": "ipython",
    "version": 3
   },
   "file_extension": ".py",
   "mimetype": "text/x-python",
   "name": "python",
   "nbconvert_exporter": "python",
   "pygments_lexer": "ipython3",
   "version": "3.9.13"
  },
  "vscode": {
   "interpreter": {
    "hash": "b09ec625f77bf4fd762565a912b97636504ad6ec901eb2d0f4cf5a7de23e1ee5"
   }
  }
 },
 "nbformat": 4,
 "nbformat_minor": 5
}
