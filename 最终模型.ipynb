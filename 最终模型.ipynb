{
 "cells": [
  {
   "cell_type": "markdown",
   "id": "1d58cd6c",
   "metadata": {},
   "source": [
    "BiLSTM序列标注---盲汉翻译"
   ]
  },
  {
   "cell_type": "code",
   "execution_count": 13,
   "id": "f10a85cc",
   "metadata": {},
   "outputs": [],
   "source": [
    "import torch\n",
    "import torch.nn as nn\n",
    "import torch.nn.functional as F\n",
    "import numpy as np\n",
    "import pandas as pd"
   ]
  },
  {
   "cell_type": "markdown",
   "id": "636f44cf",
   "metadata": {},
   "source": [
    "https://blog.csdn.net/vivian_ll/article/details/93894151"
   ]
  },
  {
   "cell_type": "code",
   "execution_count": 14,
   "id": "aef6258d",
   "metadata": {},
   "outputs": [],
   "source": [
    "class LSTMTagger(nn.Module):\n",
    "\n",
    "    def __init__(self, embedding_dim, hidden_dim, vocab_size, tagset_size):\n",
    "        super(LSTMTagger, self).__init__()\n",
    "        self.hidden_dim = hidden_dim\n",
    "\n",
    "        self.word_embeddings = nn.Embedding(vocab_size, embedding_dim)\n",
    "\n",
    "        # LSTM以word_embeddings作为输入, 输出维度为 hidden_dim 的隐藏状态值\n",
    "        self.lstm = nn.LSTM(embedding_dim, hidden_dim)\n",
    "\n",
    "        # 线性层将隐藏状态空间映射到标注空间\n",
    "        self.hidden2tag = nn.Linear(hidden_dim, tagset_size)\n",
    "        self.hidden = self.init_hidden()\n",
    "\n",
    "    def init_hidden(self):\n",
    "        # 一开始并没有隐藏状态所以我们要先初始化一个\n",
    "        # 关于维度为什么这么设计请参考Pytoch相关文档\n",
    "        # 各个维度的含义是 (num_layers*num_directions, batch_size, hidden_dim)\n",
    "        return (torch.zeros(1, 1, self.hidden_dim),\n",
    "                torch.zeros(1, 1, self.hidden_dim))\n",
    "\n",
    "    def forward(self, sentence):\n",
    "        embeds = self.word_embeddings(sentence)\n",
    "        lstm_out, self.hidden = self.lstm(\n",
    "            embeds.view(len(sentence), 1, -1), self.hidden)\n",
    "        tag_space = self.hidden2tag(lstm_out.view(len(sentence), -1))\n",
    "        tag_scores = F.log_softmax(tag_space, dim=1)\n",
    "        return tag_scores"
   ]
  },
  {
   "cell_type": "code",
   "execution_count": 15,
   "id": "c6eec1f5",
   "metadata": {},
   "outputs": [],
   "source": [
    "#Making training data\n",
    "training_data = []\n",
    "t = open('./对应拼音标调.txt',\"r\", encoding='UTF8')\n",
    "f = open(\"./训练集.txt\", \"rb\")\n",
    "#计数 数一共有多少行\n",
    "lines = f.readlines()\n",
    "tags = t.readlines()\n",
    "\n",
    "# Training data: 6692(total number of sentences)*2(line&tag)\n",
    "for index, line in enumerate(lines):\n",
    "    line = lines[index].rstrip().split()\n",
    "    tag = tags[index].rstrip().split()\n",
    "    training_data.append((line, tag))"
   ]
  },
  {
   "cell_type": "code",
   "execution_count": 16,
   "id": "f1901deb",
   "metadata": {},
   "outputs": [],
   "source": [
    "word_to_ix = {}\n",
    "for sent, tags in training_data:\n",
    "    for word in sent:\n",
    "        if word not in word_to_ix:\n",
    "            word_to_ix[word] = len(word_to_ix)\n",
    "\n",
    "tag_to_ix = {\"0\":0, \"1\":1, \"2\":2, \"3\":3, \"4\":4, \",\":5, \".\":6, \"?\":7,\"!\":8}\n",
    "\n",
    "np.save('word_to_ix.npy',word_to_ix)\n",
    "np.save('tag_to_ix.npy',tag_to_ix)"
   ]
  },
  {
   "cell_type": "code",
   "execution_count": 29,
   "id": "a44e7ed3",
   "metadata": {},
   "outputs": [
    {
     "name": "stdout",
     "output_type": "stream",
     "text": [
      "0\n"
     ]
    },
    {
     "name": "stderr",
     "output_type": "stream",
     "text": [
      "100%|██████████| 5000/5000 [00:31<00:00, 158.83it/s]\n",
      "100%|██████████| 1000/1000 [00:02<00:00, 389.52it/s]\n"
     ]
    },
    {
     "name": "stdout",
     "output_type": "stream",
     "text": [
      "tensor(0.4989, grad_fn=<NllLossBackward0>)\n",
      "training_acuracy 0.6593967083002259\n",
      "validation_acuracy: 0.7170687534080743\n",
      "1\n"
     ]
    },
    {
     "name": "stderr",
     "output_type": "stream",
     "text": [
      "100%|██████████| 5000/5000 [00:28<00:00, 174.96it/s]\n",
      "100%|██████████| 1000/1000 [00:02<00:00, 406.65it/s]\n"
     ]
    },
    {
     "name": "stdout",
     "output_type": "stream",
     "text": [
      "tensor(0.4255, grad_fn=<NllLossBackward0>)\n",
      "training_acuracy 0.7572296516277447\n",
      "validation_acuracy: 0.7340861134985377\n",
      "2\n"
     ]
    },
    {
     "name": "stderr",
     "output_type": "stream",
     "text": [
      "100%|██████████| 5000/5000 [00:33<00:00, 149.08it/s]\n",
      "100%|██████████| 1000/1000 [00:02<00:00, 364.12it/s]\n"
     ]
    },
    {
     "name": "stdout",
     "output_type": "stream",
     "text": [
      "tensor(0.3580, grad_fn=<NllLossBackward0>)\n",
      "training_acuracy 0.7694254653625495\n",
      "validation_acuracy: 0.738328701242318\n",
      "3\n"
     ]
    },
    {
     "name": "stderr",
     "output_type": "stream",
     "text": [
      "100%|██████████| 5000/5000 [00:29<00:00, 168.57it/s]\n",
      "100%|██████████| 1000/1000 [00:02<00:00, 455.38it/s]\n"
     ]
    },
    {
     "name": "stdout",
     "output_type": "stream",
     "text": [
      "tensor(0.2990, grad_fn=<NllLossBackward0>)\n",
      "training_acuracy 0.777569222529312\n",
      "validation_acuracy: 0.7478397875964383\n",
      "4\n"
     ]
    },
    {
     "name": "stderr",
     "output_type": "stream",
     "text": [
      "100%|██████████| 5000/5000 [00:28<00:00, 175.24it/s]\n",
      "100%|██████████| 1000/1000 [00:02<00:00, 454.06it/s]\n"
     ]
    },
    {
     "name": "stdout",
     "output_type": "stream",
     "text": [
      "tensor(0.2517, grad_fn=<NllLossBackward0>)\n",
      "training_acuracy 0.7845408822256524\n",
      "validation_acuracy: 0.7542429072849971\n",
      "5\n"
     ]
    },
    {
     "name": "stderr",
     "output_type": "stream",
     "text": [
      "100%|██████████| 5000/5000 [00:28<00:00, 177.92it/s]\n",
      "100%|██████████| 1000/1000 [00:02<00:00, 437.70it/s]\n"
     ]
    },
    {
     "name": "stdout",
     "output_type": "stream",
     "text": [
      "tensor(0.2310, grad_fn=<NllLossBackward0>)\n",
      "training_acuracy 0.7891349919944655\n",
      "validation_acuracy: 0.7600298594467901\n",
      "6\n"
     ]
    },
    {
     "name": "stderr",
     "output_type": "stream",
     "text": [
      "100%|██████████| 5000/5000 [00:28<00:00, 177.40it/s]\n",
      "100%|██████████| 1000/1000 [00:02<00:00, 432.29it/s]\n"
     ]
    },
    {
     "name": "stdout",
     "output_type": "stream",
     "text": [
      "tensor(0.2131, grad_fn=<NllLossBackward0>)\n",
      "training_acuracy 0.7932024688108403\n",
      "validation_acuracy: 0.7624146795906023\n",
      "7\n"
     ]
    },
    {
     "name": "stderr",
     "output_type": "stream",
     "text": [
      "100%|██████████| 5000/5000 [00:28<00:00, 175.97it/s]\n",
      "100%|██████████| 1000/1000 [00:02<00:00, 437.94it/s]\n"
     ]
    },
    {
     "name": "stdout",
     "output_type": "stream",
     "text": [
      "tensor(0.1984, grad_fn=<NllLossBackward0>)\n",
      "training_acuracy 0.7973761965523554\n",
      "validation_acuracy: 0.7644454273456508\n",
      "8\n"
     ]
    },
    {
     "name": "stderr",
     "output_type": "stream",
     "text": [
      "100%|██████████| 5000/5000 [00:28<00:00, 177.80it/s]\n",
      "100%|██████████| 1000/1000 [00:02<00:00, 466.06it/s]\n"
     ]
    },
    {
     "name": "stdout",
     "output_type": "stream",
     "text": [
      "tensor(0.1821, grad_fn=<NllLossBackward0>)\n",
      "training_acuracy 0.8012466243751367\n",
      "validation_acuracy: 0.7655807912273006\n",
      "9\n"
     ]
    },
    {
     "name": "stderr",
     "output_type": "stream",
     "text": [
      "100%|██████████| 5000/5000 [00:28<00:00, 177.60it/s]\n",
      "100%|██████████| 1000/1000 [00:02<00:00, 445.44it/s]\n"
     ]
    },
    {
     "name": "stdout",
     "output_type": "stream",
     "text": [
      "tensor(0.1719, grad_fn=<NllLossBackward0>)\n",
      "training_acuracy 0.8042569073766755\n",
      "validation_acuracy: 0.7673220506797659\n",
      "10\n"
     ]
    },
    {
     "name": "stderr",
     "output_type": "stream",
     "text": [
      "100%|██████████| 5000/5000 [00:27<00:00, 179.13it/s]\n",
      "100%|██████████| 1000/1000 [00:02<00:00, 458.85it/s]\n"
     ]
    },
    {
     "name": "stdout",
     "output_type": "stream",
     "text": [
      "tensor(0.1710, grad_fn=<NllLossBackward0>)\n",
      "training_acuracy 0.8080634516940733\n",
      "validation_acuracy: 0.7680806989785118\n",
      "11\n"
     ]
    },
    {
     "name": "stderr",
     "output_type": "stream",
     "text": [
      "100%|██████████| 5000/5000 [00:28<00:00, 174.50it/s]\n",
      "100%|██████████| 1000/1000 [00:02<00:00, 440.02it/s]\n"
     ]
    },
    {
     "name": "stdout",
     "output_type": "stream",
     "text": [
      "tensor(0.1769, grad_fn=<NllLossBackward0>)\n",
      "training_acuracy 0.8106875170318907\n",
      "validation_acuracy: 0.7688962451242096\n",
      "12\n"
     ]
    },
    {
     "name": "stderr",
     "output_type": "stream",
     "text": [
      "100%|██████████| 5000/5000 [00:27<00:00, 178.90it/s]\n",
      "100%|██████████| 1000/1000 [00:02<00:00, 448.22it/s]\n"
     ]
    },
    {
     "name": "stdout",
     "output_type": "stream",
     "text": [
      "tensor(0.2162, grad_fn=<NllLossBackward0>)\n",
      "training_acuracy 0.8128300732953548\n",
      "validation_acuracy: 0.771694251139247\n",
      "13\n"
     ]
    },
    {
     "name": "stderr",
     "output_type": "stream",
     "text": [
      "100%|██████████| 5000/5000 [00:28<00:00, 175.84it/s]\n",
      "100%|██████████| 1000/1000 [00:02<00:00, 444.68it/s]\n"
     ]
    },
    {
     "name": "stdout",
     "output_type": "stream",
     "text": [
      "tensor(0.2046, grad_fn=<NllLossBackward0>)\n",
      "training_acuracy 0.8149424858302603\n",
      "validation_acuracy: 0.7721940714505974\n",
      "14\n"
     ]
    },
    {
     "name": "stderr",
     "output_type": "stream",
     "text": [
      "100%|██████████| 5000/5000 [00:28<00:00, 176.59it/s]\n",
      "100%|██████████| 1000/1000 [00:02<00:00, 435.57it/s]\n"
     ]
    },
    {
     "name": "stdout",
     "output_type": "stream",
     "text": [
      "tensor(0.1891, grad_fn=<NllLossBackward0>)\n",
      "training_acuracy 0.8172461406506688\n",
      "validation_acuracy: 0.7732715207328325\n",
      "15\n"
     ]
    },
    {
     "name": "stderr",
     "output_type": "stream",
     "text": [
      "100%|██████████| 5000/5000 [00:28<00:00, 177.38it/s]\n",
      "100%|██████████| 1000/1000 [00:02<00:00, 447.22it/s]\n"
     ]
    },
    {
     "name": "stdout",
     "output_type": "stream",
     "text": [
      "tensor(0.1878, grad_fn=<NllLossBackward0>)\n",
      "training_acuracy 0.8186800856684763\n",
      "validation_acuracy: 0.7751359282466065\n",
      "16\n"
     ]
    },
    {
     "name": "stderr",
     "output_type": "stream",
     "text": [
      "100%|██████████| 5000/5000 [00:27<00:00, 179.07it/s]\n",
      "100%|██████████| 1000/1000 [00:02<00:00, 448.59it/s]\n"
     ]
    },
    {
     "name": "stdout",
     "output_type": "stream",
     "text": [
      "tensor(0.1945, grad_fn=<NllLossBackward0>)\n",
      "training_acuracy 0.8202080919823642\n",
      "validation_acuracy: 0.774833463368851\n",
      "17\n"
     ]
    },
    {
     "name": "stderr",
     "output_type": "stream",
     "text": [
      "100%|██████████| 5000/5000 [00:27<00:00, 178.91it/s]\n",
      "100%|██████████| 1000/1000 [00:02<00:00, 460.50it/s]\n"
     ]
    },
    {
     "name": "stdout",
     "output_type": "stream",
     "text": [
      "tensor(0.2080, grad_fn=<NllLossBackward0>)\n",
      "training_acuracy 0.8218962858083075\n",
      "validation_acuracy: 0.7772743684009996\n",
      "18\n"
     ]
    },
    {
     "name": "stderr",
     "output_type": "stream",
     "text": [
      "100%|██████████| 5000/5000 [00:27<00:00, 179.39it/s]\n",
      "100%|██████████| 1000/1000 [00:02<00:00, 444.48it/s]\n"
     ]
    },
    {
     "name": "stdout",
     "output_type": "stream",
     "text": [
      "tensor(0.2024, grad_fn=<NllLossBackward0>)\n",
      "training_acuracy 0.8233482936043308\n",
      "validation_acuracy: 0.7794685127099173\n",
      "19\n"
     ]
    },
    {
     "name": "stderr",
     "output_type": "stream",
     "text": [
      "100%|██████████| 5000/5000 [00:28<00:00, 174.37it/s]\n",
      "100%|██████████| 1000/1000 [00:02<00:00, 437.49it/s]\n"
     ]
    },
    {
     "name": "stdout",
     "output_type": "stream",
     "text": [
      "tensor(0.2087, grad_fn=<NllLossBackward0>)\n",
      "training_acuracy 0.8250618618689567\n",
      "validation_acuracy: 0.7821477346941663\n",
      "20\n"
     ]
    },
    {
     "name": "stderr",
     "output_type": "stream",
     "text": [
      "100%|██████████| 5000/5000 [00:27<00:00, 178.98it/s]\n",
      "100%|██████████| 1000/1000 [00:02<00:00, 463.24it/s]\n"
     ]
    },
    {
     "name": "stdout",
     "output_type": "stream",
     "text": [
      "tensor(0.1947, grad_fn=<NllLossBackward0>)\n",
      "training_acuracy 0.8260024003689931\n",
      "validation_acuracy: 0.7826984555284117\n",
      "21\n"
     ]
    },
    {
     "name": "stderr",
     "output_type": "stream",
     "text": [
      "100%|██████████| 5000/5000 [00:28<00:00, 176.96it/s]\n",
      "100%|██████████| 1000/1000 [00:02<00:00, 460.86it/s]\n"
     ]
    },
    {
     "name": "stdout",
     "output_type": "stream",
     "text": [
      "tensor(0.2145, grad_fn=<NllLossBackward0>)\n",
      "training_acuracy 0.8272516102880625\n",
      "validation_acuracy: 0.7830971374870933\n",
      "22\n"
     ]
    },
    {
     "name": "stderr",
     "output_type": "stream",
     "text": [
      "100%|██████████| 5000/5000 [00:28<00:00, 178.41it/s]\n",
      "100%|██████████| 1000/1000 [00:02<00:00, 417.46it/s]\n"
     ]
    },
    {
     "name": "stdout",
     "output_type": "stream",
     "text": [
      "tensor(0.2139, grad_fn=<NllLossBackward0>)\n",
      "training_acuracy 0.8292763980451475\n",
      "validation_acuracy: 0.7832969241312832\n",
      "23\n"
     ]
    },
    {
     "name": "stderr",
     "output_type": "stream",
     "text": [
      "100%|██████████| 5000/5000 [00:28<00:00, 178.39it/s]\n",
      "100%|██████████| 1000/1000 [00:02<00:00, 360.61it/s]\n"
     ]
    },
    {
     "name": "stdout",
     "output_type": "stream",
     "text": [
      "tensor(0.2067, grad_fn=<NllLossBackward0>)\n",
      "training_acuracy 0.8290403776236434\n",
      "validation_acuracy: 0.7842729740025535\n",
      "24\n"
     ]
    },
    {
     "name": "stderr",
     "output_type": "stream",
     "text": [
      "100%|██████████| 5000/5000 [00:28<00:00, 176.21it/s]\n",
      "100%|██████████| 1000/1000 [00:02<00:00, 452.84it/s]\n"
     ]
    },
    {
     "name": "stdout",
     "output_type": "stream",
     "text": [
      "tensor(0.2629, grad_fn=<NllLossBackward0>)\n",
      "training_acuracy 0.8309239120803941\n",
      "validation_acuracy: 0.7853146435689663\n",
      "25\n"
     ]
    },
    {
     "name": "stderr",
     "output_type": "stream",
     "text": [
      "100%|██████████| 5000/5000 [00:27<00:00, 178.65it/s]\n",
      "100%|██████████| 1000/1000 [00:02<00:00, 342.91it/s]\n"
     ]
    },
    {
     "name": "stdout",
     "output_type": "stream",
     "text": [
      "tensor(0.2225, grad_fn=<NllLossBackward0>)\n",
      "training_acuracy 0.8314933584726825\n",
      "validation_acuracy: 0.786768223340869\n",
      "26\n"
     ]
    },
    {
     "name": "stderr",
     "output_type": "stream",
     "text": [
      "100%|██████████| 5000/5000 [00:28<00:00, 177.67it/s]\n",
      "100%|██████████| 1000/1000 [00:02<00:00, 457.78it/s]\n"
     ]
    },
    {
     "name": "stdout",
     "output_type": "stream",
     "text": [
      "tensor(0.2062, grad_fn=<NllLossBackward0>)\n",
      "training_acuracy 0.8327099078159039\n",
      "validation_acuracy: 0.7864584240571832\n",
      "27\n"
     ]
    },
    {
     "name": "stderr",
     "output_type": "stream",
     "text": [
      "100%|██████████| 5000/5000 [00:27<00:00, 179.68it/s]\n",
      "100%|██████████| 1000/1000 [00:02<00:00, 441.45it/s]\n"
     ]
    },
    {
     "name": "stdout",
     "output_type": "stream",
     "text": [
      "tensor(0.1949, grad_fn=<NllLossBackward0>)\n",
      "training_acuracy 0.8338441425490091\n",
      "validation_acuracy: 0.7888155156434268\n",
      "28\n"
     ]
    },
    {
     "name": "stderr",
     "output_type": "stream",
     "text": [
      "100%|██████████| 5000/5000 [00:28<00:00, 178.26it/s]\n",
      "100%|██████████| 1000/1000 [00:02<00:00, 438.31it/s]\n"
     ]
    },
    {
     "name": "stdout",
     "output_type": "stream",
     "text": [
      "tensor(0.2715, grad_fn=<NllLossBackward0>)\n",
      "training_acuracy 0.8350793097094642\n",
      "validation_acuracy: 0.7891181328694825\n",
      "29\n"
     ]
    },
    {
     "name": "stderr",
     "output_type": "stream",
     "text": [
      "100%|██████████| 5000/5000 [00:28<00:00, 176.14it/s]\n",
      "100%|██████████| 1000/1000 [00:02<00:00, 442.44it/s]\n"
     ]
    },
    {
     "name": "stdout",
     "output_type": "stream",
     "text": [
      "tensor(0.2344, grad_fn=<NllLossBackward0>)\n",
      "training_acuracy 0.835611210066716\n",
      "validation_acuracy: 0.7881784299748363\n",
      "0\n"
     ]
    },
    {
     "name": "stderr",
     "output_type": "stream",
     "text": [
      "100%|██████████| 5000/5000 [00:29<00:00, 171.22it/s]\n",
      "100%|██████████| 1000/1000 [00:02<00:00, 433.94it/s]\n"
     ]
    },
    {
     "name": "stdout",
     "output_type": "stream",
     "text": [
      "tensor(0.4148, grad_fn=<NllLossBackward0>)\n",
      "training_acuracy 0.7002246968466131\n",
      "validation_acuracy: 0.7355865218957991\n",
      "1\n"
     ]
    },
    {
     "name": "stderr",
     "output_type": "stream",
     "text": [
      "100%|██████████| 5000/5000 [00:29<00:00, 168.82it/s]\n",
      "100%|██████████| 1000/1000 [00:02<00:00, 451.90it/s]\n"
     ]
    },
    {
     "name": "stdout",
     "output_type": "stream",
     "text": [
      "tensor(0.2705, grad_fn=<NllLossBackward0>)\n",
      "training_acuracy 0.7848468906716524\n",
      "validation_acuracy: 0.7559708962270588\n",
      "2\n"
     ]
    },
    {
     "name": "stderr",
     "output_type": "stream",
     "text": [
      "100%|██████████| 5000/5000 [00:29<00:00, 169.88it/s]\n",
      "100%|██████████| 1000/1000 [00:02<00:00, 443.86it/s]\n"
     ]
    },
    {
     "name": "stdout",
     "output_type": "stream",
     "text": [
      "tensor(0.1817, grad_fn=<NllLossBackward0>)\n",
      "training_acuracy 0.8075933023208308\n",
      "validation_acuracy: 0.7751823971134676\n",
      "3\n"
     ]
    },
    {
     "name": "stderr",
     "output_type": "stream",
     "text": [
      "100%|██████████| 5000/5000 [00:29<00:00, 171.15it/s]\n",
      "100%|██████████| 1000/1000 [00:02<00:00, 415.17it/s]\n"
     ]
    },
    {
     "name": "stdout",
     "output_type": "stream",
     "text": [
      "tensor(0.1353, grad_fn=<NllLossBackward0>)\n",
      "training_acuracy 0.8240842390417716\n",
      "validation_acuracy: 0.7885698148348549\n",
      "4\n"
     ]
    },
    {
     "name": "stderr",
     "output_type": "stream",
     "text": [
      "100%|██████████| 5000/5000 [00:29<00:00, 170.11it/s]\n",
      "100%|██████████| 1000/1000 [00:02<00:00, 442.44it/s]\n"
     ]
    },
    {
     "name": "stdout",
     "output_type": "stream",
     "text": [
      "tensor(0.1051, grad_fn=<NllLossBackward0>)\n",
      "training_acuracy 0.8365063004774629\n",
      "validation_acuracy: 0.7966068694970813\n",
      "5\n"
     ]
    },
    {
     "name": "stderr",
     "output_type": "stream",
     "text": [
      "100%|██████████| 5000/5000 [00:28<00:00, 173.32it/s]\n",
      "100%|██████████| 1000/1000 [00:02<00:00, 452.44it/s]\n"
     ]
    },
    {
     "name": "stdout",
     "output_type": "stream",
     "text": [
      "tensor(0.0769, grad_fn=<NllLossBackward0>)\n",
      "training_acuracy 0.8478780171860428\n",
      "validation_acuracy: 0.8034222418659648\n",
      "6\n"
     ]
    },
    {
     "name": "stderr",
     "output_type": "stream",
     "text": [
      "100%|██████████| 5000/5000 [00:29<00:00, 169.98it/s]\n",
      "100%|██████████| 1000/1000 [00:02<00:00, 442.49it/s]\n"
     ]
    },
    {
     "name": "stdout",
     "output_type": "stream",
     "text": [
      "tensor(0.0662, grad_fn=<NllLossBackward0>)\n",
      "training_acuracy 0.8559979346209895\n",
      "validation_acuracy: 0.8111319243363078\n",
      "7\n"
     ]
    },
    {
     "name": "stderr",
     "output_type": "stream",
     "text": [
      "100%|██████████| 5000/5000 [00:29<00:00, 171.43it/s]\n",
      "100%|██████████| 1000/1000 [00:02<00:00, 441.00it/s]\n"
     ]
    },
    {
     "name": "stdout",
     "output_type": "stream",
     "text": [
      "tensor(0.0654, grad_fn=<NllLossBackward0>)\n",
      "training_acuracy 0.8642881853292678\n",
      "validation_acuracy: 0.8178230735058213\n",
      "8\n"
     ]
    },
    {
     "name": "stderr",
     "output_type": "stream",
     "text": [
      "100%|██████████| 5000/5000 [00:29<00:00, 170.70it/s]\n",
      "100%|██████████| 1000/1000 [00:02<00:00, 456.65it/s]\n"
     ]
    },
    {
     "name": "stdout",
     "output_type": "stream",
     "text": [
      "tensor(0.0695, grad_fn=<NllLossBackward0>)\n",
      "training_acuracy 0.8726881897947644\n",
      "validation_acuracy: 0.8194512359413374\n",
      "9\n"
     ]
    },
    {
     "name": "stderr",
     "output_type": "stream",
     "text": [
      "100%|██████████| 5000/5000 [00:29<00:00, 171.14it/s]\n",
      "100%|██████████| 1000/1000 [00:02<00:00, 430.98it/s]\n"
     ]
    },
    {
     "name": "stdout",
     "output_type": "stream",
     "text": [
      "tensor(0.0724, grad_fn=<NllLossBackward0>)\n",
      "training_acuracy 0.8797172754201059\n",
      "validation_acuracy: 0.8252639341796211\n",
      "10\n"
     ]
    },
    {
     "name": "stderr",
     "output_type": "stream",
     "text": [
      "100%|██████████| 5000/5000 [00:29<00:00, 170.59it/s]\n",
      "100%|██████████| 1000/1000 [00:02<00:00, 453.74it/s]\n"
     ]
    },
    {
     "name": "stdout",
     "output_type": "stream",
     "text": [
      "tensor(0.0610, grad_fn=<NllLossBackward0>)\n",
      "training_acuracy 0.8864454009058925\n",
      "validation_acuracy: 0.8312179089480207\n",
      "11\n"
     ]
    },
    {
     "name": "stderr",
     "output_type": "stream",
     "text": [
      "100%|██████████| 5000/5000 [00:29<00:00, 169.15it/s]\n",
      "100%|██████████| 1000/1000 [00:02<00:00, 376.96it/s]\n"
     ]
    },
    {
     "name": "stdout",
     "output_type": "stream",
     "text": [
      "tensor(0.0492, grad_fn=<NllLossBackward0>)\n",
      "training_acuracy 0.8916745784672334\n",
      "validation_acuracy: 0.8361349762398911\n",
      "12\n"
     ]
    },
    {
     "name": "stderr",
     "output_type": "stream",
     "text": [
      "100%|██████████| 5000/5000 [00:31<00:00, 161.03it/s]\n",
      "100%|██████████| 1000/1000 [00:02<00:00, 437.43it/s]\n"
     ]
    },
    {
     "name": "stdout",
     "output_type": "stream",
     "text": [
      "tensor(0.0378, grad_fn=<NllLossBackward0>)\n",
      "training_acuracy 0.8965536800378395\n",
      "validation_acuracy: 0.8398016607689053\n",
      "13\n"
     ]
    },
    {
     "name": "stderr",
     "output_type": "stream",
     "text": [
      "100%|██████████| 5000/5000 [00:29<00:00, 169.21it/s]\n",
      "100%|██████████| 1000/1000 [00:02<00:00, 439.73it/s]\n"
     ]
    },
    {
     "name": "stdout",
     "output_type": "stream",
     "text": [
      "tensor(0.0535, grad_fn=<NllLossBackward0>)\n",
      "training_acuracy 0.9013836581658947\n",
      "validation_acuracy: 0.8419934008691405\n",
      "14\n"
     ]
    },
    {
     "name": "stderr",
     "output_type": "stream",
     "text": [
      "100%|██████████| 5000/5000 [00:29<00:00, 170.24it/s]\n",
      "100%|██████████| 1000/1000 [00:02<00:00, 449.60it/s]\n"
     ]
    },
    {
     "name": "stdout",
     "output_type": "stream",
     "text": [
      "tensor(0.0491, grad_fn=<NllLossBackward0>)\n",
      "training_acuracy 0.9059251322981958\n",
      "validation_acuracy: 0.8453000923470364\n",
      "15\n"
     ]
    },
    {
     "name": "stderr",
     "output_type": "stream",
     "text": [
      "100%|██████████| 5000/5000 [00:28<00:00, 175.95it/s]\n",
      "100%|██████████| 1000/1000 [00:02<00:00, 464.83it/s]\n"
     ]
    },
    {
     "name": "stdout",
     "output_type": "stream",
     "text": [
      "tensor(0.0275, grad_fn=<NllLossBackward0>)\n",
      "training_acuracy 0.9094154602447654\n",
      "validation_acuracy: 0.8470790527936778\n",
      "16\n"
     ]
    },
    {
     "name": "stderr",
     "output_type": "stream",
     "text": [
      "100%|██████████| 5000/5000 [00:27<00:00, 178.61it/s]\n",
      "100%|██████████| 1000/1000 [00:02<00:00, 453.20it/s]\n"
     ]
    },
    {
     "name": "stdout",
     "output_type": "stream",
     "text": [
      "tensor(0.0367, grad_fn=<NllLossBackward0>)\n",
      "training_acuracy 0.9122366059101696\n",
      "validation_acuracy: 0.8505298983884868\n",
      "17\n"
     ]
    },
    {
     "name": "stderr",
     "output_type": "stream",
     "text": [
      "100%|██████████| 5000/5000 [00:27<00:00, 179.80it/s]\n",
      "100%|██████████| 1000/1000 [00:02<00:00, 461.61it/s]\n"
     ]
    },
    {
     "name": "stdout",
     "output_type": "stream",
     "text": [
      "tensor(0.0081, grad_fn=<NllLossBackward0>)\n",
      "training_acuracy 0.9156686418919202\n",
      "validation_acuracy: 0.8523043915788637\n",
      "18\n"
     ]
    },
    {
     "name": "stderr",
     "output_type": "stream",
     "text": [
      "100%|██████████| 5000/5000 [00:28<00:00, 176.47it/s]\n",
      "100%|██████████| 1000/1000 [00:02<00:00, 470.79it/s]\n"
     ]
    },
    {
     "name": "stdout",
     "output_type": "stream",
     "text": [
      "tensor(0.0115, grad_fn=<NllLossBackward0>)\n",
      "training_acuracy 0.9184128529270632\n",
      "validation_acuracy: 0.8525342172411016\n",
      "19\n"
     ]
    },
    {
     "name": "stderr",
     "output_type": "stream",
     "text": [
      "100%|██████████| 5000/5000 [00:28<00:00, 178.26it/s]\n",
      "100%|██████████| 1000/1000 [00:02<00:00, 468.37it/s]\n"
     ]
    },
    {
     "name": "stdout",
     "output_type": "stream",
     "text": [
      "tensor(0.0193, grad_fn=<NllLossBackward0>)\n",
      "training_acuracy 0.9191793838990616\n",
      "validation_acuracy: 0.8558672679524192\n",
      "20\n"
     ]
    },
    {
     "name": "stderr",
     "output_type": "stream",
     "text": [
      "100%|██████████| 5000/5000 [00:27<00:00, 178.84it/s]\n",
      "100%|██████████| 1000/1000 [00:02<00:00, 431.03it/s]\n"
     ]
    },
    {
     "name": "stdout",
     "output_type": "stream",
     "text": [
      "tensor(0.0099, grad_fn=<NllLossBackward0>)\n",
      "training_acuracy 0.9223204494301098\n",
      "validation_acuracy: 0.8604090982120243\n",
      "21\n"
     ]
    },
    {
     "name": "stderr",
     "output_type": "stream",
     "text": [
      "100%|██████████| 5000/5000 [00:28<00:00, 178.16it/s]\n",
      "100%|██████████| 1000/1000 [00:02<00:00, 453.16it/s]\n"
     ]
    },
    {
     "name": "stdout",
     "output_type": "stream",
     "text": [
      "tensor(0.0310, grad_fn=<NllLossBackward0>)\n",
      "training_acuracy 0.9248396101160995\n",
      "validation_acuracy: 0.8600192217321145\n",
      "22\n"
     ]
    },
    {
     "name": "stderr",
     "output_type": "stream",
     "text": [
      "100%|██████████| 5000/5000 [00:27<00:00, 184.26it/s]\n",
      "100%|██████████| 1000/1000 [00:02<00:00, 467.93it/s]\n"
     ]
    },
    {
     "name": "stdout",
     "output_type": "stream",
     "text": [
      "tensor(0.0112, grad_fn=<NllLossBackward0>)\n",
      "training_acuracy 0.9276066263884826\n",
      "validation_acuracy: 0.8619794347806645\n",
      "23\n"
     ]
    },
    {
     "name": "stderr",
     "output_type": "stream",
     "text": [
      "100%|██████████| 5000/5000 [00:27<00:00, 180.17it/s]\n",
      "100%|██████████| 1000/1000 [00:02<00:00, 451.80it/s]\n"
     ]
    },
    {
     "name": "stdout",
     "output_type": "stream",
     "text": [
      "tensor(0.0147, grad_fn=<NllLossBackward0>)\n",
      "training_acuracy 0.9293237280594286\n",
      "validation_acuracy: 0.8648066424745261\n",
      "24\n"
     ]
    },
    {
     "name": "stderr",
     "output_type": "stream",
     "text": [
      "100%|██████████| 5000/5000 [00:27<00:00, 180.47it/s]\n",
      "100%|██████████| 1000/1000 [00:02<00:00, 465.94it/s]\n"
     ]
    },
    {
     "name": "stdout",
     "output_type": "stream",
     "text": [
      "tensor(0.0061, grad_fn=<NllLossBackward0>)\n",
      "training_acuracy 0.9306534468603144\n",
      "validation_acuracy: 0.8644375796542938\n",
      "25\n"
     ]
    },
    {
     "name": "stderr",
     "output_type": "stream",
     "text": [
      "100%|██████████| 5000/5000 [00:27<00:00, 179.72it/s]\n",
      "100%|██████████| 1000/1000 [00:02<00:00, 464.96it/s]\n"
     ]
    },
    {
     "name": "stdout",
     "output_type": "stream",
     "text": [
      "tensor(0.0085, grad_fn=<NllLossBackward0>)\n",
      "training_acuracy 0.9327113165883179\n",
      "validation_acuracy: 0.8692889227306596\n",
      "26\n"
     ]
    },
    {
     "name": "stderr",
     "output_type": "stream",
     "text": [
      "100%|██████████| 5000/5000 [00:27<00:00, 182.74it/s]\n",
      "100%|██████████| 1000/1000 [00:02<00:00, 467.07it/s]\n"
     ]
    },
    {
     "name": "stdout",
     "output_type": "stream",
     "text": [
      "tensor(0.0066, grad_fn=<NllLossBackward0>)\n",
      "training_acuracy 0.9332355848308606\n",
      "validation_acuracy: 0.8652627145187005\n",
      "27\n"
     ]
    },
    {
     "name": "stderr",
     "output_type": "stream",
     "text": [
      "100%|██████████| 5000/5000 [00:27<00:00, 180.17it/s]\n",
      "100%|██████████| 1000/1000 [00:02<00:00, 459.68it/s]\n"
     ]
    },
    {
     "name": "stdout",
     "output_type": "stream",
     "text": [
      "tensor(0.0089, grad_fn=<NllLossBackward0>)\n",
      "training_acuracy 0.935074241032962\n",
      "validation_acuracy: 0.8706553726705306\n",
      "28\n"
     ]
    },
    {
     "name": "stderr",
     "output_type": "stream",
     "text": [
      "100%|██████████| 5000/5000 [00:28<00:00, 178.10it/s]\n",
      "100%|██████████| 1000/1000 [00:02<00:00, 464.24it/s]\n"
     ]
    },
    {
     "name": "stdout",
     "output_type": "stream",
     "text": [
      "tensor(0.0050, grad_fn=<NllLossBackward0>)\n",
      "training_acuracy 0.9362098439916766\n",
      "validation_acuracy: 0.8722003095665487\n",
      "29\n"
     ]
    },
    {
     "name": "stderr",
     "output_type": "stream",
     "text": [
      "100%|██████████| 5000/5000 [00:27<00:00, 182.51it/s]\n",
      "100%|██████████| 1000/1000 [00:02<00:00, 457.86it/s]\n"
     ]
    },
    {
     "name": "stdout",
     "output_type": "stream",
     "text": [
      "tensor(0.0098, grad_fn=<NllLossBackward0>)\n",
      "training_acuracy 0.9367273768554052\n",
      "validation_acuracy: 0.8705866028225284\n",
      "0\n"
     ]
    },
    {
     "name": "stderr",
     "output_type": "stream",
     "text": [
      "100%|██████████| 5000/5000 [00:29<00:00, 167.85it/s]\n",
      "100%|██████████| 1000/1000 [00:02<00:00, 429.08it/s]\n"
     ]
    },
    {
     "name": "stdout",
     "output_type": "stream",
     "text": [
      "tensor(0.4729, grad_fn=<NllLossBackward0>)\n",
      "training_acuracy 0.7076101179472036\n",
      "validation_acuracy: 0.7403068735831362\n",
      "1\n"
     ]
    },
    {
     "name": "stderr",
     "output_type": "stream",
     "text": [
      "100%|██████████| 5000/5000 [00:31<00:00, 160.76it/s]\n",
      "100%|██████████| 1000/1000 [00:02<00:00, 421.22it/s]\n"
     ]
    },
    {
     "name": "stdout",
     "output_type": "stream",
     "text": [
      "tensor(0.3149, grad_fn=<NllLossBackward0>)\n",
      "training_acuracy 0.7947838825214608\n",
      "validation_acuracy: 0.7684822898491099\n",
      "2\n"
     ]
    },
    {
     "name": "stderr",
     "output_type": "stream",
     "text": [
      "100%|██████████| 5000/5000 [00:30<00:00, 164.75it/s]\n",
      "100%|██████████| 1000/1000 [00:02<00:00, 423.09it/s]\n"
     ]
    },
    {
     "name": "stdout",
     "output_type": "stream",
     "text": [
      "tensor(0.1962, grad_fn=<NllLossBackward0>)\n",
      "training_acuracy 0.821756911529781\n",
      "validation_acuracy: 0.7886415141532439\n",
      "3\n"
     ]
    },
    {
     "name": "stderr",
     "output_type": "stream",
     "text": [
      "100%|██████████| 5000/5000 [00:29<00:00, 168.56it/s]\n",
      "100%|██████████| 1000/1000 [00:02<00:00, 433.44it/s]\n"
     ]
    },
    {
     "name": "stdout",
     "output_type": "stream",
     "text": [
      "tensor(0.1314, grad_fn=<NllLossBackward0>)\n",
      "training_acuracy 0.8433576408691562\n",
      "validation_acuracy: 0.8033466542270135\n",
      "4\n"
     ]
    },
    {
     "name": "stderr",
     "output_type": "stream",
     "text": [
      "100%|██████████| 5000/5000 [00:29<00:00, 168.32it/s]\n",
      "100%|██████████| 1000/1000 [00:02<00:00, 440.40it/s]\n"
     ]
    },
    {
     "name": "stdout",
     "output_type": "stream",
     "text": [
      "tensor(0.0986, grad_fn=<NllLossBackward0>)\n",
      "training_acuracy 0.8622426082333166\n",
      "validation_acuracy: 0.814174530672328\n",
      "5\n"
     ]
    },
    {
     "name": "stderr",
     "output_type": "stream",
     "text": [
      "100%|██████████| 5000/5000 [00:29<00:00, 166.94it/s]\n",
      "100%|██████████| 1000/1000 [00:02<00:00, 441.02it/s]\n"
     ]
    },
    {
     "name": "stdout",
     "output_type": "stream",
     "text": [
      "tensor(0.0799, grad_fn=<NllLossBackward0>)\n",
      "training_acuracy 0.8776955445178781\n",
      "validation_acuracy: 0.8246030585624784\n",
      "6\n"
     ]
    },
    {
     "name": "stderr",
     "output_type": "stream",
     "text": [
      "100%|██████████| 5000/5000 [00:29<00:00, 167.92it/s]\n",
      "100%|██████████| 1000/1000 [00:02<00:00, 424.21it/s]\n"
     ]
    },
    {
     "name": "stdout",
     "output_type": "stream",
     "text": [
      "tensor(0.0640, grad_fn=<NllLossBackward0>)\n",
      "training_acuracy 0.8908891136856171\n",
      "validation_acuracy: 0.8338173539571301\n",
      "7\n"
     ]
    },
    {
     "name": "stderr",
     "output_type": "stream",
     "text": [
      "100%|██████████| 5000/5000 [00:29<00:00, 168.08it/s]\n",
      "100%|██████████| 1000/1000 [00:02<00:00, 436.25it/s]\n"
     ]
    },
    {
     "name": "stdout",
     "output_type": "stream",
     "text": [
      "tensor(0.0656, grad_fn=<NllLossBackward0>)\n",
      "training_acuracy 0.9025742068011976\n",
      "validation_acuracy: 0.840721462408425\n",
      "8\n"
     ]
    },
    {
     "name": "stderr",
     "output_type": "stream",
     "text": [
      "100%|██████████| 5000/5000 [00:30<00:00, 165.59it/s]\n",
      "100%|██████████| 1000/1000 [00:02<00:00, 443.62it/s]\n"
     ]
    },
    {
     "name": "stdout",
     "output_type": "stream",
     "text": [
      "tensor(0.0553, grad_fn=<NllLossBackward0>)\n",
      "training_acuracy 0.9121202320493037\n",
      "validation_acuracy: 0.851617192440256\n",
      "9\n"
     ]
    },
    {
     "name": "stderr",
     "output_type": "stream",
     "text": [
      "100%|██████████| 5000/5000 [00:29<00:00, 168.26it/s]\n",
      "100%|██████████| 1000/1000 [00:02<00:00, 414.02it/s]\n"
     ]
    },
    {
     "name": "stdout",
     "output_type": "stream",
     "text": [
      "tensor(0.0387, grad_fn=<NllLossBackward0>)\n",
      "training_acuracy 0.9208699662666191\n",
      "validation_acuracy: 0.8554517322341364\n",
      "10\n"
     ]
    },
    {
     "name": "stderr",
     "output_type": "stream",
     "text": [
      "100%|██████████| 5000/5000 [00:30<00:00, 164.71it/s]\n",
      "100%|██████████| 1000/1000 [00:02<00:00, 439.79it/s]\n"
     ]
    },
    {
     "name": "stdout",
     "output_type": "stream",
     "text": [
      "tensor(0.0278, grad_fn=<NllLossBackward0>)\n",
      "training_acuracy 0.9294087614052149\n",
      "validation_acuracy: 0.8649144122499208\n",
      "11\n"
     ]
    },
    {
     "name": "stderr",
     "output_type": "stream",
     "text": [
      "100%|██████████| 5000/5000 [00:30<00:00, 165.44it/s]\n",
      "100%|██████████| 1000/1000 [00:02<00:00, 444.58it/s]\n"
     ]
    },
    {
     "name": "stdout",
     "output_type": "stream",
     "text": [
      "tensor(0.0149, grad_fn=<NllLossBackward0>)\n",
      "training_acuracy 0.9361150157494736\n",
      "validation_acuracy: 0.8700766402846011\n",
      "12\n"
     ]
    },
    {
     "name": "stderr",
     "output_type": "stream",
     "text": [
      "100%|██████████| 5000/5000 [00:29<00:00, 167.99it/s]\n",
      "100%|██████████| 1000/1000 [00:02<00:00, 457.28it/s]\n"
     ]
    },
    {
     "name": "stdout",
     "output_type": "stream",
     "text": [
      "tensor(0.0095, grad_fn=<NllLossBackward0>)\n",
      "training_acuracy 0.9427471069846263\n",
      "validation_acuracy: 0.874164667025584\n",
      "13\n"
     ]
    },
    {
     "name": "stderr",
     "output_type": "stream",
     "text": [
      "100%|██████████| 5000/5000 [00:29<00:00, 167.66it/s]\n",
      "100%|██████████| 1000/1000 [00:02<00:00, 428.89it/s]\n"
     ]
    },
    {
     "name": "stdout",
     "output_type": "stream",
     "text": [
      "tensor(0.0062, grad_fn=<NllLossBackward0>)\n",
      "training_acuracy 0.9484654605406937\n",
      "validation_acuracy: 0.8812478792804259\n",
      "14\n"
     ]
    },
    {
     "name": "stderr",
     "output_type": "stream",
     "text": [
      "100%|██████████| 5000/5000 [00:29<00:00, 169.51it/s]\n",
      "100%|██████████| 1000/1000 [00:02<00:00, 437.83it/s]\n"
     ]
    },
    {
     "name": "stdout",
     "output_type": "stream",
     "text": [
      "tensor(0.0083, grad_fn=<NllLossBackward0>)\n",
      "training_acuracy 0.9523629567317857\n",
      "validation_acuracy: 0.8852373258294486\n",
      "15\n"
     ]
    },
    {
     "name": "stderr",
     "output_type": "stream",
     "text": [
      "100%|██████████| 5000/5000 [00:29<00:00, 167.78it/s]\n",
      "100%|██████████| 1000/1000 [00:02<00:00, 428.64it/s]\n"
     ]
    },
    {
     "name": "stdout",
     "output_type": "stream",
     "text": [
      "tensor(0.0032, grad_fn=<NllLossBackward0>)\n",
      "training_acuracy 0.9573852571583263\n",
      "validation_acuracy: 0.8896681019807029\n",
      "16\n"
     ]
    },
    {
     "name": "stderr",
     "output_type": "stream",
     "text": [
      "100%|██████████| 5000/5000 [00:30<00:00, 166.52it/s]\n",
      "100%|██████████| 1000/1000 [00:02<00:00, 452.65it/s]\n"
     ]
    },
    {
     "name": "stdout",
     "output_type": "stream",
     "text": [
      "tensor(0.0041, grad_fn=<NllLossBackward0>)\n",
      "training_acuracy 0.9600219306569925\n",
      "validation_acuracy: 0.8925301765397196\n",
      "17\n"
     ]
    },
    {
     "name": "stderr",
     "output_type": "stream",
     "text": [
      "100%|██████████| 5000/5000 [00:29<00:00, 166.69it/s]\n",
      "100%|██████████| 1000/1000 [00:02<00:00, 449.38it/s]\n"
     ]
    },
    {
     "name": "stdout",
     "output_type": "stream",
     "text": [
      "tensor(0.0012, grad_fn=<NllLossBackward0>)\n",
      "training_acuracy 0.9631929857368321\n",
      "validation_acuracy: 0.8976995528086334\n",
      "18\n"
     ]
    },
    {
     "name": "stderr",
     "output_type": "stream",
     "text": [
      "100%|██████████| 5000/5000 [00:29<00:00, 167.92it/s]\n",
      "100%|██████████| 1000/1000 [00:02<00:00, 440.92it/s]\n"
     ]
    },
    {
     "name": "stdout",
     "output_type": "stream",
     "text": [
      "tensor(0.0043, grad_fn=<NllLossBackward0>)\n",
      "training_acuracy 0.9659321726973173\n",
      "validation_acuracy: 0.9015245854143796\n",
      "19\n"
     ]
    },
    {
     "name": "stderr",
     "output_type": "stream",
     "text": [
      "100%|██████████| 5000/5000 [00:29<00:00, 170.37it/s]\n",
      "100%|██████████| 1000/1000 [00:02<00:00, 442.81it/s]\n"
     ]
    },
    {
     "name": "stdout",
     "output_type": "stream",
     "text": [
      "tensor(0.0071, grad_fn=<NllLossBackward0>)\n",
      "training_acuracy 0.9683141704846535\n",
      "validation_acuracy: 0.9029929322267236\n",
      "20\n"
     ]
    },
    {
     "name": "stderr",
     "output_type": "stream",
     "text": [
      "100%|██████████| 5000/5000 [00:29<00:00, 168.95it/s]\n",
      "100%|██████████| 1000/1000 [00:02<00:00, 464.40it/s]\n"
     ]
    },
    {
     "name": "stdout",
     "output_type": "stream",
     "text": [
      "tensor(0.0010, grad_fn=<NllLossBackward0>)\n",
      "training_acuracy 0.9699691257008786\n",
      "validation_acuracy: 0.9086186320943364\n",
      "21\n"
     ]
    },
    {
     "name": "stderr",
     "output_type": "stream",
     "text": [
      "100%|██████████| 5000/5000 [00:29<00:00, 169.33it/s]\n",
      "100%|██████████| 1000/1000 [00:02<00:00, 446.92it/s]\n"
     ]
    },
    {
     "name": "stdout",
     "output_type": "stream",
     "text": [
      "tensor(0.0012, grad_fn=<NllLossBackward0>)\n",
      "training_acuracy 0.9699695055579673\n",
      "validation_acuracy: 0.9040446851843643\n",
      "22\n"
     ]
    },
    {
     "name": "stderr",
     "output_type": "stream",
     "text": [
      "100%|██████████| 5000/5000 [00:29<00:00, 170.59it/s]\n",
      "100%|██████████| 1000/1000 [00:02<00:00, 448.77it/s]\n"
     ]
    },
    {
     "name": "stdout",
     "output_type": "stream",
     "text": [
      "tensor(0.0022, grad_fn=<NllLossBackward0>)\n",
      "training_acuracy 0.9701129539459653\n",
      "validation_acuracy: 0.9111943951609273\n",
      "23\n"
     ]
    },
    {
     "name": "stderr",
     "output_type": "stream",
     "text": [
      "100%|██████████| 5000/5000 [00:29<00:00, 168.12it/s]\n",
      "100%|██████████| 1000/1000 [00:02<00:00, 459.14it/s]\n"
     ]
    },
    {
     "name": "stdout",
     "output_type": "stream",
     "text": [
      "tensor(0.0014, grad_fn=<NllLossBackward0>)\n",
      "training_acuracy 0.9721071698234862\n",
      "validation_acuracy: 0.9096207441860529\n",
      "24\n"
     ]
    },
    {
     "name": "stderr",
     "output_type": "stream",
     "text": [
      "100%|██████████| 5000/5000 [00:29<00:00, 169.38it/s]\n",
      "100%|██████████| 1000/1000 [00:02<00:00, 444.10it/s]\n"
     ]
    },
    {
     "name": "stdout",
     "output_type": "stream",
     "text": [
      "tensor(0.0084, grad_fn=<NllLossBackward0>)\n",
      "training_acuracy 0.9716079927870395\n",
      "validation_acuracy: 0.9180881542109575\n",
      "25\n"
     ]
    },
    {
     "name": "stderr",
     "output_type": "stream",
     "text": [
      "100%|██████████| 5000/5000 [00:29<00:00, 169.74it/s]\n",
      "100%|██████████| 1000/1000 [00:02<00:00, 444.96it/s]\n"
     ]
    },
    {
     "name": "stdout",
     "output_type": "stream",
     "text": [
      "tensor(0.0029, grad_fn=<NllLossBackward0>)\n",
      "training_acuracy 0.9743340102141211\n",
      "validation_acuracy: 0.9147213420325372\n",
      "26\n"
     ]
    },
    {
     "name": "stderr",
     "output_type": "stream",
     "text": [
      "100%|██████████| 5000/5000 [00:29<00:00, 167.18it/s]\n",
      "100%|██████████| 1000/1000 [00:02<00:00, 454.33it/s]\n"
     ]
    },
    {
     "name": "stdout",
     "output_type": "stream",
     "text": [
      "tensor(0.0007, grad_fn=<NllLossBackward0>)\n",
      "training_acuracy 0.9736920061955625\n",
      "validation_acuracy: 0.9151324218545333\n",
      "27\n"
     ]
    },
    {
     "name": "stderr",
     "output_type": "stream",
     "text": [
      "100%|██████████| 5000/5000 [00:30<00:00, 166.05it/s]\n",
      "100%|██████████| 1000/1000 [00:02<00:00, 460.08it/s]\n"
     ]
    },
    {
     "name": "stdout",
     "output_type": "stream",
     "text": [
      "tensor(0.0024, grad_fn=<NllLossBackward0>)\n",
      "training_acuracy 0.9762954676076446\n",
      "validation_acuracy: 0.923509421578971\n",
      "28\n"
     ]
    },
    {
     "name": "stderr",
     "output_type": "stream",
     "text": [
      "100%|██████████| 5000/5000 [00:29<00:00, 166.82it/s]\n",
      "100%|██████████| 1000/1000 [00:02<00:00, 442.84it/s]\n"
     ]
    },
    {
     "name": "stdout",
     "output_type": "stream",
     "text": [
      "tensor(0.0041, grad_fn=<NllLossBackward0>)\n",
      "training_acuracy 0.9805378767870723\n",
      "validation_acuracy: 0.9254496186702714\n",
      "29\n"
     ]
    },
    {
     "name": "stderr",
     "output_type": "stream",
     "text": [
      "100%|██████████| 5000/5000 [00:30<00:00, 163.98it/s]\n",
      "100%|██████████| 1000/1000 [00:02<00:00, 431.42it/s]\n"
     ]
    },
    {
     "name": "stdout",
     "output_type": "stream",
     "text": [
      "tensor(0.0011, grad_fn=<NllLossBackward0>)\n",
      "training_acuracy 0.982390711090502\n",
      "validation_acuracy: 0.9276082592526097\n",
      "0\n"
     ]
    },
    {
     "name": "stderr",
     "output_type": "stream",
     "text": [
      "100%|██████████| 5000/5000 [00:31<00:00, 156.51it/s]\n",
      "100%|██████████| 1000/1000 [00:02<00:00, 409.72it/s]\n"
     ]
    },
    {
     "name": "stdout",
     "output_type": "stream",
     "text": [
      "tensor(0.3700, grad_fn=<NllLossBackward0>)\n",
      "training_acuracy 0.7099007150101576\n",
      "validation_acuracy: 0.7417121750100507\n",
      "1\n"
     ]
    },
    {
     "name": "stderr",
     "output_type": "stream",
     "text": [
      "100%|██████████| 5000/5000 [00:31<00:00, 157.93it/s]\n",
      "100%|██████████| 1000/1000 [00:02<00:00, 424.84it/s]\n"
     ]
    },
    {
     "name": "stdout",
     "output_type": "stream",
     "text": [
      "tensor(0.1677, grad_fn=<NllLossBackward0>)\n",
      "training_acuracy 0.7960698855279617\n",
      "validation_acuracy: 0.774776919734408\n",
      "2\n"
     ]
    },
    {
     "name": "stderr",
     "output_type": "stream",
     "text": [
      "100%|██████████| 5000/5000 [00:31<00:00, 156.98it/s]\n",
      "100%|██████████| 1000/1000 [00:02<00:00, 410.71it/s]\n"
     ]
    },
    {
     "name": "stdout",
     "output_type": "stream",
     "text": [
      "tensor(0.1201, grad_fn=<NllLossBackward0>)\n",
      "training_acuracy 0.8291143356875913\n",
      "validation_acuracy: 0.7982993549363383\n",
      "3\n"
     ]
    },
    {
     "name": "stderr",
     "output_type": "stream",
     "text": [
      "100%|██████████| 5000/5000 [00:31<00:00, 157.50it/s]\n",
      "100%|██████████| 1000/1000 [00:02<00:00, 424.83it/s]\n"
     ]
    },
    {
     "name": "stdout",
     "output_type": "stream",
     "text": [
      "tensor(0.0859, grad_fn=<NllLossBackward0>)\n",
      "training_acuracy 0.8547814834488152\n",
      "validation_acuracy: 0.813276175544517\n",
      "4\n"
     ]
    },
    {
     "name": "stderr",
     "output_type": "stream",
     "text": [
      "100%|██████████| 5000/5000 [00:31<00:00, 158.03it/s]\n",
      "100%|██████████| 1000/1000 [00:02<00:00, 417.03it/s]\n"
     ]
    },
    {
     "name": "stdout",
     "output_type": "stream",
     "text": [
      "tensor(0.0712, grad_fn=<NllLossBackward0>)\n",
      "training_acuracy 0.8768260941164695\n",
      "validation_acuracy: 0.8270523045548015\n",
      "5\n"
     ]
    },
    {
     "name": "stderr",
     "output_type": "stream",
     "text": [
      "100%|██████████| 5000/5000 [00:32<00:00, 155.92it/s]\n",
      "100%|██████████| 1000/1000 [00:02<00:00, 408.59it/s]\n"
     ]
    },
    {
     "name": "stdout",
     "output_type": "stream",
     "text": [
      "tensor(0.0721, grad_fn=<NllLossBackward0>)\n",
      "training_acuracy 0.8957762289631864\n",
      "validation_acuracy: 0.8389002004444079\n",
      "6\n"
     ]
    },
    {
     "name": "stderr",
     "output_type": "stream",
     "text": [
      "100%|██████████| 5000/5000 [00:31<00:00, 157.89it/s]\n",
      "100%|██████████| 1000/1000 [00:02<00:00, 421.22it/s]\n"
     ]
    },
    {
     "name": "stdout",
     "output_type": "stream",
     "text": [
      "tensor(0.0672, grad_fn=<NllLossBackward0>)\n",
      "training_acuracy 0.9118273910674012\n",
      "validation_acuracy: 0.8481281071055342\n",
      "7\n"
     ]
    },
    {
     "name": "stderr",
     "output_type": "stream",
     "text": [
      "100%|██████████| 5000/5000 [00:31<00:00, 158.28it/s]\n",
      "100%|██████████| 1000/1000 [00:02<00:00, 440.84it/s]\n"
     ]
    },
    {
     "name": "stdout",
     "output_type": "stream",
     "text": [
      "tensor(0.0543, grad_fn=<NllLossBackward0>)\n",
      "training_acuracy 0.9259779194914234\n",
      "validation_acuracy: 0.8612634464877476\n",
      "8\n"
     ]
    },
    {
     "name": "stderr",
     "output_type": "stream",
     "text": [
      "100%|██████████| 5000/5000 [00:32<00:00, 152.73it/s]\n",
      "100%|██████████| 1000/1000 [00:02<00:00, 435.03it/s]\n"
     ]
    },
    {
     "name": "stdout",
     "output_type": "stream",
     "text": [
      "tensor(0.0375, grad_fn=<NllLossBackward0>)\n",
      "training_acuracy 0.9383404520767581\n",
      "validation_acuracy: 0.87413989527\n",
      "9\n"
     ]
    },
    {
     "name": "stderr",
     "output_type": "stream",
     "text": [
      "100%|██████████| 5000/5000 [00:31<00:00, 157.94it/s]\n",
      "100%|██████████| 1000/1000 [00:02<00:00, 403.41it/s]\n"
     ]
    },
    {
     "name": "stdout",
     "output_type": "stream",
     "text": [
      "tensor(0.0290, grad_fn=<NllLossBackward0>)\n",
      "training_acuracy 0.9488793417616241\n",
      "validation_acuracy: 0.8809364292461257\n",
      "10\n"
     ]
    },
    {
     "name": "stderr",
     "output_type": "stream",
     "text": [
      "100%|██████████| 5000/5000 [00:31<00:00, 157.78it/s]\n",
      "100%|██████████| 1000/1000 [00:02<00:00, 431.92it/s]\n"
     ]
    },
    {
     "name": "stdout",
     "output_type": "stream",
     "text": [
      "tensor(0.0356, grad_fn=<NllLossBackward0>)\n",
      "training_acuracy 0.9577225815228834\n",
      "validation_acuracy: 0.8882304865033559\n",
      "11\n"
     ]
    },
    {
     "name": "stderr",
     "output_type": "stream",
     "text": [
      "100%|██████████| 5000/5000 [00:31<00:00, 157.72it/s]\n",
      "100%|██████████| 1000/1000 [00:02<00:00, 414.36it/s]\n"
     ]
    },
    {
     "name": "stdout",
     "output_type": "stream",
     "text": [
      "tensor(0.0247, grad_fn=<NllLossBackward0>)\n",
      "training_acuracy 0.9642224383231445\n",
      "validation_acuracy: 0.8962631778284421\n",
      "12\n"
     ]
    },
    {
     "name": "stderr",
     "output_type": "stream",
     "text": [
      "100%|██████████| 5000/5000 [00:31<00:00, 159.40it/s]\n",
      "100%|██████████| 1000/1000 [00:02<00:00, 414.73it/s]\n"
     ]
    },
    {
     "name": "stdout",
     "output_type": "stream",
     "text": [
      "tensor(0.0221, grad_fn=<NllLossBackward0>)\n",
      "training_acuracy 0.9691767172647122\n",
      "validation_acuracy: 0.9013965930283997\n",
      "13\n"
     ]
    },
    {
     "name": "stderr",
     "output_type": "stream",
     "text": [
      "100%|██████████| 5000/5000 [00:31<00:00, 158.53it/s]\n",
      "100%|██████████| 1000/1000 [00:02<00:00, 430.07it/s]\n"
     ]
    },
    {
     "name": "stdout",
     "output_type": "stream",
     "text": [
      "tensor(0.0256, grad_fn=<NllLossBackward0>)\n",
      "training_acuracy 0.9737932800797722\n",
      "validation_acuracy: 0.9101803064196243\n",
      "14\n"
     ]
    },
    {
     "name": "stderr",
     "output_type": "stream",
     "text": [
      "100%|██████████| 5000/5000 [00:32<00:00, 154.48it/s]\n",
      "100%|██████████| 1000/1000 [00:02<00:00, 419.81it/s]\n"
     ]
    },
    {
     "name": "stdout",
     "output_type": "stream",
     "text": [
      "tensor(0.0224, grad_fn=<NllLossBackward0>)\n",
      "training_acuracy 0.9775026353210362\n",
      "validation_acuracy: 0.9167838586211728\n",
      "15\n"
     ]
    },
    {
     "name": "stderr",
     "output_type": "stream",
     "text": [
      "100%|██████████| 5000/5000 [00:31<00:00, 159.48it/s]\n",
      "100%|██████████| 1000/1000 [00:02<00:00, 417.57it/s]\n"
     ]
    },
    {
     "name": "stdout",
     "output_type": "stream",
     "text": [
      "tensor(0.0258, grad_fn=<NllLossBackward0>)\n",
      "training_acuracy 0.9804889605156759\n",
      "validation_acuracy: 0.9216207735318213\n",
      "16\n"
     ]
    },
    {
     "name": "stderr",
     "output_type": "stream",
     "text": [
      "100%|██████████| 5000/5000 [00:33<00:00, 148.18it/s]\n",
      "100%|██████████| 1000/1000 [00:02<00:00, 362.84it/s]\n"
     ]
    },
    {
     "name": "stdout",
     "output_type": "stream",
     "text": [
      "tensor(0.0423, grad_fn=<NllLossBackward0>)\n",
      "training_acuracy 0.9835044737018291\n",
      "validation_acuracy: 0.92670884087573\n",
      "17\n"
     ]
    },
    {
     "name": "stderr",
     "output_type": "stream",
     "text": [
      "100%|██████████| 5000/5000 [00:33<00:00, 150.31it/s]\n",
      "100%|██████████| 1000/1000 [00:02<00:00, 399.69it/s]\n"
     ]
    },
    {
     "name": "stdout",
     "output_type": "stream",
     "text": [
      "tensor(0.0221, grad_fn=<NllLossBackward0>)\n",
      "training_acuracy 0.9852632287006092\n",
      "validation_acuracy: 0.9311272294797878\n",
      "18\n"
     ]
    },
    {
     "name": "stderr",
     "output_type": "stream",
     "text": [
      "100%|██████████| 5000/5000 [00:33<00:00, 149.92it/s]\n",
      "100%|██████████| 1000/1000 [00:02<00:00, 418.35it/s]\n"
     ]
    },
    {
     "name": "stdout",
     "output_type": "stream",
     "text": [
      "tensor(0.0234, grad_fn=<NllLossBackward0>)\n",
      "training_acuracy 0.9868520119136046\n",
      "validation_acuracy: 0.9338957963585606\n",
      "19\n"
     ]
    },
    {
     "name": "stderr",
     "output_type": "stream",
     "text": [
      "100%|██████████| 5000/5000 [00:31<00:00, 157.70it/s]\n",
      "100%|██████████| 1000/1000 [00:02<00:00, 394.87it/s]\n"
     ]
    },
    {
     "name": "stdout",
     "output_type": "stream",
     "text": [
      "tensor(0.0148, grad_fn=<NllLossBackward0>)\n",
      "training_acuracy 0.9874785043902004\n",
      "validation_acuracy: 0.9379145291802767\n",
      "20\n"
     ]
    },
    {
     "name": "stderr",
     "output_type": "stream",
     "text": [
      "100%|██████████| 5000/5000 [00:31<00:00, 157.83it/s]\n",
      "100%|██████████| 1000/1000 [00:02<00:00, 420.50it/s]\n"
     ]
    },
    {
     "name": "stdout",
     "output_type": "stream",
     "text": [
      "tensor(0.0137, grad_fn=<NllLossBackward0>)\n",
      "training_acuracy 0.9879413730644839\n",
      "validation_acuracy: 0.9383300591497395\n",
      "21\n"
     ]
    },
    {
     "name": "stderr",
     "output_type": "stream",
     "text": [
      "100%|██████████| 5000/5000 [00:31<00:00, 156.89it/s]\n",
      "100%|██████████| 1000/1000 [00:02<00:00, 409.32it/s]\n"
     ]
    },
    {
     "name": "stdout",
     "output_type": "stream",
     "text": [
      "tensor(0.0126, grad_fn=<NllLossBackward0>)\n",
      "training_acuracy 0.9882590312617735\n",
      "validation_acuracy: 0.9397411758669241\n",
      "22\n"
     ]
    },
    {
     "name": "stderr",
     "output_type": "stream",
     "text": [
      "100%|██████████| 5000/5000 [00:31<00:00, 158.22it/s]\n",
      "100%|██████████| 1000/1000 [00:02<00:00, 424.53it/s]\n"
     ]
    },
    {
     "name": "stdout",
     "output_type": "stream",
     "text": [
      "tensor(0.0103, grad_fn=<NllLossBackward0>)\n",
      "training_acuracy 0.98839843215698\n",
      "validation_acuracy: 0.9404304744552101\n",
      "23\n"
     ]
    },
    {
     "name": "stderr",
     "output_type": "stream",
     "text": [
      "100%|██████████| 5000/5000 [00:31<00:00, 156.70it/s]\n",
      "100%|██████████| 1000/1000 [00:02<00:00, 422.04it/s]\n"
     ]
    },
    {
     "name": "stdout",
     "output_type": "stream",
     "text": [
      "tensor(0.0087, grad_fn=<NllLossBackward0>)\n",
      "training_acuracy 0.9883819842770305\n",
      "validation_acuracy: 0.9405079621735202\n",
      "24\n"
     ]
    },
    {
     "name": "stderr",
     "output_type": "stream",
     "text": [
      "100%|██████████| 5000/5000 [00:31<00:00, 158.71it/s]\n",
      "100%|██████████| 1000/1000 [00:02<00:00, 414.18it/s]\n"
     ]
    },
    {
     "name": "stdout",
     "output_type": "stream",
     "text": [
      "tensor(0.0076, grad_fn=<NllLossBackward0>)\n",
      "training_acuracy 0.9884336148686612\n",
      "validation_acuracy: 0.940545305490761\n",
      "25\n"
     ]
    },
    {
     "name": "stderr",
     "output_type": "stream",
     "text": [
      "100%|██████████| 5000/5000 [00:32<00:00, 155.04it/s]\n",
      "100%|██████████| 1000/1000 [00:02<00:00, 396.65it/s]\n"
     ]
    },
    {
     "name": "stdout",
     "output_type": "stream",
     "text": [
      "tensor(0.0070, grad_fn=<NllLossBackward0>)\n",
      "training_acuracy 0.98846952614263\n",
      "validation_acuracy: 0.9411447962735389\n",
      "26\n"
     ]
    },
    {
     "name": "stderr",
     "output_type": "stream",
     "text": [
      "100%|██████████| 5000/5000 [00:31<00:00, 156.82it/s]\n",
      "100%|██████████| 1000/1000 [00:02<00:00, 423.89it/s]\n"
     ]
    },
    {
     "name": "stdout",
     "output_type": "stream",
     "text": [
      "tensor(0.0064, grad_fn=<NllLossBackward0>)\n",
      "training_acuracy 0.9885389865855688\n",
      "validation_acuracy: 0.9414935388378776\n",
      "27\n"
     ]
    },
    {
     "name": "stderr",
     "output_type": "stream",
     "text": [
      "100%|██████████| 5000/5000 [00:31<00:00, 156.99it/s]\n",
      "100%|██████████| 1000/1000 [00:02<00:00, 416.16it/s]\n"
     ]
    },
    {
     "name": "stdout",
     "output_type": "stream",
     "text": [
      "tensor(0.0058, grad_fn=<NllLossBackward0>)\n",
      "training_acuracy 0.988565812177131\n",
      "validation_acuracy: 0.9415469772112021\n",
      "28\n"
     ]
    },
    {
     "name": "stderr",
     "output_type": "stream",
     "text": [
      "100%|██████████| 5000/5000 [00:31<00:00, 158.81it/s]\n",
      "100%|██████████| 1000/1000 [00:02<00:00, 412.51it/s]\n"
     ]
    },
    {
     "name": "stdout",
     "output_type": "stream",
     "text": [
      "tensor(0.0054, grad_fn=<NllLossBackward0>)\n",
      "training_acuracy 0.9886139228615962\n",
      "validation_acuracy: 0.941881104195329\n",
      "29\n"
     ]
    },
    {
     "name": "stderr",
     "output_type": "stream",
     "text": [
      "100%|██████████| 5000/5000 [00:31<00:00, 158.65it/s]\n",
      "100%|██████████| 1000/1000 [00:02<00:00, 414.28it/s]\n"
     ]
    },
    {
     "name": "stdout",
     "output_type": "stream",
     "text": [
      "tensor(0.0050, grad_fn=<NllLossBackward0>)\n",
      "training_acuracy 0.9885853997180729\n",
      "validation_acuracy: 0.9422110844060371\n",
      "0\n"
     ]
    },
    {
     "name": "stderr",
     "output_type": "stream",
     "text": [
      "100%|██████████| 5000/5000 [00:32<00:00, 152.26it/s]\n",
      "100%|██████████| 1000/1000 [00:02<00:00, 407.69it/s]\n"
     ]
    },
    {
     "name": "stdout",
     "output_type": "stream",
     "text": [
      "tensor(0.3582, grad_fn=<NllLossBackward0>)\n",
      "training_acuracy 0.710577661244137\n",
      "validation_acuracy: 0.7442191241387986\n",
      "1\n"
     ]
    },
    {
     "name": "stderr",
     "output_type": "stream",
     "text": [
      "100%|██████████| 5000/5000 [00:33<00:00, 151.20it/s]\n",
      "100%|██████████| 1000/1000 [00:02<00:00, 400.16it/s]\n"
     ]
    },
    {
     "name": "stdout",
     "output_type": "stream",
     "text": [
      "tensor(0.1883, grad_fn=<NllLossBackward0>)\n",
      "training_acuracy 0.7977034768196396\n",
      "validation_acuracy: 0.7718026916278535\n",
      "2\n"
     ]
    },
    {
     "name": "stderr",
     "output_type": "stream",
     "text": [
      "100%|██████████| 5000/5000 [00:32<00:00, 153.29it/s]\n",
      "100%|██████████| 1000/1000 [00:02<00:00, 409.29it/s]\n"
     ]
    },
    {
     "name": "stdout",
     "output_type": "stream",
     "text": [
      "tensor(0.1211, grad_fn=<NllLossBackward0>)\n",
      "training_acuracy 0.8315447578282772\n",
      "validation_acuracy: 0.8012987392804287\n",
      "3\n"
     ]
    },
    {
     "name": "stderr",
     "output_type": "stream",
     "text": [
      "100%|██████████| 5000/5000 [00:33<00:00, 150.60it/s]\n",
      "100%|██████████| 1000/1000 [00:02<00:00, 416.00it/s]\n"
     ]
    },
    {
     "name": "stdout",
     "output_type": "stream",
     "text": [
      "tensor(0.0694, grad_fn=<NllLossBackward0>)\n",
      "training_acuracy 0.8608794581293833\n",
      "validation_acuracy: 0.8227689333904229\n",
      "4\n"
     ]
    },
    {
     "name": "stderr",
     "output_type": "stream",
     "text": [
      "100%|██████████| 5000/5000 [00:33<00:00, 149.26it/s]\n",
      "100%|██████████| 1000/1000 [00:02<00:00, 396.33it/s]\n"
     ]
    },
    {
     "name": "stdout",
     "output_type": "stream",
     "text": [
      "tensor(0.0503, grad_fn=<NllLossBackward0>)\n",
      "training_acuracy 0.8856026320660094\n",
      "validation_acuracy: 0.8447789786884453\n",
      "5\n"
     ]
    },
    {
     "name": "stderr",
     "output_type": "stream",
     "text": [
      "100%|██████████| 5000/5000 [00:32<00:00, 151.84it/s]\n",
      "100%|██████████| 1000/1000 [00:02<00:00, 424.18it/s]\n"
     ]
    },
    {
     "name": "stdout",
     "output_type": "stream",
     "text": [
      "tensor(0.0463, grad_fn=<NllLossBackward0>)\n",
      "training_acuracy 0.9071780910484507\n",
      "validation_acuracy: 0.8568806083225051\n",
      "6\n"
     ]
    },
    {
     "name": "stderr",
     "output_type": "stream",
     "text": [
      "100%|██████████| 5000/5000 [00:32<00:00, 153.32it/s]\n",
      "100%|██████████| 1000/1000 [00:02<00:00, 401.95it/s]\n"
     ]
    },
    {
     "name": "stdout",
     "output_type": "stream",
     "text": [
      "tensor(0.0465, grad_fn=<NllLossBackward0>)\n",
      "training_acuracy 0.92567477183882\n",
      "validation_acuracy: 0.8705839112684522\n",
      "7\n"
     ]
    },
    {
     "name": "stderr",
     "output_type": "stream",
     "text": [
      "100%|██████████| 5000/5000 [00:32<00:00, 153.62it/s]\n",
      "100%|██████████| 1000/1000 [00:02<00:00, 400.92it/s]\n"
     ]
    },
    {
     "name": "stdout",
     "output_type": "stream",
     "text": [
      "tensor(0.0150, grad_fn=<NllLossBackward0>)\n",
      "training_acuracy 0.94074649974766\n",
      "validation_acuracy: 0.8822277076208797\n",
      "8\n"
     ]
    },
    {
     "name": "stderr",
     "output_type": "stream",
     "text": [
      "100%|██████████| 5000/5000 [00:32<00:00, 153.49it/s]\n",
      "100%|██████████| 1000/1000 [00:02<00:00, 411.30it/s]\n"
     ]
    },
    {
     "name": "stdout",
     "output_type": "stream",
     "text": [
      "tensor(0.0050, grad_fn=<NllLossBackward0>)\n",
      "training_acuracy 0.9536463753687254\n",
      "validation_acuracy: 0.89294466241849\n",
      "9\n"
     ]
    },
    {
     "name": "stderr",
     "output_type": "stream",
     "text": [
      "100%|██████████| 5000/5000 [00:32<00:00, 152.81it/s]\n",
      "100%|██████████| 1000/1000 [00:02<00:00, 421.08it/s]\n"
     ]
    },
    {
     "name": "stdout",
     "output_type": "stream",
     "text": [
      "tensor(0.0023, grad_fn=<NllLossBackward0>)\n",
      "training_acuracy 0.964337209904037\n",
      "validation_acuracy: 0.9028569352023514\n",
      "10\n"
     ]
    },
    {
     "name": "stderr",
     "output_type": "stream",
     "text": [
      "100%|██████████| 5000/5000 [00:32<00:00, 152.07it/s]\n",
      "100%|██████████| 1000/1000 [00:02<00:00, 402.58it/s]\n"
     ]
    },
    {
     "name": "stdout",
     "output_type": "stream",
     "text": [
      "tensor(0.0033, grad_fn=<NllLossBackward0>)\n",
      "training_acuracy 0.9720091766757297\n",
      "validation_acuracy: 0.9108497922934161\n",
      "11\n"
     ]
    },
    {
     "name": "stderr",
     "output_type": "stream",
     "text": [
      "100%|██████████| 5000/5000 [00:33<00:00, 150.33it/s]\n",
      "100%|██████████| 1000/1000 [00:02<00:00, 426.74it/s]\n"
     ]
    },
    {
     "name": "stdout",
     "output_type": "stream",
     "text": [
      "tensor(0.0025, grad_fn=<NllLossBackward0>)\n",
      "training_acuracy 0.9779366469599236\n",
      "validation_acuracy: 0.9196228334539515\n",
      "12\n"
     ]
    },
    {
     "name": "stderr",
     "output_type": "stream",
     "text": [
      "100%|██████████| 5000/5000 [00:33<00:00, 151.40it/s]\n",
      "100%|██████████| 1000/1000 [00:02<00:00, 408.14it/s]\n"
     ]
    },
    {
     "name": "stdout",
     "output_type": "stream",
     "text": [
      "tensor(0.0025, grad_fn=<NllLossBackward0>)\n",
      "training_acuracy 0.9821069749210848\n",
      "validation_acuracy: 0.9272839239971455\n",
      "13\n"
     ]
    },
    {
     "name": "stderr",
     "output_type": "stream",
     "text": [
      "100%|██████████| 5000/5000 [00:32<00:00, 152.84it/s]\n",
      "100%|██████████| 1000/1000 [00:02<00:00, 404.57it/s]\n"
     ]
    },
    {
     "name": "stdout",
     "output_type": "stream",
     "text": [
      "tensor(0.0025, grad_fn=<NllLossBackward0>)\n",
      "training_acuracy 0.9850714937942759\n",
      "validation_acuracy: 0.930921195436282\n",
      "14\n"
     ]
    },
    {
     "name": "stderr",
     "output_type": "stream",
     "text": [
      "100%|██████████| 5000/5000 [00:32<00:00, 153.08it/s]\n",
      "100%|██████████| 1000/1000 [00:02<00:00, 414.29it/s]\n"
     ]
    },
    {
     "name": "stdout",
     "output_type": "stream",
     "text": [
      "tensor(0.0027, grad_fn=<NllLossBackward0>)\n",
      "training_acuracy 0.9866734165967255\n",
      "validation_acuracy: 0.9348413190105661\n",
      "15\n"
     ]
    },
    {
     "name": "stderr",
     "output_type": "stream",
     "text": [
      "100%|██████████| 5000/5000 [00:32<00:00, 151.77it/s]\n",
      "100%|██████████| 1000/1000 [00:02<00:00, 420.38it/s]\n"
     ]
    },
    {
     "name": "stdout",
     "output_type": "stream",
     "text": [
      "tensor(0.0032, grad_fn=<NllLossBackward0>)\n",
      "training_acuracy 0.9876615877194405\n",
      "validation_acuracy: 0.9380305026030359\n",
      "16\n"
     ]
    },
    {
     "name": "stderr",
     "output_type": "stream",
     "text": [
      "100%|██████████| 5000/5000 [00:32<00:00, 151.60it/s]\n",
      "100%|██████████| 1000/1000 [00:02<00:00, 412.95it/s]\n"
     ]
    },
    {
     "name": "stdout",
     "output_type": "stream",
     "text": [
      "tensor(0.0036, grad_fn=<NllLossBackward0>)\n",
      "training_acuracy 0.9881169740974753\n",
      "validation_acuracy: 0.9406871513883269\n",
      "17\n"
     ]
    },
    {
     "name": "stderr",
     "output_type": "stream",
     "text": [
      "100%|██████████| 5000/5000 [00:32<00:00, 153.01it/s]\n",
      "100%|██████████| 1000/1000 [00:02<00:00, 409.87it/s]\n"
     ]
    },
    {
     "name": "stdout",
     "output_type": "stream",
     "text": [
      "tensor(0.0035, grad_fn=<NllLossBackward0>)\n",
      "training_acuracy 0.9883502504737764\n",
      "validation_acuracy: 0.9417313238954365\n",
      "18\n"
     ]
    },
    {
     "name": "stderr",
     "output_type": "stream",
     "text": [
      "100%|██████████| 5000/5000 [00:33<00:00, 150.90it/s]\n",
      "100%|██████████| 1000/1000 [00:02<00:00, 392.15it/s]\n"
     ]
    },
    {
     "name": "stdout",
     "output_type": "stream",
     "text": [
      "tensor(0.0034, grad_fn=<NllLossBackward0>)\n",
      "training_acuracy 0.9883459568113432\n",
      "validation_acuracy: 0.9420131922678808\n",
      "19\n"
     ]
    },
    {
     "name": "stderr",
     "output_type": "stream",
     "text": [
      "100%|██████████| 5000/5000 [00:32<00:00, 153.50it/s]\n",
      "100%|██████████| 1000/1000 [00:02<00:00, 413.57it/s]\n"
     ]
    },
    {
     "name": "stdout",
     "output_type": "stream",
     "text": [
      "tensor(0.0033, grad_fn=<NllLossBackward0>)\n",
      "training_acuracy 0.98844158215371\n",
      "validation_acuracy: 0.9425331765786832\n",
      "20\n"
     ]
    },
    {
     "name": "stderr",
     "output_type": "stream",
     "text": [
      "100%|██████████| 5000/5000 [00:33<00:00, 150.12it/s]\n",
      "100%|██████████| 1000/1000 [00:02<00:00, 431.55it/s]\n"
     ]
    },
    {
     "name": "stdout",
     "output_type": "stream",
     "text": [
      "tensor(0.0031, grad_fn=<NllLossBackward0>)\n",
      "training_acuracy 0.9884951518674948\n",
      "validation_acuracy: 0.9430884405518961\n",
      "21\n"
     ]
    },
    {
     "name": "stderr",
     "output_type": "stream",
     "text": [
      "100%|██████████| 5000/5000 [00:32<00:00, 151.63it/s]\n",
      "100%|██████████| 1000/1000 [00:02<00:00, 419.89it/s]\n"
     ]
    },
    {
     "name": "stdout",
     "output_type": "stream",
     "text": [
      "tensor(0.0029, grad_fn=<NllLossBackward0>)\n",
      "training_acuracy 0.988516347519669\n",
      "validation_acuracy: 0.9434124794039671\n",
      "22\n"
     ]
    },
    {
     "name": "stderr",
     "output_type": "stream",
     "text": [
      "100%|██████████| 5000/5000 [00:33<00:00, 150.20it/s]\n",
      "100%|██████████| 1000/1000 [00:02<00:00, 410.43it/s]\n"
     ]
    },
    {
     "name": "stdout",
     "output_type": "stream",
     "text": [
      "tensor(0.0027, grad_fn=<NllLossBackward0>)\n",
      "training_acuracy 0.9885445633332671\n",
      "validation_acuracy: 0.9438996028990442\n",
      "23\n"
     ]
    },
    {
     "name": "stderr",
     "output_type": "stream",
     "text": [
      "100%|██████████| 5000/5000 [00:32<00:00, 152.66it/s]\n",
      "100%|██████████| 1000/1000 [00:02<00:00, 406.48it/s]\n"
     ]
    },
    {
     "name": "stdout",
     "output_type": "stream",
     "text": [
      "tensor(0.0026, grad_fn=<NllLossBackward0>)\n",
      "training_acuracy 0.9885253966666006\n",
      "validation_acuracy: 0.9438177628823359\n",
      "24\n"
     ]
    },
    {
     "name": "stderr",
     "output_type": "stream",
     "text": [
      "100%|██████████| 5000/5000 [00:32<00:00, 152.36it/s]\n",
      "100%|██████████| 1000/1000 [00:02<00:00, 410.64it/s]\n"
     ]
    },
    {
     "name": "stdout",
     "output_type": "stream",
     "text": [
      "tensor(0.0025, grad_fn=<NllLossBackward0>)\n",
      "training_acuracy 0.9885319301798711\n",
      "validation_acuracy: 0.9441224011646278\n",
      "25\n"
     ]
    },
    {
     "name": "stderr",
     "output_type": "stream",
     "text": [
      "100%|██████████| 5000/5000 [00:32<00:00, 151.95it/s]\n",
      "100%|██████████| 1000/1000 [00:02<00:00, 421.12it/s]\n"
     ]
    },
    {
     "name": "stdout",
     "output_type": "stream",
     "text": [
      "tensor(0.0024, grad_fn=<NllLossBackward0>)\n",
      "training_acuracy 0.9885058220121504\n",
      "validation_acuracy: 0.9445764738463319\n",
      "26\n"
     ]
    },
    {
     "name": "stderr",
     "output_type": "stream",
     "text": [
      "100%|██████████| 5000/5000 [00:32<00:00, 151.94it/s]\n",
      "100%|██████████| 1000/1000 [00:02<00:00, 409.14it/s]\n"
     ]
    },
    {
     "name": "stdout",
     "output_type": "stream",
     "text": [
      "tensor(0.0022, grad_fn=<NllLossBackward0>)\n",
      "training_acuracy 0.9885067513050795\n",
      "validation_acuracy: 0.9447922407518737\n",
      "27\n"
     ]
    },
    {
     "name": "stderr",
     "output_type": "stream",
     "text": [
      "100%|██████████| 5000/5000 [00:33<00:00, 151.27it/s]\n",
      "100%|██████████| 1000/1000 [00:02<00:00, 406.66it/s]\n"
     ]
    },
    {
     "name": "stdout",
     "output_type": "stream",
     "text": [
      "tensor(0.0021, grad_fn=<NllLossBackward0>)\n",
      "training_acuracy 0.9885132716325783\n",
      "validation_acuracy: 0.9448541455137786\n",
      "28\n"
     ]
    },
    {
     "name": "stderr",
     "output_type": "stream",
     "text": [
      "100%|██████████| 5000/5000 [00:33<00:00, 151.35it/s]\n",
      "100%|██████████| 1000/1000 [00:02<00:00, 406.20it/s]\n"
     ]
    },
    {
     "name": "stdout",
     "output_type": "stream",
     "text": [
      "tensor(0.0020, grad_fn=<NllLossBackward0>)\n",
      "training_acuracy 0.9885227954421021\n",
      "validation_acuracy: 0.9446878656171108\n",
      "29\n"
     ]
    },
    {
     "name": "stderr",
     "output_type": "stream",
     "text": [
      "100%|██████████| 5000/5000 [00:34<00:00, 145.42it/s]\n",
      "100%|██████████| 1000/1000 [00:02<00:00, 371.41it/s]\n"
     ]
    },
    {
     "name": "stdout",
     "output_type": "stream",
     "text": [
      "tensor(0.0019, grad_fn=<NllLossBackward0>)\n",
      "training_acuracy 0.9885516978291438\n",
      "validation_acuracy: 0.944507823600304\n",
      "0\n"
     ]
    },
    {
     "name": "stderr",
     "output_type": "stream",
     "text": [
      "100%|██████████| 5000/5000 [00:35<00:00, 141.58it/s]\n",
      "100%|██████████| 1000/1000 [00:02<00:00, 396.77it/s]\n"
     ]
    },
    {
     "name": "stdout",
     "output_type": "stream",
     "text": [
      "tensor(0.5020, grad_fn=<NllLossBackward0>)\n",
      "training_acuracy 0.7090919137491235\n",
      "validation_acuracy: 0.7411637459830802\n",
      "1\n"
     ]
    },
    {
     "name": "stderr",
     "output_type": "stream",
     "text": [
      "100%|██████████| 5000/5000 [00:33<00:00, 147.13it/s]\n",
      "100%|██████████| 1000/1000 [00:02<00:00, 391.68it/s]\n"
     ]
    },
    {
     "name": "stdout",
     "output_type": "stream",
     "text": [
      "tensor(0.3096, grad_fn=<NllLossBackward0>)\n",
      "training_acuracy 0.798444224752142\n",
      "validation_acuracy: 0.775351899589193\n",
      "2\n"
     ]
    },
    {
     "name": "stderr",
     "output_type": "stream",
     "text": [
      "100%|██████████| 5000/5000 [00:34<00:00, 146.74it/s]\n",
      "100%|██████████| 1000/1000 [00:02<00:00, 399.97it/s]\n"
     ]
    },
    {
     "name": "stdout",
     "output_type": "stream",
     "text": [
      "tensor(0.1903, grad_fn=<NllLossBackward0>)\n",
      "training_acuracy 0.8336053688782343\n",
      "validation_acuracy: 0.8034385845796466\n",
      "3\n"
     ]
    },
    {
     "name": "stderr",
     "output_type": "stream",
     "text": [
      "100%|██████████| 5000/5000 [00:34<00:00, 146.52it/s]\n",
      "100%|██████████| 1000/1000 [00:02<00:00, 403.96it/s]\n"
     ]
    },
    {
     "name": "stdout",
     "output_type": "stream",
     "text": [
      "tensor(0.1132, grad_fn=<NllLossBackward0>)\n",
      "training_acuracy 0.8644863014854923\n",
      "validation_acuracy: 0.8262516554216418\n",
      "4\n"
     ]
    },
    {
     "name": "stderr",
     "output_type": "stream",
     "text": [
      "100%|██████████| 5000/5000 [00:33<00:00, 148.03it/s]\n",
      "100%|██████████| 1000/1000 [00:02<00:00, 422.93it/s]\n"
     ]
    },
    {
     "name": "stdout",
     "output_type": "stream",
     "text": [
      "tensor(0.0748, grad_fn=<NllLossBackward0>)\n",
      "training_acuracy 0.8920260590308872\n",
      "validation_acuracy: 0.8464021801671803\n",
      "5\n"
     ]
    },
    {
     "name": "stderr",
     "output_type": "stream",
     "text": [
      "100%|██████████| 5000/5000 [00:34<00:00, 145.21it/s]\n",
      "100%|██████████| 1000/1000 [00:02<00:00, 390.29it/s]\n"
     ]
    },
    {
     "name": "stdout",
     "output_type": "stream",
     "text": [
      "tensor(0.0493, grad_fn=<NllLossBackward0>)\n",
      "training_acuracy 0.9170562664480129\n",
      "validation_acuracy: 0.8657480447572362\n",
      "6\n"
     ]
    },
    {
     "name": "stderr",
     "output_type": "stream",
     "text": [
      "100%|██████████| 5000/5000 [00:33<00:00, 147.63it/s]\n",
      "100%|██████████| 1000/1000 [00:02<00:00, 403.43it/s]\n"
     ]
    },
    {
     "name": "stdout",
     "output_type": "stream",
     "text": [
      "tensor(0.0249, grad_fn=<NllLossBackward0>)\n",
      "training_acuracy 0.9372852685087246\n",
      "validation_acuracy: 0.8809483941693047\n",
      "7\n"
     ]
    },
    {
     "name": "stderr",
     "output_type": "stream",
     "text": [
      "100%|██████████| 5000/5000 [00:34<00:00, 145.86it/s]\n",
      "100%|██████████| 1000/1000 [00:02<00:00, 401.71it/s]\n"
     ]
    },
    {
     "name": "stdout",
     "output_type": "stream",
     "text": [
      "tensor(0.0091, grad_fn=<NllLossBackward0>)\n",
      "training_acuracy 0.9537429672522916\n",
      "validation_acuracy: 0.8920412875616139\n",
      "8\n"
     ]
    },
    {
     "name": "stderr",
     "output_type": "stream",
     "text": [
      "100%|██████████| 5000/5000 [00:33<00:00, 147.42it/s]\n",
      "100%|██████████| 1000/1000 [00:02<00:00, 394.34it/s]\n"
     ]
    },
    {
     "name": "stdout",
     "output_type": "stream",
     "text": [
      "tensor(0.0074, grad_fn=<NllLossBackward0>)\n",
      "training_acuracy 0.9663834816899242\n",
      "validation_acuracy: 0.9058670735829747\n",
      "9\n"
     ]
    },
    {
     "name": "stderr",
     "output_type": "stream",
     "text": [
      "100%|██████████| 5000/5000 [00:33<00:00, 147.36it/s]\n",
      "100%|██████████| 1000/1000 [00:02<00:00, 408.03it/s]\n"
     ]
    },
    {
     "name": "stdout",
     "output_type": "stream",
     "text": [
      "tensor(0.0076, grad_fn=<NllLossBackward0>)\n",
      "training_acuracy 0.9746443378673756\n",
      "validation_acuracy: 0.916906659552218\n",
      "10\n"
     ]
    },
    {
     "name": "stderr",
     "output_type": "stream",
     "text": [
      "100%|██████████| 5000/5000 [00:34<00:00, 146.39it/s]\n",
      "100%|██████████| 1000/1000 [00:02<00:00, 382.20it/s]\n"
     ]
    },
    {
     "name": "stdout",
     "output_type": "stream",
     "text": [
      "tensor(0.0062, grad_fn=<NllLossBackward0>)\n",
      "training_acuracy 0.9811615451138916\n",
      "validation_acuracy: 0.9235938566376379\n",
      "11\n"
     ]
    },
    {
     "name": "stderr",
     "output_type": "stream",
     "text": [
      "100%|██████████| 5000/5000 [00:33<00:00, 148.34it/s]\n",
      "100%|██████████| 1000/1000 [00:02<00:00, 406.37it/s]\n"
     ]
    },
    {
     "name": "stdout",
     "output_type": "stream",
     "text": [
      "tensor(0.0048, grad_fn=<NllLossBackward0>)\n",
      "training_acuracy 0.9851018377921024\n",
      "validation_acuracy: 0.9297919625934317\n",
      "12\n"
     ]
    },
    {
     "name": "stderr",
     "output_type": "stream",
     "text": [
      "100%|██████████| 5000/5000 [00:33<00:00, 147.19it/s]\n",
      "100%|██████████| 1000/1000 [00:02<00:00, 380.68it/s]\n"
     ]
    },
    {
     "name": "stdout",
     "output_type": "stream",
     "text": [
      "tensor(0.0066, grad_fn=<NllLossBackward0>)\n",
      "training_acuracy 0.9871190401073585\n",
      "validation_acuracy: 0.9368514828933135\n",
      "13\n"
     ]
    },
    {
     "name": "stderr",
     "output_type": "stream",
     "text": [
      "100%|██████████| 5000/5000 [00:34<00:00, 146.50it/s]\n",
      "100%|██████████| 1000/1000 [00:02<00:00, 405.16it/s]\n"
     ]
    },
    {
     "name": "stdout",
     "output_type": "stream",
     "text": [
      "tensor(0.0037, grad_fn=<NllLossBackward0>)\n",
      "training_acuracy 0.987871078543918\n",
      "validation_acuracy: 0.9390037151892058\n",
      "14\n"
     ]
    },
    {
     "name": "stderr",
     "output_type": "stream",
     "text": [
      "100%|██████████| 5000/5000 [00:33<00:00, 147.17it/s]\n",
      "100%|██████████| 1000/1000 [00:02<00:00, 400.35it/s]\n"
     ]
    },
    {
     "name": "stdout",
     "output_type": "stream",
     "text": [
      "tensor(0.0021, grad_fn=<NllLossBackward0>)\n",
      "training_acuracy 0.9882281885312469\n",
      "validation_acuracy: 0.9405724339011022\n",
      "15\n"
     ]
    },
    {
     "name": "stderr",
     "output_type": "stream",
     "text": [
      "100%|██████████| 5000/5000 [00:35<00:00, 140.54it/s]\n",
      "100%|██████████| 1000/1000 [00:02<00:00, 385.26it/s]\n"
     ]
    },
    {
     "name": "stdout",
     "output_type": "stream",
     "text": [
      "tensor(0.0017, grad_fn=<NllLossBackward0>)\n",
      "training_acuracy 0.9883179490716344\n",
      "validation_acuracy: 0.940773012977817\n",
      "16\n"
     ]
    },
    {
     "name": "stderr",
     "output_type": "stream",
     "text": [
      "100%|██████████| 5000/5000 [00:34<00:00, 145.39it/s]\n",
      "100%|██████████| 1000/1000 [00:02<00:00, 400.08it/s]\n"
     ]
    },
    {
     "name": "stdout",
     "output_type": "stream",
     "text": [
      "tensor(0.0015, grad_fn=<NllLossBackward0>)\n",
      "training_acuracy 0.9884185496346419\n",
      "validation_acuracy: 0.9416405804806468\n",
      "17\n"
     ]
    },
    {
     "name": "stderr",
     "output_type": "stream",
     "text": [
      "100%|██████████| 5000/5000 [00:33<00:00, 147.56it/s]\n",
      "100%|██████████| 1000/1000 [00:02<00:00, 397.11it/s]\n"
     ]
    },
    {
     "name": "stdout",
     "output_type": "stream",
     "text": [
      "tensor(0.0013, grad_fn=<NllLossBackward0>)\n",
      "training_acuracy 0.9883750744605213\n",
      "validation_acuracy: 0.9420158200501586\n",
      "18\n"
     ]
    },
    {
     "name": "stderr",
     "output_type": "stream",
     "text": [
      "100%|██████████| 5000/5000 [00:34<00:00, 146.76it/s]\n",
      "100%|██████████| 1000/1000 [00:02<00:00, 393.87it/s]\n"
     ]
    },
    {
     "name": "stdout",
     "output_type": "stream",
     "text": [
      "tensor(0.0013, grad_fn=<NllLossBackward0>)\n",
      "training_acuracy 0.9883348969654194\n",
      "validation_acuracy: 0.9417983096520601\n",
      "19\n"
     ]
    },
    {
     "name": "stderr",
     "output_type": "stream",
     "text": [
      "100%|██████████| 5000/5000 [00:33<00:00, 147.79it/s]\n",
      "100%|██████████| 1000/1000 [00:02<00:00, 397.71it/s]\n"
     ]
    },
    {
     "name": "stdout",
     "output_type": "stream",
     "text": [
      "tensor(0.0012, grad_fn=<NllLossBackward0>)\n",
      "training_acuracy 0.9883737946377956\n",
      "validation_acuracy: 0.9419645968727511\n",
      "20\n"
     ]
    },
    {
     "name": "stderr",
     "output_type": "stream",
     "text": [
      "100%|██████████| 5000/5000 [00:34<00:00, 145.99it/s]\n",
      "100%|██████████| 1000/1000 [00:02<00:00, 396.36it/s]\n"
     ]
    },
    {
     "name": "stdout",
     "output_type": "stream",
     "text": [
      "tensor(0.0012, grad_fn=<NllLossBackward0>)\n",
      "training_acuracy 0.9883586691260527\n",
      "validation_acuracy: 0.9419188594677412\n",
      "21\n"
     ]
    },
    {
     "name": "stderr",
     "output_type": "stream",
     "text": [
      "100%|██████████| 5000/5000 [00:34<00:00, 146.87it/s]\n",
      "100%|██████████| 1000/1000 [00:02<00:00, 395.06it/s]\n"
     ]
    },
    {
     "name": "stdout",
     "output_type": "stream",
     "text": [
      "tensor(0.0012, grad_fn=<NllLossBackward0>)\n",
      "training_acuracy 0.9883334620378195\n",
      "validation_acuracy: 0.9419075428749771\n",
      "22\n"
     ]
    },
    {
     "name": "stderr",
     "output_type": "stream",
     "text": [
      "100%|██████████| 5000/5000 [00:33<00:00, 147.43it/s]\n",
      "100%|██████████| 1000/1000 [00:02<00:00, 396.87it/s]\n"
     ]
    },
    {
     "name": "stdout",
     "output_type": "stream",
     "text": [
      "tensor(0.0012, grad_fn=<NllLossBackward0>)\n",
      "training_acuracy 0.988299122271978\n",
      "validation_acuracy: 0.9420574147136648\n",
      "23\n"
     ]
    },
    {
     "name": "stderr",
     "output_type": "stream",
     "text": [
      "100%|██████████| 5000/5000 [00:34<00:00, 143.30it/s]\n",
      "100%|██████████| 1000/1000 [00:02<00:00, 400.07it/s]\n"
     ]
    },
    {
     "name": "stdout",
     "output_type": "stream",
     "text": [
      "tensor(0.0012, grad_fn=<NllLossBackward0>)\n",
      "training_acuracy 0.9883468415702237\n",
      "validation_acuracy: 0.9421300587792653\n",
      "24\n"
     ]
    },
    {
     "name": "stderr",
     "output_type": "stream",
     "text": [
      "100%|██████████| 5000/5000 [00:34<00:00, 144.03it/s]\n",
      "100%|██████████| 1000/1000 [00:02<00:00, 408.88it/s]\n"
     ]
    },
    {
     "name": "stdout",
     "output_type": "stream",
     "text": [
      "tensor(0.0011, grad_fn=<NllLossBackward0>)\n",
      "training_acuracy 0.9884242261301082\n",
      "validation_acuracy: 0.9420317071309137\n",
      "25\n"
     ]
    },
    {
     "name": "stderr",
     "output_type": "stream",
     "text": [
      "100%|██████████| 5000/5000 [00:34<00:00, 146.36it/s]\n",
      "100%|██████████| 1000/1000 [00:02<00:00, 395.94it/s]\n"
     ]
    },
    {
     "name": "stdout",
     "output_type": "stream",
     "text": [
      "tensor(0.0011, grad_fn=<NllLossBackward0>)\n",
      "training_acuracy 0.9884658267517088\n",
      "validation_acuracy: 0.9422408858748749\n",
      "26\n"
     ]
    },
    {
     "name": "stderr",
     "output_type": "stream",
     "text": [
      "100%|██████████| 5000/5000 [00:33<00:00, 147.07it/s]\n",
      "100%|██████████| 1000/1000 [00:02<00:00, 389.23it/s]\n"
     ]
    },
    {
     "name": "stdout",
     "output_type": "stream",
     "text": [
      "tensor(0.0011, grad_fn=<NllLossBackward0>)\n",
      "training_acuracy 0.9885185127001364\n",
      "validation_acuracy: 0.9427058373041645\n",
      "27\n"
     ]
    },
    {
     "name": "stderr",
     "output_type": "stream",
     "text": [
      "100%|██████████| 5000/5000 [00:33<00:00, 148.47it/s]\n",
      "100%|██████████| 1000/1000 [00:02<00:00, 391.20it/s]\n"
     ]
    },
    {
     "name": "stdout",
     "output_type": "stream",
     "text": [
      "tensor(0.0011, grad_fn=<NllLossBackward0>)\n",
      "training_acuracy 0.9885470205811443\n",
      "validation_acuracy: 0.9428402843788288\n",
      "28\n"
     ]
    },
    {
     "name": "stderr",
     "output_type": "stream",
     "text": [
      "100%|██████████| 5000/5000 [00:33<00:00, 147.13it/s]\n",
      "100%|██████████| 1000/1000 [00:02<00:00, 393.04it/s]\n"
     ]
    },
    {
     "name": "stdout",
     "output_type": "stream",
     "text": [
      "tensor(0.0010, grad_fn=<NllLossBackward0>)\n",
      "training_acuracy 0.9885864702923789\n",
      "validation_acuracy: 0.9430478482159582\n",
      "29\n"
     ]
    },
    {
     "name": "stderr",
     "output_type": "stream",
     "text": [
      "100%|██████████| 5000/5000 [00:34<00:00, 146.51it/s]\n",
      "100%|██████████| 1000/1000 [00:02<00:00, 395.08it/s]\n"
     ]
    },
    {
     "name": "stdout",
     "output_type": "stream",
     "text": [
      "tensor(0.0010, grad_fn=<NllLossBackward0>)\n",
      "training_acuracy 0.9886122224378944\n",
      "validation_acuracy: 0.9433032053588153\n",
      "0\n"
     ]
    },
    {
     "name": "stderr",
     "output_type": "stream",
     "text": [
      "100%|██████████| 5000/5000 [00:35<00:00, 139.89it/s]\n",
      "100%|██████████| 1000/1000 [00:02<00:00, 387.21it/s]\n"
     ]
    },
    {
     "name": "stdout",
     "output_type": "stream",
     "text": [
      "tensor(0.5446, grad_fn=<NllLossBackward0>)\n",
      "training_acuracy 0.70212606529706\n",
      "validation_acuracy: 0.7396821261681887\n",
      "1\n"
     ]
    },
    {
     "name": "stderr",
     "output_type": "stream",
     "text": [
      "100%|██████████| 5000/5000 [00:35<00:00, 141.12it/s]\n",
      "100%|██████████| 1000/1000 [00:02<00:00, 384.41it/s]\n"
     ]
    },
    {
     "name": "stdout",
     "output_type": "stream",
     "text": [
      "tensor(0.3063, grad_fn=<NllLossBackward0>)\n",
      "training_acuracy 0.8003418666428282\n",
      "validation_acuracy: 0.7793135561746741\n",
      "2\n"
     ]
    },
    {
     "name": "stderr",
     "output_type": "stream",
     "text": [
      "100%|██████████| 5000/5000 [00:35<00:00, 141.74it/s]\n",
      "100%|██████████| 1000/1000 [00:02<00:00, 370.54it/s]\n"
     ]
    },
    {
     "name": "stdout",
     "output_type": "stream",
     "text": [
      "tensor(0.1677, grad_fn=<NllLossBackward0>)\n",
      "training_acuracy 0.8383116319478433\n",
      "validation_acuracy: 0.8078536625465547\n",
      "3\n"
     ]
    },
    {
     "name": "stderr",
     "output_type": "stream",
     "text": [
      "100%|██████████| 5000/5000 [00:35<00:00, 141.56it/s]\n",
      "100%|██████████| 1000/1000 [00:02<00:00, 392.87it/s]\n"
     ]
    },
    {
     "name": "stdout",
     "output_type": "stream",
     "text": [
      "tensor(0.1083, grad_fn=<NllLossBackward0>)\n",
      "training_acuracy 0.870960409758547\n",
      "validation_acuracy: 0.8331645768551875\n",
      "4\n"
     ]
    },
    {
     "name": "stderr",
     "output_type": "stream",
     "text": [
      "100%|██████████| 5000/5000 [00:35<00:00, 141.94it/s]\n",
      "100%|██████████| 1000/1000 [00:02<00:00, 384.74it/s]\n"
     ]
    },
    {
     "name": "stdout",
     "output_type": "stream",
     "text": [
      "tensor(0.0630, grad_fn=<NllLossBackward0>)\n",
      "training_acuracy 0.9018543101536799\n",
      "validation_acuracy: 0.856873873319998\n",
      "5\n"
     ]
    },
    {
     "name": "stderr",
     "output_type": "stream",
     "text": [
      "100%|██████████| 5000/5000 [00:35<00:00, 141.10it/s]\n",
      "100%|██████████| 1000/1000 [00:02<00:00, 388.42it/s]\n"
     ]
    },
    {
     "name": "stdout",
     "output_type": "stream",
     "text": [
      "tensor(0.0399, grad_fn=<NllLossBackward0>)\n",
      "training_acuracy 0.9274489131271323\n",
      "validation_acuracy: 0.8734041141590982\n",
      "6\n"
     ]
    },
    {
     "name": "stderr",
     "output_type": "stream",
     "text": [
      "100%|██████████| 5000/5000 [00:35<00:00, 141.18it/s]\n",
      "100%|██████████| 1000/1000 [00:02<00:00, 372.86it/s]\n"
     ]
    },
    {
     "name": "stdout",
     "output_type": "stream",
     "text": [
      "tensor(0.0325, grad_fn=<NllLossBackward0>)\n",
      "training_acuracy 0.9480617387936289\n",
      "validation_acuracy: 0.8911009625846487\n",
      "7\n"
     ]
    },
    {
     "name": "stderr",
     "output_type": "stream",
     "text": [
      "100%|██████████| 5000/5000 [00:35<00:00, 141.20it/s]\n",
      "100%|██████████| 1000/1000 [00:02<00:00, 350.31it/s]\n"
     ]
    },
    {
     "name": "stdout",
     "output_type": "stream",
     "text": [
      "tensor(0.0251, grad_fn=<NllLossBackward0>)\n",
      "training_acuracy 0.964121726250704\n",
      "validation_acuracy: 0.905823319785082\n",
      "8\n"
     ]
    },
    {
     "name": "stderr",
     "output_type": "stream",
     "text": [
      "100%|██████████| 5000/5000 [00:35<00:00, 140.90it/s]\n",
      "100%|██████████| 1000/1000 [00:02<00:00, 383.30it/s]\n"
     ]
    },
    {
     "name": "stdout",
     "output_type": "stream",
     "text": [
      "tensor(0.0390, grad_fn=<NllLossBackward0>)\n",
      "training_acuracy 0.9750573509276792\n",
      "validation_acuracy: 0.9195842189746987\n",
      "9\n"
     ]
    },
    {
     "name": "stderr",
     "output_type": "stream",
     "text": [
      "100%|██████████| 5000/5000 [00:35<00:00, 140.45it/s]\n",
      "100%|██████████| 1000/1000 [00:02<00:00, 386.67it/s]\n"
     ]
    },
    {
     "name": "stdout",
     "output_type": "stream",
     "text": [
      "tensor(0.0264, grad_fn=<NllLossBackward0>)\n",
      "training_acuracy 0.9816277680612083\n",
      "validation_acuracy: 0.9286525100477143\n",
      "10\n"
     ]
    },
    {
     "name": "stderr",
     "output_type": "stream",
     "text": [
      "100%|██████████| 5000/5000 [00:35<00:00, 140.37it/s]\n",
      "100%|██████████| 1000/1000 [00:02<00:00, 374.52it/s]\n"
     ]
    },
    {
     "name": "stdout",
     "output_type": "stream",
     "text": [
      "tensor(0.0264, grad_fn=<NllLossBackward0>)\n",
      "training_acuracy 0.985156492887789\n",
      "validation_acuracy: 0.9332007862423657\n",
      "11\n"
     ]
    },
    {
     "name": "stderr",
     "output_type": "stream",
     "text": [
      "100%|██████████| 5000/5000 [00:35<00:00, 140.62it/s]\n",
      "100%|██████████| 1000/1000 [00:02<00:00, 366.81it/s]\n"
     ]
    },
    {
     "name": "stdout",
     "output_type": "stream",
     "text": [
      "tensor(0.0184, grad_fn=<NllLossBackward0>)\n",
      "training_acuracy 0.987335099405591\n",
      "validation_acuracy: 0.9401395867197312\n",
      "12\n"
     ]
    },
    {
     "name": "stderr",
     "output_type": "stream",
     "text": [
      "100%|██████████| 5000/5000 [00:35<00:00, 140.06it/s]\n",
      "100%|██████████| 1000/1000 [00:02<00:00, 383.19it/s]\n"
     ]
    },
    {
     "name": "stdout",
     "output_type": "stream",
     "text": [
      "tensor(0.0180, grad_fn=<NllLossBackward0>)\n",
      "training_acuracy 0.9878334841873142\n",
      "validation_acuracy: 0.9421662377121549\n",
      "13\n"
     ]
    },
    {
     "name": "stderr",
     "output_type": "stream",
     "text": [
      "100%|██████████| 5000/5000 [00:35<00:00, 139.36it/s]\n",
      "100%|██████████| 1000/1000 [00:02<00:00, 404.11it/s]\n"
     ]
    },
    {
     "name": "stdout",
     "output_type": "stream",
     "text": [
      "tensor(0.0134, grad_fn=<NllLossBackward0>)\n",
      "training_acuracy 0.9882157956181594\n",
      "validation_acuracy: 0.9435396133836113\n",
      "14\n"
     ]
    },
    {
     "name": "stderr",
     "output_type": "stream",
     "text": [
      "100%|██████████| 5000/5000 [00:34<00:00, 143.18it/s]\n",
      "100%|██████████| 1000/1000 [00:02<00:00, 397.17it/s]\n"
     ]
    },
    {
     "name": "stdout",
     "output_type": "stream",
     "text": [
      "tensor(0.0110, grad_fn=<NllLossBackward0>)\n",
      "training_acuracy 0.9882845025417951\n",
      "validation_acuracy: 0.9440202802277599\n",
      "15\n"
     ]
    },
    {
     "name": "stderr",
     "output_type": "stream",
     "text": [
      "100%|██████████| 5000/5000 [00:35<00:00, 141.21it/s]\n",
      "100%|██████████| 1000/1000 [00:02<00:00, 392.83it/s]\n"
     ]
    },
    {
     "name": "stdout",
     "output_type": "stream",
     "text": [
      "tensor(0.0094, grad_fn=<NllLossBackward0>)\n",
      "training_acuracy 0.9883090176139836\n",
      "validation_acuracy: 0.9452421902296683\n",
      "16\n"
     ]
    },
    {
     "name": "stderr",
     "output_type": "stream",
     "text": [
      "100%|██████████| 5000/5000 [00:35<00:00, 141.11it/s]\n",
      "100%|██████████| 1000/1000 [00:02<00:00, 374.32it/s]\n"
     ]
    },
    {
     "name": "stdout",
     "output_type": "stream",
     "text": [
      "tensor(0.0083, grad_fn=<NllLossBackward0>)\n",
      "training_acuracy 0.9883424289225818\n",
      "validation_acuracy: 0.9450986494651016\n",
      "17\n"
     ]
    },
    {
     "name": "stderr",
     "output_type": "stream",
     "text": [
      "100%|██████████| 5000/5000 [00:35<00:00, 141.94it/s]\n",
      "100%|██████████| 1000/1000 [00:02<00:00, 385.11it/s]\n"
     ]
    },
    {
     "name": "stdout",
     "output_type": "stream",
     "text": [
      "tensor(0.0077, grad_fn=<NllLossBackward0>)\n",
      "training_acuracy 0.9884056480890362\n",
      "validation_acuracy: 0.9450157254884933\n",
      "18\n"
     ]
    },
    {
     "name": "stderr",
     "output_type": "stream",
     "text": [
      "100%|██████████| 5000/5000 [00:36<00:00, 137.45it/s]\n",
      "100%|██████████| 1000/1000 [00:02<00:00, 390.39it/s]\n"
     ]
    },
    {
     "name": "stdout",
     "output_type": "stream",
     "text": [
      "tensor(0.0070, grad_fn=<NllLossBackward0>)\n",
      "training_acuracy 0.9884467197014621\n",
      "validation_acuracy: 0.9451969683254636\n",
      "19\n"
     ]
    },
    {
     "name": "stderr",
     "output_type": "stream",
     "text": [
      "100%|██████████| 5000/5000 [00:35<00:00, 141.18it/s]\n",
      "100%|██████████| 1000/1000 [00:02<00:00, 391.73it/s]\n"
     ]
    },
    {
     "name": "stdout",
     "output_type": "stream",
     "text": [
      "tensor(0.0065, grad_fn=<NllLossBackward0>)\n",
      "training_acuracy 0.988392897572999\n",
      "validation_acuracy: 0.9455111813069604\n",
      "20\n"
     ]
    },
    {
     "name": "stderr",
     "output_type": "stream",
     "text": [
      "100%|██████████| 5000/5000 [00:35<00:00, 142.09it/s]\n",
      "100%|██████████| 1000/1000 [00:02<00:00, 397.35it/s]\n"
     ]
    },
    {
     "name": "stdout",
     "output_type": "stream",
     "text": [
      "tensor(0.0059, grad_fn=<NllLossBackward0>)\n",
      "training_acuracy 0.9884443515808078\n",
      "validation_acuracy: 0.9459185137406085\n",
      "21\n"
     ]
    },
    {
     "name": "stderr",
     "output_type": "stream",
     "text": [
      "100%|██████████| 5000/5000 [00:35<00:00, 142.83it/s]\n",
      "100%|██████████| 1000/1000 [00:02<00:00, 388.01it/s]\n"
     ]
    },
    {
     "name": "stdout",
     "output_type": "stream",
     "text": [
      "tensor(0.0054, grad_fn=<NllLossBackward0>)\n",
      "training_acuracy 0.9884569375328672\n",
      "validation_acuracy: 0.9459125613596562\n",
      "22\n"
     ]
    },
    {
     "name": "stderr",
     "output_type": "stream",
     "text": [
      "100%|██████████| 5000/5000 [00:35<00:00, 141.47it/s]\n",
      "100%|██████████| 1000/1000 [00:02<00:00, 388.27it/s]\n"
     ]
    },
    {
     "name": "stdout",
     "output_type": "stream",
     "text": [
      "tensor(0.0050, grad_fn=<NllLossBackward0>)\n",
      "training_acuracy 0.9884363387952205\n",
      "validation_acuracy: 0.9458197318220442\n",
      "23\n"
     ]
    },
    {
     "name": "stderr",
     "output_type": "stream",
     "text": [
      "100%|██████████| 5000/5000 [00:35<00:00, 140.21it/s]\n",
      "100%|██████████| 1000/1000 [00:02<00:00, 386.29it/s]\n"
     ]
    },
    {
     "name": "stdout",
     "output_type": "stream",
     "text": [
      "tensor(0.0055, grad_fn=<NllLossBackward0>)\n",
      "training_acuracy 0.9885046598630419\n",
      "validation_acuracy: 0.9458166463698209\n",
      "24\n"
     ]
    },
    {
     "name": "stderr",
     "output_type": "stream",
     "text": [
      "100%|██████████| 5000/5000 [00:35<00:00, 140.48it/s]\n",
      "100%|██████████| 1000/1000 [00:02<00:00, 387.56it/s]\n"
     ]
    },
    {
     "name": "stdout",
     "output_type": "stream",
     "text": [
      "tensor(0.0057, grad_fn=<NllLossBackward0>)\n",
      "training_acuracy 0.9885200099718701\n",
      "validation_acuracy: 0.9461725047658108\n",
      "25\n"
     ]
    },
    {
     "name": "stderr",
     "output_type": "stream",
     "text": [
      "100%|██████████| 5000/5000 [00:38<00:00, 130.40it/s]\n",
      "100%|██████████| 1000/1000 [00:03<00:00, 331.47it/s]\n"
     ]
    },
    {
     "name": "stdout",
     "output_type": "stream",
     "text": [
      "tensor(0.0052, grad_fn=<NllLossBackward0>)\n",
      "training_acuracy 0.9885072043292368\n",
      "validation_acuracy: 0.946355838099144\n",
      "26\n"
     ]
    },
    {
     "name": "stderr",
     "output_type": "stream",
     "text": [
      "100%|██████████| 5000/5000 [00:36<00:00, 138.43it/s]\n",
      "100%|██████████| 1000/1000 [00:02<00:00, 381.04it/s]\n"
     ]
    },
    {
     "name": "stdout",
     "output_type": "stream",
     "text": [
      "tensor(0.0047, grad_fn=<NllLossBackward0>)\n",
      "training_acuracy 0.988572161418931\n",
      "validation_acuracy: 0.946405838099144\n",
      "27\n"
     ]
    },
    {
     "name": "stderr",
     "output_type": "stream",
     "text": [
      "100%|██████████| 5000/5000 [00:36<00:00, 136.73it/s]\n",
      "100%|██████████| 1000/1000 [00:02<00:00, 382.17it/s]\n"
     ]
    },
    {
     "name": "stdout",
     "output_type": "stream",
     "text": [
      "tensor(0.0044, grad_fn=<NllLossBackward0>)\n",
      "training_acuracy 0.9885912988458316\n",
      "validation_acuracy: 0.9465142297075357\n",
      "28\n"
     ]
    },
    {
     "name": "stderr",
     "output_type": "stream",
     "text": [
      "100%|██████████| 5000/5000 [00:35<00:00, 140.88it/s]\n",
      "100%|██████████| 1000/1000 [00:02<00:00, 400.88it/s]\n"
     ]
    },
    {
     "name": "stdout",
     "output_type": "stream",
     "text": [
      "tensor(0.0041, grad_fn=<NllLossBackward0>)\n",
      "training_acuracy 0.9886258553038664\n",
      "validation_acuracy: 0.9465340181492282\n",
      "29\n"
     ]
    },
    {
     "name": "stderr",
     "output_type": "stream",
     "text": [
      "100%|██████████| 5000/5000 [00:35<00:00, 141.49it/s]\n",
      "100%|██████████| 1000/1000 [00:02<00:00, 371.39it/s]\n"
     ]
    },
    {
     "name": "stdout",
     "output_type": "stream",
     "text": [
      "tensor(0.0040, grad_fn=<NllLossBackward0>)\n",
      "training_acuracy 0.9886749772929881\n",
      "validation_acuracy: 0.9465843157682758\n",
      "0\n"
     ]
    },
    {
     "name": "stderr",
     "output_type": "stream",
     "text": [
      "100%|██████████| 5000/5000 [00:37<00:00, 134.46it/s]\n",
      "100%|██████████| 1000/1000 [00:02<00:00, 376.26it/s]\n"
     ]
    },
    {
     "name": "stdout",
     "output_type": "stream",
     "text": [
      "tensor(0.3769, grad_fn=<NllLossBackward0>)\n",
      "training_acuracy 0.6986060564933236\n",
      "validation_acuracy: 0.7372669284471868\n",
      "1\n"
     ]
    },
    {
     "name": "stderr",
     "output_type": "stream",
     "text": [
      "100%|██████████| 5000/5000 [00:37<00:00, 134.33it/s]\n",
      "100%|██████████| 1000/1000 [00:02<00:00, 372.51it/s]\n"
     ]
    },
    {
     "name": "stdout",
     "output_type": "stream",
     "text": [
      "tensor(0.1786, grad_fn=<NllLossBackward0>)\n",
      "training_acuracy 0.7973442711663316\n",
      "validation_acuracy: 0.7822928018210799\n",
      "2\n"
     ]
    },
    {
     "name": "stderr",
     "output_type": "stream",
     "text": [
      "100%|██████████| 5000/5000 [00:36<00:00, 136.49it/s]\n",
      "100%|██████████| 1000/1000 [00:02<00:00, 365.06it/s]\n"
     ]
    },
    {
     "name": "stdout",
     "output_type": "stream",
     "text": [
      "tensor(0.0915, grad_fn=<NllLossBackward0>)\n",
      "training_acuracy 0.8350351119702727\n",
      "validation_acuracy: 0.8122871903578044\n",
      "3\n"
     ]
    },
    {
     "name": "stderr",
     "output_type": "stream",
     "text": [
      "100%|██████████| 5000/5000 [00:37<00:00, 132.75it/s]\n",
      "100%|██████████| 1000/1000 [00:02<00:00, 378.96it/s]\n"
     ]
    },
    {
     "name": "stdout",
     "output_type": "stream",
     "text": [
      "tensor(0.0581, grad_fn=<NllLossBackward0>)\n",
      "training_acuracy 0.8687894217270168\n",
      "validation_acuracy: 0.8359078789936444\n",
      "4\n"
     ]
    },
    {
     "name": "stderr",
     "output_type": "stream",
     "text": [
      "100%|██████████| 5000/5000 [00:36<00:00, 135.50it/s]\n",
      "100%|██████████| 1000/1000 [00:02<00:00, 372.86it/s]\n"
     ]
    },
    {
     "name": "stdout",
     "output_type": "stream",
     "text": [
      "tensor(0.0338, grad_fn=<NllLossBackward0>)\n",
      "training_acuracy 0.8980503664003311\n",
      "validation_acuracy: 0.854263544844125\n",
      "5\n"
     ]
    },
    {
     "name": "stderr",
     "output_type": "stream",
     "text": [
      "100%|██████████| 5000/5000 [00:36<00:00, 135.53it/s]\n",
      "100%|██████████| 1000/1000 [00:02<00:00, 368.21it/s]\n"
     ]
    },
    {
     "name": "stdout",
     "output_type": "stream",
     "text": [
      "tensor(0.0097, grad_fn=<NllLossBackward0>)\n",
      "training_acuracy 0.9250337040817629\n",
      "validation_acuracy: 0.8769028482007665\n",
      "6\n"
     ]
    },
    {
     "name": "stderr",
     "output_type": "stream",
     "text": [
      "100%|██████████| 5000/5000 [00:37<00:00, 135.07it/s]\n",
      "100%|██████████| 1000/1000 [00:02<00:00, 367.12it/s]\n"
     ]
    },
    {
     "name": "stdout",
     "output_type": "stream",
     "text": [
      "tensor(0.0051, grad_fn=<NllLossBackward0>)\n",
      "training_acuracy 0.947837262792284\n",
      "validation_acuracy: 0.8963712950655403\n",
      "7\n"
     ]
    },
    {
     "name": "stderr",
     "output_type": "stream",
     "text": [
      "100%|██████████| 5000/5000 [00:37<00:00, 132.11it/s]\n",
      "100%|██████████| 1000/1000 [00:02<00:00, 374.70it/s]\n"
     ]
    },
    {
     "name": "stdout",
     "output_type": "stream",
     "text": [
      "tensor(0.0061, grad_fn=<NllLossBackward0>)\n",
      "training_acuracy 0.9651311025522393\n",
      "validation_acuracy: 0.9118401193070861\n",
      "8\n"
     ]
    },
    {
     "name": "stderr",
     "output_type": "stream",
     "text": [
      "100%|██████████| 5000/5000 [00:37<00:00, 134.60it/s]\n",
      "100%|██████████| 1000/1000 [00:02<00:00, 370.95it/s]\n"
     ]
    },
    {
     "name": "stdout",
     "output_type": "stream",
     "text": [
      "tensor(0.0062, grad_fn=<NllLossBackward0>)\n",
      "training_acuracy 0.9768799708692081\n",
      "validation_acuracy: 0.9217263431944969\n",
      "9\n"
     ]
    },
    {
     "name": "stderr",
     "output_type": "stream",
     "text": [
      "100%|██████████| 5000/5000 [00:36<00:00, 136.41it/s]\n",
      "100%|██████████| 1000/1000 [00:02<00:00, 386.55it/s]\n"
     ]
    },
    {
     "name": "stdout",
     "output_type": "stream",
     "text": [
      "tensor(0.0028, grad_fn=<NllLossBackward0>)\n",
      "training_acuracy 0.983604408756651\n",
      "validation_acuracy: 0.9299297562345638\n",
      "10\n"
     ]
    },
    {
     "name": "stderr",
     "output_type": "stream",
     "text": [
      "100%|██████████| 5000/5000 [00:37<00:00, 134.09it/s]\n",
      "100%|██████████| 1000/1000 [00:02<00:00, 378.19it/s]\n"
     ]
    },
    {
     "name": "stdout",
     "output_type": "stream",
     "text": [
      "tensor(0.0018, grad_fn=<NllLossBackward0>)\n",
      "training_acuracy 0.9864144369719783\n",
      "validation_acuracy: 0.9373945718470388\n",
      "11\n"
     ]
    },
    {
     "name": "stderr",
     "output_type": "stream",
     "text": [
      "100%|██████████| 5000/5000 [00:37<00:00, 132.62it/s]\n",
      "100%|██████████| 1000/1000 [00:02<00:00, 363.39it/s]\n"
     ]
    },
    {
     "name": "stdout",
     "output_type": "stream",
     "text": [
      "tensor(0.0018, grad_fn=<NllLossBackward0>)\n",
      "training_acuracy 0.9876274480291826\n",
      "validation_acuracy: 0.9403475189269489\n",
      "12\n"
     ]
    },
    {
     "name": "stderr",
     "output_type": "stream",
     "text": [
      "100%|██████████| 5000/5000 [00:37<00:00, 135.04it/s]\n",
      "100%|██████████| 1000/1000 [00:02<00:00, 378.81it/s]\n"
     ]
    },
    {
     "name": "stdout",
     "output_type": "stream",
     "text": [
      "tensor(0.0013, grad_fn=<NllLossBackward0>)\n",
      "training_acuracy 0.9881422930772\n",
      "validation_acuracy: 0.9421502895420851\n",
      "13\n"
     ]
    },
    {
     "name": "stderr",
     "output_type": "stream",
     "text": [
      "100%|██████████| 5000/5000 [00:36<00:00, 135.72it/s]\n",
      "100%|██████████| 1000/1000 [00:02<00:00, 365.03it/s]\n"
     ]
    },
    {
     "name": "stdout",
     "output_type": "stream",
     "text": [
      "tensor(0.0012, grad_fn=<NllLossBackward0>)\n",
      "training_acuracy 0.9882829850838963\n",
      "validation_acuracy: 0.9453629297569168\n",
      "14\n"
     ]
    },
    {
     "name": "stderr",
     "output_type": "stream",
     "text": [
      "100%|██████████| 5000/5000 [00:36<00:00, 137.22it/s]\n",
      "100%|██████████| 1000/1000 [00:02<00:00, 375.46it/s]\n"
     ]
    },
    {
     "name": "stdout",
     "output_type": "stream",
     "text": [
      "tensor(0.0010, grad_fn=<NllLossBackward0>)\n",
      "training_acuracy 0.9883075862398786\n",
      "validation_acuracy: 0.945794168396607\n",
      "15\n"
     ]
    },
    {
     "name": "stderr",
     "output_type": "stream",
     "text": [
      "100%|██████████| 5000/5000 [00:37<00:00, 132.53it/s]\n",
      "100%|██████████| 1000/1000 [00:02<00:00, 384.56it/s]\n"
     ]
    },
    {
     "name": "stdout",
     "output_type": "stream",
     "text": [
      "tensor(0.0009, grad_fn=<NllLossBackward0>)\n",
      "training_acuracy 0.9883314142745888\n",
      "validation_acuracy: 0.9459849494157776\n",
      "16\n"
     ]
    },
    {
     "name": "stderr",
     "output_type": "stream",
     "text": [
      "100%|██████████| 5000/5000 [00:36<00:00, 135.87it/s]\n",
      "100%|██████████| 1000/1000 [00:02<00:00, 381.52it/s]\n"
     ]
    },
    {
     "name": "stdout",
     "output_type": "stream",
     "text": [
      "tensor(0.0008, grad_fn=<NllLossBackward0>)\n",
      "training_acuracy 0.9883387575782868\n",
      "validation_acuracy: 0.9464973982946447\n",
      "17\n"
     ]
    },
    {
     "name": "stderr",
     "output_type": "stream",
     "text": [
      "100%|██████████| 5000/5000 [00:36<00:00, 136.32it/s]\n",
      "100%|██████████| 1000/1000 [00:03<00:00, 319.87it/s]\n"
     ]
    },
    {
     "name": "stdout",
     "output_type": "stream",
     "text": [
      "tensor(0.0007, grad_fn=<NllLossBackward0>)\n",
      "training_acuracy 0.9883047989141891\n",
      "validation_acuracy: 0.9466035473070866\n",
      "18\n"
     ]
    },
    {
     "name": "stderr",
     "output_type": "stream",
     "text": [
      "100%|██████████| 5000/5000 [00:37<00:00, 134.33it/s]\n",
      "100%|██████████| 1000/1000 [00:02<00:00, 372.48it/s]\n"
     ]
    },
    {
     "name": "stdout",
     "output_type": "stream",
     "text": [
      "tensor(0.0007, grad_fn=<NllLossBackward0>)\n",
      "training_acuracy 0.9883794878624956\n",
      "validation_acuracy: 0.9465425280923834\n",
      "19\n"
     ]
    },
    {
     "name": "stderr",
     "output_type": "stream",
     "text": [
      "100%|██████████| 5000/5000 [00:37<00:00, 134.97it/s]\n",
      "100%|██████████| 1000/1000 [00:02<00:00, 370.90it/s]\n"
     ]
    },
    {
     "name": "stdout",
     "output_type": "stream",
     "text": [
      "tensor(0.0006, grad_fn=<NllLossBackward0>)\n",
      "training_acuracy 0.9884034789490829\n",
      "validation_acuracy: 0.9469521380146245\n",
      "20\n"
     ]
    },
    {
     "name": "stderr",
     "output_type": "stream",
     "text": [
      "100%|██████████| 5000/5000 [00:37<00:00, 135.02it/s]\n",
      "100%|██████████| 1000/1000 [00:02<00:00, 375.52it/s]\n"
     ]
    },
    {
     "name": "stdout",
     "output_type": "stream",
     "text": [
      "tensor(0.0005, grad_fn=<NllLossBackward0>)\n",
      "training_acuracy 0.9884491465182286\n",
      "validation_acuracy: 0.946960074522561\n",
      "21\n"
     ]
    },
    {
     "name": "stderr",
     "output_type": "stream",
     "text": [
      "100%|██████████| 5000/5000 [00:36<00:00, 135.26it/s]\n",
      "100%|██████████| 1000/1000 [00:02<00:00, 381.25it/s]\n"
     ]
    },
    {
     "name": "stdout",
     "output_type": "stream",
     "text": [
      "tensor(0.0005, grad_fn=<NllLossBackward0>)\n",
      "training_acuracy 0.9884602195301839\n",
      "validation_acuracy: 0.946836057428544\n",
      "22\n"
     ]
    },
    {
     "name": "stderr",
     "output_type": "stream",
     "text": [
      "100%|██████████| 5000/5000 [00:36<00:00, 135.62it/s]\n",
      "100%|██████████| 1000/1000 [00:02<00:00, 377.66it/s]\n"
     ]
    },
    {
     "name": "stdout",
     "output_type": "stream",
     "text": [
      "tensor(0.0005, grad_fn=<NllLossBackward0>)\n",
      "training_acuracy 0.9884354021927225\n",
      "validation_acuracy: 0.9465920066264049\n",
      "23\n"
     ]
    },
    {
     "name": "stderr",
     "output_type": "stream",
     "text": [
      "100%|██████████| 5000/5000 [00:36<00:00, 135.59it/s]\n",
      "100%|██████████| 1000/1000 [00:02<00:00, 367.76it/s]\n"
     ]
    },
    {
     "name": "stdout",
     "output_type": "stream",
     "text": [
      "tensor(0.0004, grad_fn=<NllLossBackward0>)\n",
      "training_acuracy 0.9885002571416953\n",
      "validation_acuracy: 0.9460457330470431\n",
      "24\n"
     ]
    },
    {
     "name": "stderr",
     "output_type": "stream",
     "text": [
      "100%|██████████| 5000/5000 [00:37<00:00, 134.60it/s]\n",
      "100%|██████████| 1000/1000 [00:02<00:00, 378.69it/s]\n"
     ]
    },
    {
     "name": "stdout",
     "output_type": "stream",
     "text": [
      "tensor(0.0004, grad_fn=<NllLossBackward0>)\n",
      "training_acuracy 0.9885388075618634\n",
      "validation_acuracy: 0.9459971688764359\n",
      "25\n"
     ]
    },
    {
     "name": "stderr",
     "output_type": "stream",
     "text": [
      "100%|██████████| 5000/5000 [00:37<00:00, 132.92it/s]\n",
      "100%|██████████| 1000/1000 [00:02<00:00, 371.42it/s]\n"
     ]
    },
    {
     "name": "stdout",
     "output_type": "stream",
     "text": [
      "tensor(0.0004, grad_fn=<NllLossBackward0>)\n",
      "training_acuracy 0.9886027792245763\n",
      "validation_acuracy: 0.9457614397679703\n",
      "26\n"
     ]
    },
    {
     "name": "stderr",
     "output_type": "stream",
     "text": [
      "100%|██████████| 5000/5000 [00:36<00:00, 135.52it/s]\n",
      "100%|██████████| 1000/1000 [00:02<00:00, 355.27it/s]\n"
     ]
    },
    {
     "name": "stdout",
     "output_type": "stream",
     "text": [
      "tensor(0.0004, grad_fn=<NllLossBackward0>)\n",
      "training_acuracy 0.9886457550227246\n",
      "validation_acuracy: 0.9460588088462604\n",
      "27\n"
     ]
    },
    {
     "name": "stderr",
     "output_type": "stream",
     "text": [
      "100%|██████████| 5000/5000 [00:36<00:00, 135.15it/s]\n",
      "100%|██████████| 1000/1000 [00:02<00:00, 377.47it/s]\n"
     ]
    },
    {
     "name": "stdout",
     "output_type": "stream",
     "text": [
      "tensor(0.0004, grad_fn=<NllLossBackward0>)\n",
      "training_acuracy 0.9886841749361445\n",
      "validation_acuracy: 0.9461114404252078\n",
      "28\n"
     ]
    },
    {
     "name": "stderr",
     "output_type": "stream",
     "text": [
      "100%|██████████| 5000/5000 [00:36<00:00, 135.81it/s]\n",
      "100%|██████████| 1000/1000 [00:02<00:00, 371.09it/s]\n"
     ]
    },
    {
     "name": "stdout",
     "output_type": "stream",
     "text": [
      "tensor(0.0004, grad_fn=<NllLossBackward0>)\n",
      "training_acuracy 0.9887478064857543\n",
      "validation_acuracy: 0.9459564404252078\n",
      "29\n"
     ]
    },
    {
     "name": "stderr",
     "output_type": "stream",
     "text": [
      "100%|██████████| 5000/5000 [00:36<00:00, 136.77it/s]\n",
      "100%|██████████| 1000/1000 [00:02<00:00, 371.31it/s]\n"
     ]
    },
    {
     "name": "stdout",
     "output_type": "stream",
     "text": [
      "tensor(0.0004, grad_fn=<NllLossBackward0>)\n",
      "training_acuracy 0.9887360417798718\n",
      "validation_acuracy: 0.9459445356633029\n",
      "0\n"
     ]
    },
    {
     "name": "stderr",
     "output_type": "stream",
     "text": [
      "100%|██████████| 5000/5000 [00:38<00:00, 129.80it/s]\n",
      "100%|██████████| 1000/1000 [00:02<00:00, 375.19it/s]\n"
     ]
    },
    {
     "name": "stdout",
     "output_type": "stream",
     "text": [
      "tensor(0.4700, grad_fn=<NllLossBackward0>)\n",
      "training_acuracy 0.7004036350749808\n",
      "validation_acuracy: 0.7349569761188014\n",
      "1\n"
     ]
    },
    {
     "name": "stderr",
     "output_type": "stream",
     "text": [
      "100%|██████████| 5000/5000 [00:38<00:00, 130.93it/s]\n",
      "100%|██████████| 1000/1000 [00:02<00:00, 371.30it/s]\n"
     ]
    },
    {
     "name": "stdout",
     "output_type": "stream",
     "text": [
      "tensor(0.2489, grad_fn=<NllLossBackward0>)\n",
      "training_acuracy 0.7953272633646533\n",
      "validation_acuracy: 0.7719818627583798\n",
      "2\n"
     ]
    },
    {
     "name": "stderr",
     "output_type": "stream",
     "text": [
      "100%|██████████| 5000/5000 [00:38<00:00, 130.14it/s]\n",
      "100%|██████████| 1000/1000 [00:02<00:00, 359.54it/s]\n"
     ]
    },
    {
     "name": "stdout",
     "output_type": "stream",
     "text": [
      "tensor(0.1041, grad_fn=<NllLossBackward0>)\n",
      "training_acuracy 0.833854231171328\n",
      "validation_acuracy: 0.8040683546899111\n",
      "3\n"
     ]
    },
    {
     "name": "stderr",
     "output_type": "stream",
     "text": [
      "100%|██████████| 5000/5000 [00:39<00:00, 126.66it/s]\n",
      "100%|██████████| 1000/1000 [00:03<00:00, 324.75it/s]\n"
     ]
    },
    {
     "name": "stdout",
     "output_type": "stream",
     "text": [
      "tensor(0.0498, grad_fn=<NllLossBackward0>)\n",
      "training_acuracy 0.8688067377068114\n",
      "validation_acuracy: 0.8313301876117069\n",
      "4\n"
     ]
    },
    {
     "name": "stderr",
     "output_type": "stream",
     "text": [
      "100%|██████████| 5000/5000 [00:38<00:00, 128.55it/s]\n",
      "100%|██████████| 1000/1000 [00:02<00:00, 370.78it/s]\n"
     ]
    },
    {
     "name": "stdout",
     "output_type": "stream",
     "text": [
      "tensor(0.0280, grad_fn=<NllLossBackward0>)\n",
      "training_acuracy 0.9011684718478162\n",
      "validation_acuracy: 0.8546812804056515\n",
      "5\n"
     ]
    },
    {
     "name": "stderr",
     "output_type": "stream",
     "text": [
      "100%|██████████| 5000/5000 [00:38<00:00, 130.26it/s]\n",
      "100%|██████████| 1000/1000 [00:02<00:00, 375.10it/s]\n"
     ]
    },
    {
     "name": "stdout",
     "output_type": "stream",
     "text": [
      "tensor(0.0180, grad_fn=<NllLossBackward0>)\n",
      "training_acuracy 0.930080872837306\n",
      "validation_acuracy: 0.873387527591001\n",
      "6\n"
     ]
    },
    {
     "name": "stderr",
     "output_type": "stream",
     "text": [
      "100%|██████████| 5000/5000 [00:38<00:00, 131.02it/s]\n",
      "100%|██████████| 1000/1000 [00:02<00:00, 363.60it/s]\n"
     ]
    },
    {
     "name": "stdout",
     "output_type": "stream",
     "text": [
      "tensor(0.0203, grad_fn=<NllLossBackward0>)\n",
      "training_acuracy 0.9520642607439235\n",
      "validation_acuracy: 0.89408585110647\n",
      "7\n"
     ]
    },
    {
     "name": "stderr",
     "output_type": "stream",
     "text": [
      "100%|██████████| 5000/5000 [00:37<00:00, 132.05it/s]\n",
      "100%|██████████| 1000/1000 [00:02<00:00, 373.24it/s]\n"
     ]
    },
    {
     "name": "stdout",
     "output_type": "stream",
     "text": [
      "tensor(0.0237, grad_fn=<NllLossBackward0>)\n",
      "training_acuracy 0.9682298545745651\n",
      "validation_acuracy: 0.9112502204195629\n",
      "8\n"
     ]
    },
    {
     "name": "stderr",
     "output_type": "stream",
     "text": [
      "100%|██████████| 5000/5000 [00:38<00:00, 130.27it/s]\n",
      "100%|██████████| 1000/1000 [00:02<00:00, 357.89it/s]\n"
     ]
    },
    {
     "name": "stdout",
     "output_type": "stream",
     "text": [
      "tensor(0.0146, grad_fn=<NllLossBackward0>)\n",
      "training_acuracy 0.9794824804409272\n",
      "validation_acuracy: 0.9217499248604528\n",
      "9\n"
     ]
    },
    {
     "name": "stderr",
     "output_type": "stream",
     "text": [
      "100%|██████████| 5000/5000 [00:38<00:00, 130.23it/s]\n",
      "100%|██████████| 1000/1000 [00:02<00:00, 367.39it/s]\n"
     ]
    },
    {
     "name": "stdout",
     "output_type": "stream",
     "text": [
      "tensor(0.0182, grad_fn=<NllLossBackward0>)\n",
      "training_acuracy 0.9846920662751065\n",
      "validation_acuracy: 0.9329395976961388\n",
      "10\n"
     ]
    },
    {
     "name": "stderr",
     "output_type": "stream",
     "text": [
      "100%|██████████| 5000/5000 [00:37<00:00, 133.99it/s]\n",
      "100%|██████████| 1000/1000 [00:02<00:00, 384.17it/s]\n"
     ]
    },
    {
     "name": "stdout",
     "output_type": "stream",
     "text": [
      "tensor(0.0237, grad_fn=<NllLossBackward0>)\n",
      "training_acuracy 0.9872673215328598\n",
      "validation_acuracy: 0.9362942690011385\n",
      "11\n"
     ]
    },
    {
     "name": "stderr",
     "output_type": "stream",
     "text": [
      "100%|██████████| 5000/5000 [00:37<00:00, 133.33it/s]\n",
      "100%|██████████| 1000/1000 [00:02<00:00, 365.75it/s]\n"
     ]
    },
    {
     "name": "stdout",
     "output_type": "stream",
     "text": [
      "tensor(0.0145, grad_fn=<NllLossBackward0>)\n",
      "training_acuracy 0.9881687192586327\n",
      "validation_acuracy: 0.9415248657914269\n",
      "12\n"
     ]
    },
    {
     "name": "stderr",
     "output_type": "stream",
     "text": [
      "100%|██████████| 5000/5000 [00:37<00:00, 134.91it/s]\n",
      "100%|██████████| 1000/1000 [00:02<00:00, 389.91it/s]\n"
     ]
    },
    {
     "name": "stdout",
     "output_type": "stream",
     "text": [
      "tensor(0.0145, grad_fn=<NllLossBackward0>)\n",
      "training_acuracy 0.988286428983994\n",
      "validation_acuracy: 0.9429067717041689\n",
      "13\n"
     ]
    },
    {
     "name": "stderr",
     "output_type": "stream",
     "text": [
      "100%|██████████| 5000/5000 [00:37<00:00, 133.79it/s]\n",
      "100%|██████████| 1000/1000 [00:02<00:00, 376.44it/s]\n"
     ]
    },
    {
     "name": "stdout",
     "output_type": "stream",
     "text": [
      "tensor(0.0145, grad_fn=<NllLossBackward0>)\n",
      "training_acuracy 0.9883367651865809\n",
      "validation_acuracy: 0.9433524799132286\n",
      "14\n"
     ]
    },
    {
     "name": "stderr",
     "output_type": "stream",
     "text": [
      "100%|██████████| 5000/5000 [00:37<00:00, 132.50it/s]\n",
      "100%|██████████| 1000/1000 [00:02<00:00, 364.24it/s]\n"
     ]
    },
    {
     "name": "stdout",
     "output_type": "stream",
     "text": [
      "tensor(0.0138, grad_fn=<NllLossBackward0>)\n",
      "training_acuracy 0.9883564343040131\n",
      "validation_acuracy: 0.9438019914944739\n",
      "15\n"
     ]
    },
    {
     "name": "stderr",
     "output_type": "stream",
     "text": [
      "100%|██████████| 5000/5000 [00:37<00:00, 133.20it/s]\n",
      "100%|██████████| 1000/1000 [00:02<00:00, 374.32it/s]\n"
     ]
    },
    {
     "name": "stdout",
     "output_type": "stream",
     "text": [
      "tensor(0.0128, grad_fn=<NllLossBackward0>)\n",
      "training_acuracy 0.9883958485796688\n",
      "validation_acuracy: 0.943920075761274\n",
      "16\n"
     ]
    },
    {
     "name": "stderr",
     "output_type": "stream",
     "text": [
      "100%|██████████| 5000/5000 [00:37<00:00, 132.85it/s]\n",
      "100%|██████████| 1000/1000 [00:02<00:00, 365.25it/s]\n"
     ]
    },
    {
     "name": "stdout",
     "output_type": "stream",
     "text": [
      "tensor(0.0117, grad_fn=<NllLossBackward0>)\n",
      "training_acuracy 0.9883882594553428\n",
      "validation_acuracy: 0.944525813590696\n",
      "17\n"
     ]
    },
    {
     "name": "stderr",
     "output_type": "stream",
     "text": [
      "100%|██████████| 5000/5000 [00:37<00:00, 132.97it/s]\n",
      "100%|██████████| 1000/1000 [00:02<00:00, 371.34it/s]\n"
     ]
    },
    {
     "name": "stdout",
     "output_type": "stream",
     "text": [
      "tensor(0.0107, grad_fn=<NllLossBackward0>)\n",
      "training_acuracy 0.9884396395458405\n",
      "validation_acuracy: 0.9448389775101098\n",
      "18\n"
     ]
    },
    {
     "name": "stderr",
     "output_type": "stream",
     "text": [
      "100%|██████████| 5000/5000 [00:38<00:00, 130.62it/s]\n",
      "100%|██████████| 1000/1000 [00:02<00:00, 386.52it/s]\n"
     ]
    },
    {
     "name": "stdout",
     "output_type": "stream",
     "text": [
      "tensor(0.0098, grad_fn=<NllLossBackward0>)\n",
      "training_acuracy 0.9884987537317447\n",
      "validation_acuracy: 0.9448817544278946\n",
      "19\n"
     ]
    },
    {
     "name": "stderr",
     "output_type": "stream",
     "text": [
      "100%|██████████| 5000/5000 [00:37<00:00, 132.21it/s]\n",
      "100%|██████████| 1000/1000 [00:02<00:00, 366.03it/s]\n"
     ]
    },
    {
     "name": "stdout",
     "output_type": "stream",
     "text": [
      "tensor(0.0090, grad_fn=<NllLossBackward0>)\n",
      "training_acuracy 0.9884776681973961\n",
      "validation_acuracy: 0.9448824146624644\n",
      "20\n"
     ]
    },
    {
     "name": "stderr",
     "output_type": "stream",
     "text": [
      "100%|██████████| 5000/5000 [00:37<00:00, 133.51it/s]\n",
      "100%|██████████| 1000/1000 [00:02<00:00, 365.31it/s]\n"
     ]
    },
    {
     "name": "stdout",
     "output_type": "stream",
     "text": [
      "tensor(0.0083, grad_fn=<NllLossBackward0>)\n",
      "training_acuracy 0.9884748593977318\n",
      "validation_acuracy: 0.9452057971571628\n",
      "21\n"
     ]
    },
    {
     "name": "stderr",
     "output_type": "stream",
     "text": [
      "100%|██████████| 5000/5000 [00:37<00:00, 133.37it/s]\n",
      "100%|██████████| 1000/1000 [00:02<00:00, 372.85it/s]\n"
     ]
    },
    {
     "name": "stdout",
     "output_type": "stream",
     "text": [
      "tensor(0.0077, grad_fn=<NllLossBackward0>)\n",
      "training_acuracy 0.9885402591646318\n",
      "validation_acuracy: 0.9450753544115028\n",
      "22\n"
     ]
    },
    {
     "name": "stderr",
     "output_type": "stream",
     "text": [
      "100%|██████████| 5000/5000 [00:37<00:00, 133.91it/s]\n",
      "100%|██████████| 1000/1000 [00:02<00:00, 376.93it/s]\n"
     ]
    },
    {
     "name": "stdout",
     "output_type": "stream",
     "text": [
      "tensor(0.0071, grad_fn=<NllLossBackward0>)\n",
      "training_acuracy 0.988541206278794\n",
      "validation_acuracy: 0.9455027865381996\n",
      "23\n"
     ]
    },
    {
     "name": "stderr",
     "output_type": "stream",
     "text": [
      "100%|██████████| 5000/5000 [00:37<00:00, 131.88it/s]\n",
      "100%|██████████| 1000/1000 [00:02<00:00, 366.44it/s]\n"
     ]
    },
    {
     "name": "stdout",
     "output_type": "stream",
     "text": [
      "tensor(0.0067, grad_fn=<NllLossBackward0>)\n",
      "training_acuracy 0.9885415685976346\n",
      "validation_acuracy: 0.9458831187060318\n",
      "24\n"
     ]
    },
    {
     "name": "stderr",
     "output_type": "stream",
     "text": [
      "100%|██████████| 5000/5000 [00:37<00:00, 132.97it/s]\n",
      "100%|██████████| 1000/1000 [00:02<00:00, 392.65it/s]\n"
     ]
    },
    {
     "name": "stdout",
     "output_type": "stream",
     "text": [
      "tensor(0.0062, grad_fn=<NllLossBackward0>)\n",
      "training_acuracy 0.9885751212292138\n",
      "validation_acuracy: 0.9459198772691062\n",
      "25\n"
     ]
    },
    {
     "name": "stderr",
     "output_type": "stream",
     "text": [
      "100%|██████████| 5000/5000 [00:37<00:00, 133.57it/s]\n",
      "100%|██████████| 1000/1000 [00:02<00:00, 367.13it/s]\n"
     ]
    },
    {
     "name": "stdout",
     "output_type": "stream",
     "text": [
      "tensor(0.0059, grad_fn=<NllLossBackward0>)\n",
      "training_acuracy 0.9886117943600043\n",
      "validation_acuracy: 0.9459152998533447\n",
      "26\n"
     ]
    },
    {
     "name": "stderr",
     "output_type": "stream",
     "text": [
      "100%|██████████| 5000/5000 [00:38<00:00, 131.09it/s]\n",
      "100%|██████████| 1000/1000 [00:02<00:00, 357.84it/s]\n"
     ]
    },
    {
     "name": "stdout",
     "output_type": "stream",
     "text": [
      "tensor(0.0055, grad_fn=<NllLossBackward0>)\n",
      "training_acuracy 0.988627178975389\n",
      "validation_acuracy: 0.9461573476606099\n",
      "27\n"
     ]
    },
    {
     "name": "stderr",
     "output_type": "stream",
     "text": [
      "100%|██████████| 5000/5000 [00:37<00:00, 133.67it/s]\n",
      "100%|██████████| 1000/1000 [00:02<00:00, 375.36it/s]\n"
     ]
    },
    {
     "name": "stdout",
     "output_type": "stream",
     "text": [
      "tensor(0.0052, grad_fn=<NllLossBackward0>)\n",
      "training_acuracy 0.9885941976089294\n",
      "validation_acuracy: 0.9461097286129907\n",
      "28\n"
     ]
    },
    {
     "name": "stderr",
     "output_type": "stream",
     "text": [
      "100%|██████████| 5000/5000 [00:37<00:00, 132.32it/s]\n",
      "100%|██████████| 1000/1000 [00:02<00:00, 369.01it/s]\n"
     ]
    },
    {
     "name": "stdout",
     "output_type": "stream",
     "text": [
      "tensor(0.0050, grad_fn=<NllLossBackward0>)\n",
      "training_acuracy 0.9886177083465578\n",
      "validation_acuracy: 0.9461097286129907\n",
      "29\n"
     ]
    },
    {
     "name": "stderr",
     "output_type": "stream",
     "text": [
      "100%|██████████| 5000/5000 [00:37<00:00, 133.66it/s]\n",
      "100%|██████████| 1000/1000 [00:02<00:00, 372.30it/s]\n"
     ]
    },
    {
     "name": "stdout",
     "output_type": "stream",
     "text": [
      "tensor(0.0047, grad_fn=<NllLossBackward0>)\n",
      "training_acuracy 0.9886547646236142\n",
      "validation_acuracy: 0.946238885989431\n",
      "0\n"
     ]
    },
    {
     "name": "stderr",
     "output_type": "stream",
     "text": [
      "100%|██████████| 5000/5000 [00:39<00:00, 126.71it/s]\n",
      "100%|██████████| 1000/1000 [00:02<00:00, 360.73it/s]\n"
     ]
    },
    {
     "name": "stdout",
     "output_type": "stream",
     "text": [
      "tensor(0.5024, grad_fn=<NllLossBackward0>)\n",
      "training_acuracy 0.6951670689428409\n",
      "validation_acuracy: 0.7379064430713935\n",
      "1\n"
     ]
    },
    {
     "name": "stderr",
     "output_type": "stream",
     "text": [
      "100%|██████████| 5000/5000 [00:39<00:00, 125.16it/s]\n",
      "100%|██████████| 1000/1000 [00:02<00:00, 350.25it/s]\n"
     ]
    },
    {
     "name": "stdout",
     "output_type": "stream",
     "text": [
      "tensor(0.2901, grad_fn=<NllLossBackward0>)\n",
      "training_acuracy 0.7962788422425431\n",
      "validation_acuracy: 0.7765881991097084\n",
      "2\n"
     ]
    },
    {
     "name": "stderr",
     "output_type": "stream",
     "text": [
      "100%|██████████| 5000/5000 [00:39<00:00, 126.23it/s]\n",
      "100%|██████████| 1000/1000 [00:02<00:00, 361.50it/s]\n"
     ]
    },
    {
     "name": "stdout",
     "output_type": "stream",
     "text": [
      "tensor(0.1416, grad_fn=<NllLossBackward0>)\n",
      "training_acuracy 0.8356380138852748\n",
      "validation_acuracy: 0.8059517445831299\n",
      "3\n"
     ]
    },
    {
     "name": "stderr",
     "output_type": "stream",
     "text": [
      "100%|██████████| 5000/5000 [00:39<00:00, 125.80it/s]\n",
      "100%|██████████| 1000/1000 [00:02<00:00, 342.28it/s]\n"
     ]
    },
    {
     "name": "stdout",
     "output_type": "stream",
     "text": [
      "tensor(0.0664, grad_fn=<NllLossBackward0>)\n",
      "training_acuracy 0.8721490107282219\n",
      "validation_acuracy: 0.8329320717098314\n",
      "4\n"
     ]
    },
    {
     "name": "stderr",
     "output_type": "stream",
     "text": [
      "100%|██████████| 5000/5000 [00:39<00:00, 127.13it/s]\n",
      "100%|██████████| 1000/1000 [00:02<00:00, 360.24it/s]\n"
     ]
    },
    {
     "name": "stdout",
     "output_type": "stream",
     "text": [
      "tensor(0.0312, grad_fn=<NllLossBackward0>)\n",
      "training_acuracy 0.9048306881686758\n",
      "validation_acuracy: 0.8576950059265883\n",
      "5\n"
     ]
    },
    {
     "name": "stderr",
     "output_type": "stream",
     "text": [
      "100%|██████████| 5000/5000 [00:39<00:00, 127.05it/s]\n",
      "100%|██████████| 1000/1000 [00:02<00:00, 369.27it/s]\n"
     ]
    },
    {
     "name": "stdout",
     "output_type": "stream",
     "text": [
      "tensor(0.0216, grad_fn=<NllLossBackward0>)\n",
      "training_acuracy 0.9333140621812493\n",
      "validation_acuracy: 0.8827946190648044\n",
      "6\n"
     ]
    },
    {
     "name": "stderr",
     "output_type": "stream",
     "text": [
      "100%|██████████| 5000/5000 [00:39<00:00, 127.41it/s]\n",
      "100%|██████████| 1000/1000 [00:02<00:00, 359.17it/s]\n"
     ]
    },
    {
     "name": "stdout",
     "output_type": "stream",
     "text": [
      "tensor(0.0165, grad_fn=<NllLossBackward0>)\n",
      "training_acuracy 0.9557063766750962\n",
      "validation_acuracy: 0.9042471082539265\n",
      "7\n"
     ]
    },
    {
     "name": "stderr",
     "output_type": "stream",
     "text": [
      "100%|██████████| 5000/5000 [00:39<00:00, 127.96it/s]\n",
      "100%|██████████| 1000/1000 [00:02<00:00, 355.62it/s]\n"
     ]
    },
    {
     "name": "stdout",
     "output_type": "stream",
     "text": [
      "tensor(0.0145, grad_fn=<NllLossBackward0>)\n",
      "training_acuracy 0.9718327615016451\n",
      "validation_acuracy: 0.9150766648888785\n",
      "8\n"
     ]
    },
    {
     "name": "stderr",
     "output_type": "stream",
     "text": [
      "100%|██████████| 5000/5000 [00:39<00:00, 125.92it/s]\n",
      "100%|██████████| 1000/1000 [00:02<00:00, 361.16it/s]\n"
     ]
    },
    {
     "name": "stdout",
     "output_type": "stream",
     "text": [
      "tensor(0.0123, grad_fn=<NllLossBackward0>)\n",
      "training_acuracy 0.9815342297911924\n",
      "validation_acuracy: 0.9254581238991897\n",
      "9\n"
     ]
    },
    {
     "name": "stderr",
     "output_type": "stream",
     "text": [
      "100%|██████████| 5000/5000 [00:40<00:00, 124.43it/s]\n",
      "100%|██████████| 1000/1000 [00:03<00:00, 306.65it/s]\n"
     ]
    },
    {
     "name": "stdout",
     "output_type": "stream",
     "text": [
      "tensor(0.0122, grad_fn=<NllLossBackward0>)\n",
      "training_acuracy 0.9859673242777554\n",
      "validation_acuracy: 0.9348982925908889\n",
      "10\n"
     ]
    },
    {
     "name": "stderr",
     "output_type": "stream",
     "text": [
      "100%|██████████| 5000/5000 [00:39<00:00, 125.53it/s]\n",
      "100%|██████████| 1000/1000 [00:02<00:00, 362.84it/s]\n"
     ]
    },
    {
     "name": "stdout",
     "output_type": "stream",
     "text": [
      "tensor(0.0127, grad_fn=<NllLossBackward0>)\n",
      "training_acuracy 0.9875342053493646\n",
      "validation_acuracy: 0.9403505654494851\n",
      "11\n"
     ]
    },
    {
     "name": "stderr",
     "output_type": "stream",
     "text": [
      "100%|██████████| 5000/5000 [00:39<00:00, 125.09it/s]\n",
      "100%|██████████| 1000/1000 [00:02<00:00, 356.36it/s]\n"
     ]
    },
    {
     "name": "stdout",
     "output_type": "stream",
     "text": [
      "tensor(0.0168, grad_fn=<NllLossBackward0>)\n",
      "training_acuracy 0.9880182300712739\n",
      "validation_acuracy: 0.9421121067222531\n",
      "12\n"
     ]
    },
    {
     "name": "stderr",
     "output_type": "stream",
     "text": [
      "100%|██████████| 5000/5000 [00:39<00:00, 125.89it/s]\n",
      "100%|██████████| 1000/1000 [00:02<00:00, 355.48it/s]\n"
     ]
    },
    {
     "name": "stdout",
     "output_type": "stream",
     "text": [
      "tensor(0.0161, grad_fn=<NllLossBackward0>)\n",
      "training_acuracy 0.9882133517231947\n",
      "validation_acuracy: 0.9441095604854299\n",
      "13\n"
     ]
    },
    {
     "name": "stderr",
     "output_type": "stream",
     "text": [
      "100%|██████████| 5000/5000 [00:39<00:00, 125.47it/s]\n",
      "100%|██████████| 1000/1000 [00:02<00:00, 359.88it/s]\n"
     ]
    },
    {
     "name": "stdout",
     "output_type": "stream",
     "text": [
      "tensor(0.0168, grad_fn=<NllLossBackward0>)\n",
      "training_acuracy 0.9882736286032346\n",
      "validation_acuracy: 0.944302081857679\n",
      "14\n"
     ]
    },
    {
     "name": "stderr",
     "output_type": "stream",
     "text": [
      "100%|██████████| 5000/5000 [00:39<00:00, 126.06it/s]\n",
      "100%|██████████| 1000/1000 [00:02<00:00, 354.92it/s]\n"
     ]
    },
    {
     "name": "stdout",
     "output_type": "stream",
     "text": [
      "tensor(0.0160, grad_fn=<NllLossBackward0>)\n",
      "training_acuracy 0.9882748968611208\n",
      "validation_acuracy: 0.9440058451781012\n",
      "15\n"
     ]
    },
    {
     "name": "stderr",
     "output_type": "stream",
     "text": [
      "100%|██████████| 5000/5000 [00:39<00:00, 125.53it/s]\n",
      "100%|██████████| 1000/1000 [00:02<00:00, 344.46it/s]\n"
     ]
    },
    {
     "name": "stdout",
     "output_type": "stream",
     "text": [
      "tensor(0.0138, grad_fn=<NllLossBackward0>)\n",
      "training_acuracy 0.9882801748782533\n",
      "validation_acuracy: 0.9442699614987398\n",
      "16\n"
     ]
    },
    {
     "name": "stderr",
     "output_type": "stream",
     "text": [
      "100%|██████████| 5000/5000 [00:39<00:00, 126.50it/s]\n",
      "100%|██████████| 1000/1000 [00:02<00:00, 346.71it/s]\n"
     ]
    },
    {
     "name": "stdout",
     "output_type": "stream",
     "text": [
      "tensor(0.0122, grad_fn=<NllLossBackward0>)\n",
      "training_acuracy 0.9883265043494359\n",
      "validation_acuracy: 0.9443357737195093\n",
      "17\n"
     ]
    },
    {
     "name": "stderr",
     "output_type": "stream",
     "text": [
      "100%|██████████| 5000/5000 [00:39<00:00, 126.15it/s]\n",
      "100%|██████████| 1000/1000 [00:02<00:00, 349.91it/s]\n"
     ]
    },
    {
     "name": "stdout",
     "output_type": "stream",
     "text": [
      "tensor(0.0110, grad_fn=<NllLossBackward0>)\n",
      "training_acuracy 0.9883446463012233\n",
      "validation_acuracy: 0.9445469201517663\n",
      "18\n"
     ]
    },
    {
     "name": "stderr",
     "output_type": "stream",
     "text": [
      "100%|██████████| 5000/5000 [00:40<00:00, 124.31it/s]\n",
      "100%|██████████| 1000/1000 [00:02<00:00, 361.71it/s]\n"
     ]
    },
    {
     "name": "stdout",
     "output_type": "stream",
     "text": [
      "tensor(0.0099, grad_fn=<NllLossBackward0>)\n",
      "training_acuracy 0.9883358675301596\n",
      "validation_acuracy: 0.9446084951250052\n",
      "19\n"
     ]
    },
    {
     "name": "stderr",
     "output_type": "stream",
     "text": [
      "100%|██████████| 5000/5000 [00:39<00:00, 125.77it/s]\n",
      "100%|██████████| 1000/1000 [00:02<00:00, 372.34it/s]\n"
     ]
    },
    {
     "name": "stdout",
     "output_type": "stream",
     "text": [
      "tensor(0.0091, grad_fn=<NllLossBackward0>)\n",
      "training_acuracy 0.9883491777605659\n",
      "validation_acuracy: 0.944795055275381\n",
      "20\n"
     ]
    },
    {
     "name": "stderr",
     "output_type": "stream",
     "text": [
      "100%|██████████| 5000/5000 [00:39<00:00, 126.93it/s]\n",
      "100%|██████████| 1000/1000 [00:02<00:00, 372.86it/s]\n"
     ]
    },
    {
     "name": "stdout",
     "output_type": "stream",
     "text": [
      "tensor(0.0083, grad_fn=<NllLossBackward0>)\n",
      "training_acuracy 0.9883818040231921\n",
      "validation_acuracy: 0.9450531807455421\n",
      "21\n"
     ]
    },
    {
     "name": "stderr",
     "output_type": "stream",
     "text": [
      "100%|██████████| 5000/5000 [00:39<00:00, 127.96it/s]\n",
      "100%|██████████| 1000/1000 [00:02<00:00, 357.55it/s]\n"
     ]
    },
    {
     "name": "stdout",
     "output_type": "stream",
     "text": [
      "tensor(0.0077, grad_fn=<NllLossBackward0>)\n",
      "training_acuracy 0.988428308533175\n",
      "validation_acuracy: 0.9446635561157859\n",
      "22\n"
     ]
    },
    {
     "name": "stderr",
     "output_type": "stream",
     "text": [
      "100%|██████████| 5000/5000 [00:39<00:00, 125.52it/s]\n",
      "100%|██████████| 1000/1000 [00:02<00:00, 360.94it/s]\n"
     ]
    },
    {
     "name": "stdout",
     "output_type": "stream",
     "text": [
      "tensor(0.0071, grad_fn=<NllLossBackward0>)\n",
      "training_acuracy 0.9884583707925978\n",
      "validation_acuracy: 0.9453241088177279\n",
      "23\n"
     ]
    },
    {
     "name": "stderr",
     "output_type": "stream",
     "text": [
      "100%|██████████| 5000/5000 [00:38<00:00, 128.28it/s]\n",
      "100%|██████████| 1000/1000 [00:03<00:00, 304.28it/s]\n"
     ]
    },
    {
     "name": "stdout",
     "output_type": "stream",
     "text": [
      "tensor(0.0066, grad_fn=<NllLossBackward0>)\n",
      "training_acuracy 0.9885021867805315\n",
      "validation_acuracy: 0.9452616088177278\n",
      "24\n"
     ]
    },
    {
     "name": "stderr",
     "output_type": "stream",
     "text": [
      "100%|██████████| 5000/5000 [00:42<00:00, 118.85it/s]\n",
      "100%|██████████| 1000/1000 [00:02<00:00, 356.05it/s]\n"
     ]
    },
    {
     "name": "stdout",
     "output_type": "stream",
     "text": [
      "tensor(0.0062, grad_fn=<NllLossBackward0>)\n",
      "training_acuracy 0.9885822539355986\n",
      "validation_acuracy: 0.9456134393839626\n",
      "25\n"
     ]
    },
    {
     "name": "stderr",
     "output_type": "stream",
     "text": [
      "100%|██████████| 5000/5000 [00:40<00:00, 123.73it/s]\n",
      "100%|██████████| 1000/1000 [00:02<00:00, 363.70it/s]\n"
     ]
    },
    {
     "name": "stdout",
     "output_type": "stream",
     "text": [
      "tensor(0.0058, grad_fn=<NllLossBackward0>)\n",
      "training_acuracy 0.9885844761578207\n",
      "validation_acuracy: 0.9456008078050152\n",
      "26\n"
     ]
    },
    {
     "name": "stderr",
     "output_type": "stream",
     "text": [
      "100%|██████████| 5000/5000 [00:39<00:00, 126.45it/s]\n",
      "100%|██████████| 1000/1000 [00:02<00:00, 362.05it/s]\n"
     ]
    },
    {
     "name": "stdout",
     "output_type": "stream",
     "text": [
      "tensor(0.0055, grad_fn=<NllLossBackward0>)\n",
      "training_acuracy 0.9885876507609953\n",
      "validation_acuracy: 0.9453973783555436\n",
      "27\n"
     ]
    },
    {
     "name": "stderr",
     "output_type": "stream",
     "text": [
      "100%|██████████| 5000/5000 [00:39<00:00, 126.97it/s]\n",
      "100%|██████████| 1000/1000 [00:02<00:00, 350.41it/s]\n"
     ]
    },
    {
     "name": "stdout",
     "output_type": "stream",
     "text": [
      "tensor(0.0052, grad_fn=<NllLossBackward0>)\n",
      "training_acuracy 0.9886495160884784\n",
      "validation_acuracy: 0.9452604846506931\n",
      "28\n"
     ]
    },
    {
     "name": "stderr",
     "output_type": "stream",
     "text": [
      "100%|██████████| 5000/5000 [00:39<00:00, 126.57it/s]\n",
      "100%|██████████| 1000/1000 [00:02<00:00, 357.06it/s]\n"
     ]
    },
    {
     "name": "stdout",
     "output_type": "stream",
     "text": [
      "tensor(0.0049, grad_fn=<NllLossBackward0>)\n",
      "training_acuracy 0.9886465134429756\n",
      "validation_acuracy: 0.9451741534380461\n",
      "29\n"
     ]
    },
    {
     "name": "stderr",
     "output_type": "stream",
     "text": [
      "100%|██████████| 5000/5000 [00:39<00:00, 126.09it/s]\n",
      "100%|██████████| 1000/1000 [00:02<00:00, 356.10it/s]\n"
     ]
    },
    {
     "name": "stdout",
     "output_type": "stream",
     "text": [
      "tensor(0.0047, grad_fn=<NllLossBackward0>)\n",
      "training_acuracy 0.9887175313956114\n",
      "validation_acuracy: 0.9452618658563468\n"
     ]
    }
   ],
   "source": [
    "# Training the LSTM\n",
    "\n",
    "#Monitor trianing results\n",
    "from torch.utils.tensorboard import SummaryWriter\n",
    "from tqdm import tqdm\n",
    "\n",
    "#Helper function to convert data into tensor\n",
    "def prepare_sequence(seq, to_ix):\n",
    "    idxs = [to_ix[w] for w in seq]\n",
    "    return torch.tensor(idxs, dtype=torch.long)\n",
    "\n",
    "# Accuracy Recording\n",
    "acc_record = []\n",
    "\n",
    "for i in range(10):\n",
    "    #Change parameters to reach better performances\n",
    "    EMBEDDING_DIM = 60 \n",
    "    HIDDEN_DIM = 10 + 20*i\n",
    "    g = \"./log/\"+\"Hidden_dim_\"+str(EMBEDDING_DIM)+\"_Embedding_dim_\"+str(HIDDEN_DIM)\n",
    "    model = LSTMTagger(EMBEDDING_DIM, HIDDEN_DIM, len(word_to_ix), len(tag_to_ix))\n",
    "    loss_function = nn.NLLLoss()\n",
    "    optimizer = torch.optim.SGD(model.parameters(), lr=0.1)\n",
    "    writer = SummaryWriter(g)\n",
    "\n",
    "\n",
    "    # # No training, so use no_grad()\n",
    "    # with torch.no_grad():\n",
    "    #     inputs = prepare_sequence(training_data[0][0], word_to_ix)\n",
    "    #     tag_scores = model(inputs)\n",
    "    #     targets = prepare_sequence(training_data[0][1], tag_to_ix)\n",
    "    #     #print((torch.argmax(tag_scores, dim=-1) == targets).sum().item() / len(targets))\n",
    "\n",
    "    EPOCH=30\n",
    "\n",
    "    for epoch in range(EPOCH):  \n",
    "        print(epoch)\n",
    "        training_acuracy = []\n",
    "        validation_acuracy = []\n",
    "        loss_list_train = []\n",
    "        loss_list_validation = []\n",
    "        for sentence, tags in tqdm(training_data[:5000]):\n",
    "            # 第一步: 请记住Pytorch会累加梯度.\n",
    "            # 我们需要在训练每个实例前清空梯度\n",
    "            model.zero_grad()\n",
    "\n",
    "            # 此外还需要清空 LSTM 的隐状态,\n",
    "            # 将其从上个实例的历史中分离出来.\n",
    "            model.hidden = model.init_hidden()\n",
    "\n",
    "            # 准备网络输入, 将其变为词索引的 Tensor 类型数据            \n",
    "            sentence_in = prepare_sequence(sentence, word_to_ix)\n",
    "            targets = prepare_sequence(tags, tag_to_ix)\n",
    "            \n",
    "            # 第三步: 前向传播.\n",
    "            tag_scores = model(sentence_in)\n",
    "\n",
    "            # 第四步: 计算损失和梯度值, 通过调用 optimizer.step() 来更新梯度\n",
    "            loss = loss_function(tag_scores, targets)\n",
    "            a = (torch.argmax(tag_scores, dim=-1) == targets).sum().item() / len(targets)\n",
    "            training_acuracy.append(a)\n",
    "            loss.backward()\n",
    "            optimizer.step()\n",
    "            loss_list_train.append(loss.item())\n",
    "        #Validation\n",
    "        \n",
    "        for sentence, tags in tqdm(training_data[5000:6000]):\n",
    "            model.zero_grad()\n",
    "            model.hidden = model.init_hidden()\n",
    "\n",
    "            # 准备网络输入, 将其变为词索引的 Tensor 类型数据\n",
    "            \n",
    "            sentence_in = prepare_sequence(sentence, word_to_ix)\n",
    "            targets = prepare_sequence(tags, tag_to_ix)\n",
    "            # 第三步: 前向传播.\n",
    "            tag_scores = model(sentence_in)\n",
    "            #计算损失\n",
    "            a = (torch.argmax(tag_scores, dim=-1) == targets).sum().item() / len(targets)\n",
    "            validation_acuracy.append(a)\n",
    "            loss = loss_function(tag_scores, targets)\n",
    "            loss_list_validation.append(loss.item())\n",
    "        \n",
    "        acc_record.append((a,HIDDEN_DIM))\n",
    "            \n",
    "        #LSTM 可以做padding\n",
    "        \n",
    "        print(loss)\n",
    "        c= sum(loss_list_train)\n",
    "        writer.add_scalar('Loss/training', c, epoch)\n",
    "        d = sum(loss_list_validation)\n",
    "        writer.add_scalar('Loss/validation', d, epoch)\n",
    "        #print(torch.argmax(tag_scores, dim=-1))\n",
    "        print(\"training_acuracy\",sum(training_acuracy)/len(training_acuracy))\n",
    "        b = sum(training_acuracy)/len(training_acuracy)\n",
    "        writer.add_scalar('Accuracy/training', b, epoch)\n",
    "        print(\"validation_acuracy:\",sum(validation_acuracy)/len(validation_acuracy))\n",
    "        a =sum(validation_acuracy)/len(validation_acuracy) \n",
    "        writer.add_scalar('Accuracy/validation', a, epoch)\n",
    "\n",
    "    # 查看训练后的得分\n",
    "    with torch.no_grad():\n",
    "        inputs = prepare_sequence(training_data[0][0], word_to_ix)\n",
    "        tag_scores = model(inputs)\n",
    "writer.close()\n"
   ]
  },
  {
   "cell_type": "code",
   "execution_count": null,
   "id": "54cd0cd8",
   "metadata": {},
   "outputs": [],
   "source": []
  }
 ],
 "metadata": {
  "kernelspec": {
   "display_name": "Python 3.9.13 ('base')",
   "language": "python",
   "name": "python3"
  },
  "language_info": {
   "codemirror_mode": {
    "name": "ipython",
    "version": 3
   },
   "file_extension": ".py",
   "mimetype": "text/x-python",
   "name": "python",
   "nbconvert_exporter": "python",
   "pygments_lexer": "ipython3",
   "version": "3.9.13"
  },
  "vscode": {
   "interpreter": {
    "hash": "b09ec625f77bf4fd762565a912b97636504ad6ec901eb2d0f4cf5a7de23e1ee5"
   }
  }
 },
 "nbformat": 4,
 "nbformat_minor": 5
}
