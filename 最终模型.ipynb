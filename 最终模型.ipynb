{
 "cells": [
  {
   "cell_type": "markdown",
   "id": "1d58cd6c",
   "metadata": {},
   "source": [
    "BiLSTM序列标注---盲汉翻译"
   ]
  },
  {
   "cell_type": "code",
   "execution_count": 16,
   "id": "f10a85cc",
   "metadata": {},
   "outputs": [],
   "source": [
    "import torch\n",
    "import torch.nn as nn\n",
    "import torch.nn.functional as F\n",
    "import numpy as np\n",
    "import random # for dataset shuffling\n",
    "import openpyxl # for recording experimental value\n",
    "import copy # for data shuffling"
   ]
  },
  {
   "cell_type": "markdown",
   "id": "636f44cf",
   "metadata": {},
   "source": [
    "https://blog.csdn.net/vivian_ll/article/details/93894151"
   ]
  },
  {
   "cell_type": "code",
   "execution_count": 17,
   "id": "aef6258d",
   "metadata": {},
   "outputs": [],
   "source": [
    "class LSTMTagger(nn.Module):\n",
    "\n",
    "    def __init__(self, embedding_dim, hidden_dim, vocab_size, tagset_size):\n",
    "        super(LSTMTagger, self).__init__()\n",
    "        self.hidden_dim = hidden_dim\n",
    "\n",
    "        self.word_embeddings = nn.Embedding(vocab_size, embedding_dim)\n",
    "\n",
    "        # LSTM以word_embeddings作为输入, 输出维度为 hidden_dim 的隐藏状态值\n",
    "        self.lstm = nn.LSTM(embedding_dim, hidden_dim)\n",
    "\n",
    "        # 线性层将隐藏状态空间映射到标注空间\n",
    "        self.hidden2tag = nn.Linear(hidden_dim, tagset_size)\n",
    "        self.hidden = self.init_hidden()\n",
    "\n",
    "    def init_hidden(self):\n",
    "        # 各个维度的含义是 (num_layers*num_directions, batch_size, hidden_dim)\n",
    "        return (torch.zeros(1, 1, self.hidden_dim),\n",
    "                torch.zeros(1, 1, self.hidden_dim))\n",
    "\n",
    "    def forward(self, sentence):\n",
    "        embeds = self.word_embeddings(sentence)\n",
    "        lstm_out, self.hidden = self.lstm(\n",
    "            embeds.view(len(sentence), 1, -1), self.hidden)\n",
    "        tag_space = self.hidden2tag(lstm_out.view(len(sentence), -1))\n",
    "        tag_scores = F.log_softmax(tag_space, dim=1)\n",
    "        return tag_scores"
   ]
  },
  {
   "cell_type": "code",
   "execution_count": 18,
   "id": "c6eec1f5",
   "metadata": {},
   "outputs": [],
   "source": [
    "#Making training data\n",
    "original_data = []\n",
    "t = open('./对应拼音标调.txt',\"r\", encoding='UTF8')\n",
    "f = open(\"./训练集.txt\", \"rb\")\n",
    "#计数 数一共有多少行\n",
    "lines = f.readlines()\n",
    "tags = t.readlines()\n",
    "\n",
    "# Training data: 6692(total number of sentences)*2(line&tag)\n",
    "for index, line in enumerate(lines):\n",
    "    line = lines[index].rstrip().split()\n",
    "    tag = tags[index].rstrip().split()\n",
    "    original_data.append((line, tag))"
   ]
  },
  {
   "cell_type": "code",
   "execution_count": 19,
   "id": "f1901deb",
   "metadata": {},
   "outputs": [],
   "source": [
    "word_to_ix = {}\n",
    "for sent, tags in original_data:\n",
    "    for word in sent:\n",
    "        if word not in word_to_ix:\n",
    "            word_to_ix[word] = len(word_to_ix)\n",
    "\n",
    "tag_to_ix = {\"0\":0, \"1\":1, \"2\":2, \"3\":3, \"4\":4, \",\":5, \".\":6, \"?\":7,\"!\":8}\n",
    "\n",
    "np.save('word_to_ix.npy',word_to_ix)\n",
    "np.save('tag_to_ix.npy',tag_to_ix)"
   ]
  },
  {
   "cell_type": "code",
   "execution_count": 20,
   "id": "9ec3e6eb",
   "metadata": {},
   "outputs": [
    {
     "name": "stdout",
     "output_type": "stream",
     "text": [
      "Running on the CPU\n"
     ]
    }
   ],
   "source": [
    "# GPU training\n",
    "if torch.cuda.is_available():\n",
    "    device = torch.device(\"cuda:0\")\n",
    "    print(\"Running on the GPU\")\n",
    "    print(\"number of device\",torch.cuda.device_count())\n",
    "else:\n",
    "    device = torch.device(\"cpu\")\n",
    "    print(\"Running on the CPU\")"
   ]
  },
  {
   "cell_type": "code",
   "execution_count": 21,
   "id": "a44e7ed3",
   "metadata": {},
   "outputs": [
    {
     "name": "stdout",
     "output_type": "stream",
     "text": [
      "0\n"
     ]
    },
    {
     "name": "stderr",
     "output_type": "stream",
     "text": [
      "100%|██████████| 5000/5000 [00:28<00:00, 177.98it/s]\n",
      "100%|██████████| 1000/1000 [00:01<00:00, 518.10it/s]\n"
     ]
    },
    {
     "name": "stdout",
     "output_type": "stream",
     "text": [
      "1\n"
     ]
    },
    {
     "name": "stderr",
     "output_type": "stream",
     "text": [
      "100%|██████████| 5000/5000 [00:46<00:00, 106.45it/s]\n",
      "100%|██████████| 1000/1000 [00:03<00:00, 285.71it/s]\n"
     ]
    },
    {
     "name": "stdout",
     "output_type": "stream",
     "text": [
      "2\n"
     ]
    },
    {
     "name": "stderr",
     "output_type": "stream",
     "text": [
      "100%|██████████| 5000/5000 [00:52<00:00, 94.37it/s] \n",
      "100%|██████████| 1000/1000 [00:05<00:00, 170.42it/s]\n"
     ]
    },
    {
     "name": "stdout",
     "output_type": "stream",
     "text": [
      "3\n"
     ]
    },
    {
     "name": "stderr",
     "output_type": "stream",
     "text": [
      "100%|██████████| 5000/5000 [00:56<00:00, 87.99it/s] \n",
      "100%|██████████| 1000/1000 [00:03<00:00, 318.87it/s]\n"
     ]
    },
    {
     "name": "stdout",
     "output_type": "stream",
     "text": [
      "4\n"
     ]
    },
    {
     "name": "stderr",
     "output_type": "stream",
     "text": [
      "100%|██████████| 5000/5000 [00:57<00:00, 86.81it/s] \n",
      "100%|██████████| 1000/1000 [00:04<00:00, 235.57it/s]\n"
     ]
    },
    {
     "name": "stdout",
     "output_type": "stream",
     "text": [
      "5\n"
     ]
    },
    {
     "name": "stderr",
     "output_type": "stream",
     "text": [
      "100%|██████████| 5000/5000 [00:55<00:00, 90.32it/s] \n",
      "100%|██████████| 1000/1000 [00:03<00:00, 259.05it/s]\n"
     ]
    },
    {
     "name": "stdout",
     "output_type": "stream",
     "text": [
      "6\n"
     ]
    },
    {
     "name": "stderr",
     "output_type": "stream",
     "text": [
      "100%|██████████| 5000/5000 [00:58<00:00, 85.47it/s] \n",
      "100%|██████████| 1000/1000 [00:04<00:00, 229.55it/s]\n"
     ]
    },
    {
     "name": "stdout",
     "output_type": "stream",
     "text": [
      "7\n"
     ]
    },
    {
     "name": "stderr",
     "output_type": "stream",
     "text": [
      "100%|██████████| 5000/5000 [00:56<00:00, 87.82it/s] \n",
      "100%|██████████| 1000/1000 [00:04<00:00, 221.46it/s]\n"
     ]
    },
    {
     "name": "stdout",
     "output_type": "stream",
     "text": [
      "8\n"
     ]
    },
    {
     "name": "stderr",
     "output_type": "stream",
     "text": [
      "100%|██████████| 5000/5000 [00:57<00:00, 86.48it/s] \n",
      "100%|██████████| 1000/1000 [00:04<00:00, 228.94it/s]\n"
     ]
    },
    {
     "name": "stdout",
     "output_type": "stream",
     "text": [
      "9\n"
     ]
    },
    {
     "name": "stderr",
     "output_type": "stream",
     "text": [
      "100%|██████████| 5000/5000 [00:51<00:00, 96.81it/s] \n",
      "100%|██████████| 1000/1000 [00:04<00:00, 245.96it/s]\n"
     ]
    },
    {
     "name": "stdout",
     "output_type": "stream",
     "text": [
      "10\n"
     ]
    },
    {
     "name": "stderr",
     "output_type": "stream",
     "text": [
      "100%|██████████| 5000/5000 [00:57<00:00, 87.19it/s] \n",
      "100%|██████████| 1000/1000 [00:04<00:00, 207.87it/s]\n"
     ]
    },
    {
     "name": "stdout",
     "output_type": "stream",
     "text": [
      "11\n"
     ]
    },
    {
     "name": "stderr",
     "output_type": "stream",
     "text": [
      "100%|██████████| 5000/5000 [00:58<00:00, 84.98it/s] \n",
      "100%|██████████| 1000/1000 [00:04<00:00, 228.58it/s]\n"
     ]
    },
    {
     "name": "stdout",
     "output_type": "stream",
     "text": [
      "12\n"
     ]
    },
    {
     "name": "stderr",
     "output_type": "stream",
     "text": [
      "100%|██████████| 5000/5000 [00:32<00:00, 151.82it/s]\n",
      "100%|██████████| 1000/1000 [00:01<00:00, 505.49it/s]\n"
     ]
    },
    {
     "name": "stdout",
     "output_type": "stream",
     "text": [
      "13\n"
     ]
    },
    {
     "name": "stderr",
     "output_type": "stream",
     "text": [
      "100%|██████████| 5000/5000 [00:26<00:00, 189.01it/s]\n",
      "100%|██████████| 1000/1000 [00:02<00:00, 372.46it/s]\n"
     ]
    },
    {
     "name": "stdout",
     "output_type": "stream",
     "text": [
      "14\n"
     ]
    },
    {
     "name": "stderr",
     "output_type": "stream",
     "text": [
      "100%|██████████| 5000/5000 [00:29<00:00, 168.98it/s]\n",
      "100%|██████████| 1000/1000 [00:03<00:00, 324.98it/s]\n"
     ]
    },
    {
     "name": "stdout",
     "output_type": "stream",
     "text": [
      "15\n"
     ]
    },
    {
     "name": "stderr",
     "output_type": "stream",
     "text": [
      "100%|██████████| 5000/5000 [00:37<00:00, 132.78it/s]\n",
      "100%|██████████| 1000/1000 [00:01<00:00, 554.24it/s]\n"
     ]
    },
    {
     "name": "stdout",
     "output_type": "stream",
     "text": [
      "16\n"
     ]
    },
    {
     "name": "stderr",
     "output_type": "stream",
     "text": [
      "100%|██████████| 5000/5000 [00:24<00:00, 205.57it/s]\n",
      "100%|██████████| 1000/1000 [00:01<00:00, 554.42it/s]\n"
     ]
    },
    {
     "name": "stdout",
     "output_type": "stream",
     "text": [
      "17\n"
     ]
    },
    {
     "name": "stderr",
     "output_type": "stream",
     "text": [
      "100%|██████████| 5000/5000 [00:50<00:00, 99.71it/s] \n",
      "100%|██████████| 1000/1000 [00:01<00:00, 631.16it/s]\n"
     ]
    },
    {
     "name": "stdout",
     "output_type": "stream",
     "text": [
      "18\n"
     ]
    },
    {
     "name": "stderr",
     "output_type": "stream",
     "text": [
      "100%|██████████| 5000/5000 [00:21<00:00, 230.87it/s]\n",
      "100%|██████████| 1000/1000 [00:01<00:00, 544.67it/s]\n"
     ]
    },
    {
     "name": "stdout",
     "output_type": "stream",
     "text": [
      "19\n"
     ]
    },
    {
     "name": "stderr",
     "output_type": "stream",
     "text": [
      "100%|██████████| 5000/5000 [00:23<00:00, 217.18it/s]\n",
      "100%|██████████| 1000/1000 [00:01<00:00, 574.08it/s]\n"
     ]
    },
    {
     "name": "stdout",
     "output_type": "stream",
     "text": [
      "20\n"
     ]
    },
    {
     "name": "stderr",
     "output_type": "stream",
     "text": [
      "100%|██████████| 5000/5000 [00:24<00:00, 202.39it/s]\n",
      "100%|██████████| 1000/1000 [00:02<00:00, 472.91it/s]\n"
     ]
    },
    {
     "name": "stdout",
     "output_type": "stream",
     "text": [
      "21\n"
     ]
    },
    {
     "name": "stderr",
     "output_type": "stream",
     "text": [
      "100%|██████████| 5000/5000 [00:27<00:00, 180.00it/s]\n",
      "100%|██████████| 1000/1000 [00:02<00:00, 442.94it/s]\n"
     ]
    },
    {
     "name": "stdout",
     "output_type": "stream",
     "text": [
      "22\n"
     ]
    },
    {
     "name": "stderr",
     "output_type": "stream",
     "text": [
      "100%|██████████| 5000/5000 [00:28<00:00, 175.09it/s]\n",
      "100%|██████████| 1000/1000 [00:02<00:00, 451.96it/s]\n"
     ]
    },
    {
     "name": "stdout",
     "output_type": "stream",
     "text": [
      "23\n"
     ]
    },
    {
     "name": "stderr",
     "output_type": "stream",
     "text": [
      "100%|██████████| 5000/5000 [00:28<00:00, 176.14it/s]\n",
      "100%|██████████| 1000/1000 [00:02<00:00, 458.74it/s]\n"
     ]
    },
    {
     "name": "stdout",
     "output_type": "stream",
     "text": [
      "24\n"
     ]
    },
    {
     "name": "stderr",
     "output_type": "stream",
     "text": [
      "100%|██████████| 5000/5000 [00:28<00:00, 174.21it/s]\n",
      "100%|██████████| 1000/1000 [00:02<00:00, 446.28it/s]\n"
     ]
    },
    {
     "name": "stdout",
     "output_type": "stream",
     "text": [
      "25\n"
     ]
    },
    {
     "name": "stderr",
     "output_type": "stream",
     "text": [
      "100%|██████████| 5000/5000 [00:29<00:00, 170.69it/s]\n",
      "100%|██████████| 1000/1000 [00:02<00:00, 444.20it/s]\n"
     ]
    },
    {
     "name": "stdout",
     "output_type": "stream",
     "text": [
      "26\n"
     ]
    },
    {
     "name": "stderr",
     "output_type": "stream",
     "text": [
      "100%|██████████| 5000/5000 [00:30<00:00, 165.16it/s]\n",
      "100%|██████████| 1000/1000 [00:02<00:00, 383.34it/s]\n"
     ]
    },
    {
     "name": "stdout",
     "output_type": "stream",
     "text": [
      "27\n"
     ]
    },
    {
     "name": "stderr",
     "output_type": "stream",
     "text": [
      "100%|██████████| 5000/5000 [00:31<00:00, 160.86it/s]\n",
      "100%|██████████| 1000/1000 [00:02<00:00, 443.51it/s]\n"
     ]
    },
    {
     "name": "stdout",
     "output_type": "stream",
     "text": [
      "28\n"
     ]
    },
    {
     "name": "stderr",
     "output_type": "stream",
     "text": [
      "100%|██████████| 5000/5000 [00:29<00:00, 167.14it/s]\n",
      "100%|██████████| 1000/1000 [00:02<00:00, 417.78it/s]\n"
     ]
    },
    {
     "name": "stdout",
     "output_type": "stream",
     "text": [
      "29\n"
     ]
    },
    {
     "name": "stderr",
     "output_type": "stream",
     "text": [
      "100%|██████████| 5000/5000 [00:28<00:00, 172.81it/s]\n",
      "100%|██████████| 1000/1000 [00:02<00:00, 439.98it/s]\n"
     ]
    },
    {
     "name": "stdout",
     "output_type": "stream",
     "text": [
      "0\n"
     ]
    },
    {
     "name": "stderr",
     "output_type": "stream",
     "text": [
      "100%|██████████| 5000/5000 [00:28<00:00, 174.66it/s]\n",
      "100%|██████████| 1000/1000 [00:02<00:00, 443.60it/s]\n"
     ]
    },
    {
     "name": "stdout",
     "output_type": "stream",
     "text": [
      "1\n"
     ]
    },
    {
     "name": "stderr",
     "output_type": "stream",
     "text": [
      "100%|██████████| 5000/5000 [00:28<00:00, 175.74it/s]\n",
      "100%|██████████| 1000/1000 [00:02<00:00, 429.54it/s]\n"
     ]
    },
    {
     "name": "stdout",
     "output_type": "stream",
     "text": [
      "2\n"
     ]
    },
    {
     "name": "stderr",
     "output_type": "stream",
     "text": [
      "100%|██████████| 5000/5000 [00:28<00:00, 176.22it/s]\n",
      "100%|██████████| 1000/1000 [00:02<00:00, 435.24it/s]\n"
     ]
    },
    {
     "name": "stdout",
     "output_type": "stream",
     "text": [
      "3\n"
     ]
    },
    {
     "name": "stderr",
     "output_type": "stream",
     "text": [
      "100%|██████████| 5000/5000 [00:28<00:00, 176.61it/s]\n",
      "100%|██████████| 1000/1000 [00:02<00:00, 458.80it/s]\n"
     ]
    },
    {
     "name": "stdout",
     "output_type": "stream",
     "text": [
      "4\n"
     ]
    },
    {
     "name": "stderr",
     "output_type": "stream",
     "text": [
      "100%|██████████| 5000/5000 [00:28<00:00, 175.78it/s]\n",
      "100%|██████████| 1000/1000 [00:02<00:00, 444.18it/s]\n"
     ]
    },
    {
     "name": "stdout",
     "output_type": "stream",
     "text": [
      "5\n"
     ]
    },
    {
     "name": "stderr",
     "output_type": "stream",
     "text": [
      "100%|██████████| 5000/5000 [00:28<00:00, 175.69it/s]\n",
      "100%|██████████| 1000/1000 [00:02<00:00, 448.54it/s]\n"
     ]
    },
    {
     "name": "stdout",
     "output_type": "stream",
     "text": [
      "6\n"
     ]
    },
    {
     "name": "stderr",
     "output_type": "stream",
     "text": [
      "100%|██████████| 5000/5000 [00:28<00:00, 177.18it/s]\n",
      "100%|██████████| 1000/1000 [00:02<00:00, 466.53it/s]\n"
     ]
    },
    {
     "name": "stdout",
     "output_type": "stream",
     "text": [
      "7\n"
     ]
    },
    {
     "name": "stderr",
     "output_type": "stream",
     "text": [
      "100%|██████████| 5000/5000 [00:28<00:00, 176.58it/s]\n",
      "100%|██████████| 1000/1000 [00:02<00:00, 452.08it/s]\n"
     ]
    },
    {
     "name": "stdout",
     "output_type": "stream",
     "text": [
      "8\n"
     ]
    },
    {
     "name": "stderr",
     "output_type": "stream",
     "text": [
      "100%|██████████| 5000/5000 [00:28<00:00, 176.03it/s]\n",
      "100%|██████████| 1000/1000 [00:02<00:00, 435.11it/s]\n"
     ]
    },
    {
     "name": "stdout",
     "output_type": "stream",
     "text": [
      "9\n"
     ]
    },
    {
     "name": "stderr",
     "output_type": "stream",
     "text": [
      "100%|██████████| 5000/5000 [00:28<00:00, 177.01it/s]\n",
      "100%|██████████| 1000/1000 [00:02<00:00, 436.50it/s]\n"
     ]
    },
    {
     "name": "stdout",
     "output_type": "stream",
     "text": [
      "10\n"
     ]
    },
    {
     "name": "stderr",
     "output_type": "stream",
     "text": [
      "100%|██████████| 5000/5000 [00:28<00:00, 177.60it/s]\n",
      "100%|██████████| 1000/1000 [00:02<00:00, 473.22it/s]\n"
     ]
    },
    {
     "name": "stdout",
     "output_type": "stream",
     "text": [
      "11\n"
     ]
    },
    {
     "name": "stderr",
     "output_type": "stream",
     "text": [
      "100%|██████████| 5000/5000 [00:28<00:00, 176.69it/s]\n",
      "100%|██████████| 1000/1000 [00:02<00:00, 437.40it/s]\n"
     ]
    },
    {
     "name": "stdout",
     "output_type": "stream",
     "text": [
      "12\n"
     ]
    },
    {
     "name": "stderr",
     "output_type": "stream",
     "text": [
      "100%|██████████| 5000/5000 [00:28<00:00, 177.44it/s]\n",
      "100%|██████████| 1000/1000 [00:02<00:00, 441.01it/s]\n"
     ]
    },
    {
     "name": "stdout",
     "output_type": "stream",
     "text": [
      "13\n"
     ]
    },
    {
     "name": "stderr",
     "output_type": "stream",
     "text": [
      "100%|██████████| 5000/5000 [00:28<00:00, 177.47it/s]\n",
      "100%|██████████| 1000/1000 [00:02<00:00, 440.66it/s]\n"
     ]
    },
    {
     "name": "stdout",
     "output_type": "stream",
     "text": [
      "14\n"
     ]
    },
    {
     "name": "stderr",
     "output_type": "stream",
     "text": [
      "100%|██████████| 5000/5000 [00:28<00:00, 174.47it/s]\n",
      "100%|██████████| 1000/1000 [00:02<00:00, 423.98it/s]\n"
     ]
    },
    {
     "name": "stdout",
     "output_type": "stream",
     "text": [
      "15\n"
     ]
    },
    {
     "name": "stderr",
     "output_type": "stream",
     "text": [
      "100%|██████████| 5000/5000 [00:28<00:00, 173.14it/s]\n",
      "100%|██████████| 1000/1000 [00:02<00:00, 443.03it/s]\n"
     ]
    },
    {
     "name": "stdout",
     "output_type": "stream",
     "text": [
      "16\n"
     ]
    },
    {
     "name": "stderr",
     "output_type": "stream",
     "text": [
      "100%|██████████| 5000/5000 [00:28<00:00, 175.69it/s]\n",
      "100%|██████████| 1000/1000 [00:02<00:00, 450.80it/s]\n"
     ]
    },
    {
     "name": "stdout",
     "output_type": "stream",
     "text": [
      "17\n"
     ]
    },
    {
     "name": "stderr",
     "output_type": "stream",
     "text": [
      "100%|██████████| 5000/5000 [00:28<00:00, 176.28it/s]\n",
      "100%|██████████| 1000/1000 [00:02<00:00, 432.14it/s]\n"
     ]
    },
    {
     "name": "stdout",
     "output_type": "stream",
     "text": [
      "18\n"
     ]
    },
    {
     "name": "stderr",
     "output_type": "stream",
     "text": [
      "100%|██████████| 5000/5000 [00:27<00:00, 180.45it/s]\n",
      "100%|██████████| 1000/1000 [00:02<00:00, 455.98it/s]\n"
     ]
    },
    {
     "name": "stdout",
     "output_type": "stream",
     "text": [
      "19\n"
     ]
    },
    {
     "name": "stderr",
     "output_type": "stream",
     "text": [
      "100%|██████████| 5000/5000 [00:28<00:00, 176.85it/s]\n",
      "100%|██████████| 1000/1000 [00:02<00:00, 442.89it/s]\n"
     ]
    },
    {
     "name": "stdout",
     "output_type": "stream",
     "text": [
      "20\n"
     ]
    },
    {
     "name": "stderr",
     "output_type": "stream",
     "text": [
      "100%|██████████| 5000/5000 [00:26<00:00, 188.92it/s]\n",
      "100%|██████████| 1000/1000 [00:02<00:00, 470.44it/s]\n"
     ]
    },
    {
     "name": "stdout",
     "output_type": "stream",
     "text": [
      "21\n"
     ]
    },
    {
     "name": "stderr",
     "output_type": "stream",
     "text": [
      "100%|██████████| 5000/5000 [00:26<00:00, 189.93it/s]\n",
      "100%|██████████| 1000/1000 [00:01<00:00, 508.65it/s]\n"
     ]
    },
    {
     "name": "stdout",
     "output_type": "stream",
     "text": [
      "22\n"
     ]
    },
    {
     "name": "stderr",
     "output_type": "stream",
     "text": [
      "100%|██████████| 5000/5000 [00:26<00:00, 191.29it/s]\n",
      "100%|██████████| 1000/1000 [00:02<00:00, 493.40it/s]\n"
     ]
    },
    {
     "name": "stdout",
     "output_type": "stream",
     "text": [
      "23\n"
     ]
    },
    {
     "name": "stderr",
     "output_type": "stream",
     "text": [
      "100%|██████████| 5000/5000 [00:26<00:00, 190.82it/s]\n",
      "100%|██████████| 1000/1000 [00:02<00:00, 460.27it/s]\n"
     ]
    },
    {
     "name": "stdout",
     "output_type": "stream",
     "text": [
      "24\n"
     ]
    },
    {
     "name": "stderr",
     "output_type": "stream",
     "text": [
      "100%|██████████| 5000/5000 [00:26<00:00, 188.02it/s]\n",
      "100%|██████████| 1000/1000 [00:02<00:00, 472.12it/s]\n"
     ]
    },
    {
     "name": "stdout",
     "output_type": "stream",
     "text": [
      "25\n"
     ]
    },
    {
     "name": "stderr",
     "output_type": "stream",
     "text": [
      "100%|██████████| 5000/5000 [00:26<00:00, 189.68it/s]\n",
      "100%|██████████| 1000/1000 [00:02<00:00, 462.16it/s]\n"
     ]
    },
    {
     "name": "stdout",
     "output_type": "stream",
     "text": [
      "26\n"
     ]
    },
    {
     "name": "stderr",
     "output_type": "stream",
     "text": [
      "100%|██████████| 5000/5000 [00:26<00:00, 187.26it/s]\n",
      "100%|██████████| 1000/1000 [00:02<00:00, 480.02it/s]\n"
     ]
    },
    {
     "name": "stdout",
     "output_type": "stream",
     "text": [
      "27\n"
     ]
    },
    {
     "name": "stderr",
     "output_type": "stream",
     "text": [
      "100%|██████████| 5000/5000 [00:26<00:00, 190.49it/s]\n",
      "100%|██████████| 1000/1000 [00:02<00:00, 456.95it/s]\n"
     ]
    },
    {
     "name": "stdout",
     "output_type": "stream",
     "text": [
      "28\n"
     ]
    },
    {
     "name": "stderr",
     "output_type": "stream",
     "text": [
      "100%|██████████| 5000/5000 [00:26<00:00, 189.97it/s]\n",
      "100%|██████████| 1000/1000 [00:02<00:00, 464.67it/s]\n"
     ]
    },
    {
     "name": "stdout",
     "output_type": "stream",
     "text": [
      "29\n"
     ]
    },
    {
     "name": "stderr",
     "output_type": "stream",
     "text": [
      "100%|██████████| 5000/5000 [00:26<00:00, 187.80it/s]\n",
      "100%|██████████| 1000/1000 [00:02<00:00, 474.56it/s]\n"
     ]
    },
    {
     "name": "stdout",
     "output_type": "stream",
     "text": [
      "0\n"
     ]
    },
    {
     "name": "stderr",
     "output_type": "stream",
     "text": [
      "100%|██████████| 5000/5000 [00:26<00:00, 187.92it/s]\n",
      "100%|██████████| 1000/1000 [00:02<00:00, 498.07it/s]\n"
     ]
    },
    {
     "name": "stdout",
     "output_type": "stream",
     "text": [
      "1\n"
     ]
    },
    {
     "name": "stderr",
     "output_type": "stream",
     "text": [
      "100%|██████████| 5000/5000 [00:26<00:00, 189.85it/s]\n",
      "100%|██████████| 1000/1000 [00:02<00:00, 486.51it/s]\n"
     ]
    },
    {
     "name": "stdout",
     "output_type": "stream",
     "text": [
      "2\n"
     ]
    },
    {
     "name": "stderr",
     "output_type": "stream",
     "text": [
      "100%|██████████| 5000/5000 [00:26<00:00, 190.65it/s]\n",
      "100%|██████████| 1000/1000 [00:01<00:00, 510.83it/s]\n"
     ]
    },
    {
     "name": "stdout",
     "output_type": "stream",
     "text": [
      "3\n"
     ]
    },
    {
     "name": "stderr",
     "output_type": "stream",
     "text": [
      "100%|██████████| 5000/5000 [00:26<00:00, 188.21it/s]\n",
      "100%|██████████| 1000/1000 [00:02<00:00, 460.21it/s]\n"
     ]
    },
    {
     "name": "stdout",
     "output_type": "stream",
     "text": [
      "4\n"
     ]
    },
    {
     "name": "stderr",
     "output_type": "stream",
     "text": [
      "100%|██████████| 5000/5000 [00:26<00:00, 187.50it/s]\n",
      "100%|██████████| 1000/1000 [00:02<00:00, 496.71it/s]\n"
     ]
    },
    {
     "name": "stdout",
     "output_type": "stream",
     "text": [
      "5\n"
     ]
    },
    {
     "name": "stderr",
     "output_type": "stream",
     "text": [
      "100%|██████████| 5000/5000 [00:26<00:00, 188.78it/s]\n",
      "100%|██████████| 1000/1000 [00:02<00:00, 455.58it/s]\n"
     ]
    },
    {
     "name": "stdout",
     "output_type": "stream",
     "text": [
      "6\n"
     ]
    },
    {
     "name": "stderr",
     "output_type": "stream",
     "text": [
      "100%|██████████| 5000/5000 [00:26<00:00, 191.35it/s]\n",
      "100%|██████████| 1000/1000 [00:02<00:00, 476.81it/s]\n"
     ]
    },
    {
     "name": "stdout",
     "output_type": "stream",
     "text": [
      "7\n"
     ]
    },
    {
     "name": "stderr",
     "output_type": "stream",
     "text": [
      "100%|██████████| 5000/5000 [00:26<00:00, 189.92it/s]\n",
      "100%|██████████| 1000/1000 [00:02<00:00, 476.30it/s]\n"
     ]
    },
    {
     "name": "stdout",
     "output_type": "stream",
     "text": [
      "8\n"
     ]
    },
    {
     "name": "stderr",
     "output_type": "stream",
     "text": [
      "100%|██████████| 5000/5000 [00:26<00:00, 187.68it/s]\n",
      "100%|██████████| 1000/1000 [00:02<00:00, 489.47it/s]\n"
     ]
    },
    {
     "name": "stdout",
     "output_type": "stream",
     "text": [
      "9\n"
     ]
    },
    {
     "name": "stderr",
     "output_type": "stream",
     "text": [
      "100%|██████████| 5000/5000 [00:26<00:00, 188.64it/s]\n",
      "100%|██████████| 1000/1000 [00:02<00:00, 488.40it/s]\n"
     ]
    },
    {
     "name": "stdout",
     "output_type": "stream",
     "text": [
      "10\n"
     ]
    },
    {
     "name": "stderr",
     "output_type": "stream",
     "text": [
      "100%|██████████| 5000/5000 [00:26<00:00, 189.70it/s]\n",
      "100%|██████████| 1000/1000 [00:02<00:00, 463.76it/s]\n"
     ]
    },
    {
     "name": "stdout",
     "output_type": "stream",
     "text": [
      "11\n"
     ]
    },
    {
     "name": "stderr",
     "output_type": "stream",
     "text": [
      "100%|██████████| 5000/5000 [00:26<00:00, 190.12it/s]\n",
      "100%|██████████| 1000/1000 [00:02<00:00, 494.64it/s]\n"
     ]
    },
    {
     "name": "stdout",
     "output_type": "stream",
     "text": [
      "12\n"
     ]
    },
    {
     "name": "stderr",
     "output_type": "stream",
     "text": [
      "100%|██████████| 5000/5000 [00:27<00:00, 184.72it/s]\n",
      "100%|██████████| 1000/1000 [00:02<00:00, 491.45it/s]\n"
     ]
    },
    {
     "name": "stdout",
     "output_type": "stream",
     "text": [
      "13\n"
     ]
    },
    {
     "name": "stderr",
     "output_type": "stream",
     "text": [
      "100%|██████████| 5000/5000 [00:26<00:00, 189.21it/s]\n",
      "100%|██████████| 1000/1000 [00:02<00:00, 490.26it/s]\n"
     ]
    },
    {
     "name": "stdout",
     "output_type": "stream",
     "text": [
      "14\n"
     ]
    },
    {
     "name": "stderr",
     "output_type": "stream",
     "text": [
      "100%|██████████| 5000/5000 [00:26<00:00, 189.11it/s]\n",
      "100%|██████████| 1000/1000 [00:02<00:00, 496.65it/s]\n"
     ]
    },
    {
     "name": "stdout",
     "output_type": "stream",
     "text": [
      "15\n"
     ]
    },
    {
     "name": "stderr",
     "output_type": "stream",
     "text": [
      "100%|██████████| 5000/5000 [00:26<00:00, 188.36it/s]\n",
      "100%|██████████| 1000/1000 [00:02<00:00, 476.14it/s]\n"
     ]
    },
    {
     "name": "stdout",
     "output_type": "stream",
     "text": [
      "16\n"
     ]
    },
    {
     "name": "stderr",
     "output_type": "stream",
     "text": [
      "100%|██████████| 5000/5000 [00:26<00:00, 188.80it/s]\n",
      "100%|██████████| 1000/1000 [00:02<00:00, 462.31it/s]\n"
     ]
    },
    {
     "name": "stdout",
     "output_type": "stream",
     "text": [
      "17\n"
     ]
    },
    {
     "name": "stderr",
     "output_type": "stream",
     "text": [
      "100%|██████████| 5000/5000 [00:26<00:00, 189.11it/s]\n",
      "100%|██████████| 1000/1000 [00:02<00:00, 482.72it/s]\n"
     ]
    },
    {
     "name": "stdout",
     "output_type": "stream",
     "text": [
      "18\n"
     ]
    },
    {
     "name": "stderr",
     "output_type": "stream",
     "text": [
      "100%|██████████| 5000/5000 [00:26<00:00, 191.18it/s]\n",
      "100%|██████████| 1000/1000 [00:02<00:00, 480.58it/s]\n"
     ]
    },
    {
     "name": "stdout",
     "output_type": "stream",
     "text": [
      "19\n"
     ]
    },
    {
     "name": "stderr",
     "output_type": "stream",
     "text": [
      "100%|██████████| 5000/5000 [00:26<00:00, 185.63it/s]\n",
      "100%|██████████| 1000/1000 [00:02<00:00, 480.07it/s]\n"
     ]
    },
    {
     "name": "stdout",
     "output_type": "stream",
     "text": [
      "20\n"
     ]
    },
    {
     "name": "stderr",
     "output_type": "stream",
     "text": [
      "100%|██████████| 5000/5000 [00:26<00:00, 191.56it/s]\n",
      "100%|██████████| 1000/1000 [00:02<00:00, 461.49it/s]\n"
     ]
    },
    {
     "name": "stdout",
     "output_type": "stream",
     "text": [
      "21\n"
     ]
    },
    {
     "name": "stderr",
     "output_type": "stream",
     "text": [
      "100%|██████████| 5000/5000 [00:26<00:00, 185.97it/s]\n",
      "100%|██████████| 1000/1000 [00:02<00:00, 463.58it/s]\n"
     ]
    },
    {
     "name": "stdout",
     "output_type": "stream",
     "text": [
      "22\n"
     ]
    },
    {
     "name": "stderr",
     "output_type": "stream",
     "text": [
      "100%|██████████| 5000/5000 [00:26<00:00, 188.07it/s]\n",
      "100%|██████████| 1000/1000 [00:02<00:00, 463.71it/s]\n"
     ]
    },
    {
     "name": "stdout",
     "output_type": "stream",
     "text": [
      "23\n"
     ]
    },
    {
     "name": "stderr",
     "output_type": "stream",
     "text": [
      "100%|██████████| 5000/5000 [00:26<00:00, 188.50it/s]\n",
      "100%|██████████| 1000/1000 [00:02<00:00, 486.40it/s]\n"
     ]
    },
    {
     "name": "stdout",
     "output_type": "stream",
     "text": [
      "24\n"
     ]
    },
    {
     "name": "stderr",
     "output_type": "stream",
     "text": [
      "100%|██████████| 5000/5000 [00:26<00:00, 188.35it/s]\n",
      "100%|██████████| 1000/1000 [00:02<00:00, 493.80it/s]\n"
     ]
    },
    {
     "name": "stdout",
     "output_type": "stream",
     "text": [
      "25\n"
     ]
    },
    {
     "name": "stderr",
     "output_type": "stream",
     "text": [
      "100%|██████████| 5000/5000 [00:25<00:00, 198.69it/s]\n",
      "100%|██████████| 1000/1000 [00:02<00:00, 492.37it/s]\n"
     ]
    },
    {
     "name": "stdout",
     "output_type": "stream",
     "text": [
      "26\n"
     ]
    },
    {
     "name": "stderr",
     "output_type": "stream",
     "text": [
      "100%|██████████| 5000/5000 [00:25<00:00, 195.93it/s]\n",
      "100%|██████████| 1000/1000 [00:02<00:00, 493.52it/s]\n"
     ]
    },
    {
     "name": "stdout",
     "output_type": "stream",
     "text": [
      "27\n"
     ]
    },
    {
     "name": "stderr",
     "output_type": "stream",
     "text": [
      "100%|██████████| 5000/5000 [00:25<00:00, 196.21it/s]\n",
      "100%|██████████| 1000/1000 [00:02<00:00, 473.36it/s]\n"
     ]
    },
    {
     "name": "stdout",
     "output_type": "stream",
     "text": [
      "28\n"
     ]
    },
    {
     "name": "stderr",
     "output_type": "stream",
     "text": [
      "100%|██████████| 5000/5000 [00:26<00:00, 191.95it/s]\n",
      "100%|██████████| 1000/1000 [00:02<00:00, 497.66it/s]\n"
     ]
    },
    {
     "name": "stdout",
     "output_type": "stream",
     "text": [
      "29\n"
     ]
    },
    {
     "name": "stderr",
     "output_type": "stream",
     "text": [
      "100%|██████████| 5000/5000 [00:26<00:00, 192.27it/s]\n",
      "100%|██████████| 1000/1000 [00:01<00:00, 509.06it/s]\n"
     ]
    },
    {
     "ename": "TypeError",
     "evalue": "can only concatenate list (not \"float\") to list",
     "output_type": "error",
     "traceback": [
      "\u001b[1;31m---------------------------------------------------------------------------\u001b[0m",
      "\u001b[1;31mTypeError\u001b[0m                                 Traceback (most recent call last)",
      "\u001b[1;32me:\\BaiduSyncdisk\\3课外活动\\科研实践 盲汉翻译\\Chinese-Braille-to-Chinese-Characters\\最终模型.ipynb Cell 8\u001b[0m line \u001b[0;36m1\n\u001b[0;32m    <a href='vscode-notebook-cell:/e%3A/BaiduSyncdisk/3%E8%AF%BE%E5%A4%96%E6%B4%BB%E5%8A%A8/%E7%A7%91%E7%A0%94%E5%AE%9E%E8%B7%B5%20%E7%9B%B2%E6%B1%89%E7%BF%BB%E8%AF%91/Chinese-Braille-to-Chinese-Characters/%E6%9C%80%E7%BB%88%E6%A8%A1%E5%9E%8B.ipynb#W6sZmlsZQ%3D%3D?line=110'>111</a>\u001b[0m         loss_repeat_val\u001b[39m.\u001b[39mappend(loss_val)         \n\u001b[0;32m    <a href='vscode-notebook-cell:/e%3A/BaiduSyncdisk/3%E8%AF%BE%E5%A4%96%E6%B4%BB%E5%8A%A8/%E7%A7%91%E7%A0%94%E5%AE%9E%E8%B7%B5%20%E7%9B%B2%E6%B1%89%E7%BF%BB%E8%AF%91/Chinese-Braille-to-Chinese-Characters/%E6%9C%80%E7%BB%88%E6%A8%A1%E5%9E%8B.ipynb#W6sZmlsZQ%3D%3D?line=112'>113</a>\u001b[0m         \u001b[39m# 查看训练后的得分\u001b[39;00m\n\u001b[0;32m    <a href='vscode-notebook-cell:/e%3A/BaiduSyncdisk/3%E8%AF%BE%E5%A4%96%E6%B4%BB%E5%8A%A8/%E7%A7%91%E7%A0%94%E5%AE%9E%E8%B7%B5%20%E7%9B%B2%E6%B1%89%E7%BF%BB%E8%AF%91/Chinese-Braille-to-Chinese-Characters/%E6%9C%80%E7%BB%88%E6%A8%A1%E5%9E%8B.ipynb#W6sZmlsZQ%3D%3D?line=113'>114</a>\u001b[0m         \u001b[39m# with torch.no_grad():\u001b[39;00m\n\u001b[0;32m    <a href='vscode-notebook-cell:/e%3A/BaiduSyncdisk/3%E8%AF%BE%E5%A4%96%E6%B4%BB%E5%8A%A8/%E7%A7%91%E7%A0%94%E5%AE%9E%E8%B7%B5%20%E7%9B%B2%E6%B1%89%E7%BF%BB%E8%AF%91/Chinese-Braille-to-Chinese-Characters/%E6%9C%80%E7%BB%88%E6%A8%A1%E5%9E%8B.ipynb#W6sZmlsZQ%3D%3D?line=114'>115</a>\u001b[0m         \u001b[39m#     inputs = prepare_sequence(training_data[0][0], word_to_ix)\u001b[39;00m\n\u001b[0;32m    <a href='vscode-notebook-cell:/e%3A/BaiduSyncdisk/3%E8%AF%BE%E5%A4%96%E6%B4%BB%E5%8A%A8/%E7%A7%91%E7%A0%94%E5%AE%9E%E8%B7%B5%20%E7%9B%B2%E6%B1%89%E7%BF%BB%E8%AF%91/Chinese-Braille-to-Chinese-Characters/%E6%9C%80%E7%BB%88%E6%A8%A1%E5%9E%8B.ipynb#W6sZmlsZQ%3D%3D?line=115'>116</a>\u001b[0m         \u001b[39m#     tag_scores = model(inputs)\u001b[39;00m\n\u001b[1;32m--> <a href='vscode-notebook-cell:/e%3A/BaiduSyncdisk/3%E8%AF%BE%E5%A4%96%E6%B4%BB%E5%8A%A8/%E7%A7%91%E7%A0%94%E5%AE%9E%E8%B7%B5%20%E7%9B%B2%E6%B1%89%E7%BF%BB%E8%AF%91/Chinese-Braille-to-Chinese-Characters/%E6%9C%80%E7%BB%88%E6%A8%A1%E5%9E%8B.ipynb#W6sZmlsZQ%3D%3D?line=117'>118</a>\u001b[0m     worksheet\u001b[39m.\u001b[39mappend(acc_repeat_train\u001b[39m+\u001b[39;49macc_repeat_val\u001b[39m+\u001b[39;49mloss_train\u001b[39m+\u001b[39mloss_val)\n\u001b[0;32m    <a href='vscode-notebook-cell:/e%3A/BaiduSyncdisk/3%E8%AF%BE%E5%A4%96%E6%B4%BB%E5%8A%A8/%E7%A7%91%E7%A0%94%E5%AE%9E%E8%B7%B5%20%E7%9B%B2%E6%B1%89%E7%BF%BB%E8%AF%91/Chinese-Braille-to-Chinese-Characters/%E6%9C%80%E7%BB%88%E6%A8%A1%E5%9E%8B.ipynb#W6sZmlsZQ%3D%3D?line=118'>119</a>\u001b[0m writer\u001b[39m.\u001b[39mclose()\n\u001b[0;32m    <a href='vscode-notebook-cell:/e%3A/BaiduSyncdisk/3%E8%AF%BE%E5%A4%96%E6%B4%BB%E5%8A%A8/%E7%A7%91%E7%A0%94%E5%AE%9E%E8%B7%B5%20%E7%9B%B2%E6%B1%89%E7%BF%BB%E8%AF%91/Chinese-Braille-to-Chinese-Characters/%E6%9C%80%E7%BB%88%E6%A8%A1%E5%9E%8B.ipynb#W6sZmlsZQ%3D%3D?line=119'>120</a>\u001b[0m workbook\u001b[39m.\u001b[39msave(\u001b[39m\"\u001b[39m\u001b[39mResult.xlsx\u001b[39m\u001b[39m\"\u001b[39m)\n",
      "\u001b[1;31mTypeError\u001b[0m: can only concatenate list (not \"float\") to list"
     ]
    }
   ],
   "source": [
    "# Training the LSTM\n",
    "\n",
    "#Monitor trianing results\n",
    "from torch.utils.tensorboard import SummaryWriter\n",
    "from tqdm import tqdm\n",
    "\n",
    "#Helper function to convert data into tensor\n",
    "def prepare_sequence(seq, to_ix):\n",
    "    idxs = [to_ix[w] for w in seq]\n",
    "    return torch.tensor(idxs, dtype=torch.long)\n",
    "\n",
    "# Accuracy recording in excel\n",
    "workbook = openpyxl.Workbook()\n",
    "worksheet = workbook.active\n",
    "\n",
    "\n",
    "\n",
    "#Change parameters to reach better performances\n",
    "for i in range(10):\n",
    "    # record results.\n",
    "    acc_repeat_train = ['acc_train']\n",
    "    acc_repeat_val = [\"acc_val\"]\n",
    "    loss_repeat_train = [\"loss_repeat_train\"]\n",
    "    loss_repeat_val = [\"loss_repeat_val\"]\n",
    "\n",
    "    # Repeat for three times in new model with different data. \n",
    "    for repeat in range(3):\n",
    "        # Initialize the training model\n",
    "        EMBEDDING_DIM = 60 \n",
    "        HIDDEN_DIM = 10 + 20*i\n",
    "        EPOCH=30\n",
    "        model = LSTMTagger(EMBEDDING_DIM, HIDDEN_DIM, len(word_to_ix), len(tag_to_ix))\n",
    "        model = model.to(device) # For GPU calculation\n",
    "        loss_function = nn.NLLLoss()\n",
    "        optimizer = torch.optim.SGD(model.parameters(), lr=0.1)\n",
    "\n",
    "        #Set data writer\n",
    "        g = \"./log/\"+\"Hidden_dim_\"+str(EMBEDDING_DIM)+\"_Embedding_dim_\"+str(HIDDEN_DIM)+\"repeat_\"+str(repeat) \n",
    "        writer = SummaryWriter(g)\n",
    "\n",
    "        #Shuffle data\n",
    "        random.seed(repeat)\n",
    "        training_data = copy.deepcopy(original_data) #Deep copy to make sure the original data is not influenced.\n",
    "        random.shuffle(training_data)\n",
    "\n",
    "        #Record accuracy\n",
    "\n",
    "\n",
    "        for epoch in range(EPOCH):  \n",
    "            print(epoch)\n",
    "            training_acuracy = []\n",
    "            validation_acuracy = []\n",
    "            loss_list_train = []\n",
    "            loss_list_validation = []\n",
    "            for sentence, tags in tqdm(training_data[:5000]):\n",
    "                # Clear Gradient because PyTorch accumulate it\n",
    "                model.zero_grad()\n",
    "                # Clear hidden state for LSTM, seperate them from the last instance.\n",
    "                model.hidden = model.init_hidden()\n",
    "\n",
    "                # 准备网络输入, 将其变为词索引的 Tensor 类型数据            \n",
    "                sentence_in = prepare_sequence(sentence, word_to_ix)\n",
    "                targets = prepare_sequence(tags, tag_to_ix)\n",
    "                \n",
    "                # Forward propagation\n",
    "                tag_scores = model(sentence_in)\n",
    "\n",
    "                # 第四步: 计算损失和梯度值, 通过调用 optimizer.step() 来更新梯度\n",
    "                loss = loss_function(tag_scores, targets)\n",
    "                a = (torch.argmax(tag_scores, dim=-1) == targets).sum().item() / len(targets)\n",
    "                training_acuracy.append(a)\n",
    "                loss.backward()\n",
    "                optimizer.step()\n",
    "                loss_list_train.append(loss.item())\n",
    "            \n",
    "            #Validation\n",
    "            for sentence, tags in tqdm(training_data[5000:6000]):\n",
    "                model.zero_grad()\n",
    "                model.hidden = model.init_hidden()\n",
    "                # 准备网络输入, 将其变为词索引的 Tensor 类型数据\n",
    "                sentence_in = prepare_sequence(sentence, word_to_ix)\n",
    "                targets = prepare_sequence(tags, tag_to_ix)\n",
    "                # 第三步: 前向传播.\n",
    "                tag_scores = model(sentence_in)\n",
    "                #计算损失\n",
    "                a = (torch.argmax(tag_scores, dim=-1) == targets).sum().item() / len(targets)\n",
    "                validation_acuracy.append(a)\n",
    "                loss = loss_function(tag_scores, targets)\n",
    "                loss_list_validation.append(loss.item())\n",
    "            \n",
    "                \n",
    "            #LSTM 可以做padding\n",
    "            \n",
    "            # Calculate error and accuracy\n",
    "            # print(loss)\n",
    "            loss_train= sum(loss_list_train)\n",
    "            writer.add_scalar('Loss/training', loss_train, epoch)\n",
    "            loss_val = sum(loss_list_validation)\n",
    "            writer.add_scalar('Loss/validation', loss_val, epoch)\n",
    "            #print(torch.argmax(tag_scores, dim=-1))\n",
    "            # print(\"training_acuracy\",sum(training_acuracy)/len(training_acuracy))\n",
    "            acc_train = sum(training_acuracy)/len(training_acuracy)\n",
    "            writer.add_scalar('Accuracy/training', acc_train, epoch)\n",
    "            # print(\"validation_acuracy:\",sum(validation_acuracy)/len(validation_acuracy))\n",
    "            acc_val =sum(validation_acuracy)/len(validation_acuracy) \n",
    "            writer.add_scalar('Accuracy/validation', acc_val, epoch)\n",
    "\n",
    "        acc_repeat_train.append(acc_train)\n",
    "        acc_repeat_val.append(acc_val)\n",
    "        loss_repeat_train.append(loss_train)\n",
    "        loss_repeat_val.append(loss_val)         \n",
    "            \n",
    "        # 查看训练后的得分\n",
    "        # with torch.no_grad():\n",
    "        #     inputs = prepare_sequence(training_data[0][0], word_to_ix)\n",
    "        #     tag_scores = model(inputs)\n",
    "\n",
    "    worksheet.append(acc_repeat_train+acc_repeat_val+loss_repeat_train+loss_repeat_val)\n",
    "writer.close()\n",
    "workbook.save(\"Result.xlsx\")"
   ]
  },
  {
   "cell_type": "code",
   "execution_count": 30,
   "id": "a9bcb995",
   "metadata": {},
   "outputs": [],
   "source": []
  },
  {
   "cell_type": "code",
   "execution_count": null,
   "id": "06ee3c3d",
   "metadata": {},
   "outputs": [],
   "source": []
  }
 ],
 "metadata": {
  "kernelspec": {
   "display_name": "Python 3.9.13 ('base')",
   "language": "python",
   "name": "python3"
  },
  "language_info": {
   "codemirror_mode": {
    "name": "ipython",
    "version": 3
   },
   "file_extension": ".py",
   "mimetype": "text/x-python",
   "name": "python",
   "nbconvert_exporter": "python",
   "pygments_lexer": "ipython3",
   "version": "3.9.13"
  },
  "vscode": {
   "interpreter": {
    "hash": "b09ec625f77bf4fd762565a912b97636504ad6ec901eb2d0f4cf5a7de23e1ee5"
   }
  }
 },
 "nbformat": 4,
 "nbformat_minor": 5
}
