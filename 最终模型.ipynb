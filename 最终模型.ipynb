{
 "cells": [
  {
   "cell_type": "markdown",
   "id": "1d58cd6c",
   "metadata": {},
   "source": [
    "BiLSTM序列标注---盲汉翻译"
   ]
  },
  {
   "cell_type": "code",
   "execution_count": 1,
   "id": "f10a85cc",
   "metadata": {},
   "outputs": [],
   "source": [
    "import torch\n",
    "import torch.nn as nn"
   ]
  },
  {
   "cell_type": "code",
   "execution_count": 2,
   "id": "89cf1c6c",
   "metadata": {},
   "outputs": [],
   "source": [
    "# 构造RNN网络，x的维度5，隐层的维度10,网络的层数2\n",
    "rnn_seq = nn.RNN(5, 10,2)  \n",
    "# 构造一个输入序列，句长为 6，batch 是 3， 每个单词使用长度是 5的向量表示\n",
    "x = torch.randn(6, 3, 5)\n",
    "#out,ht = rnn_seq(x,h0) \n",
    "out,ht = rnn_seq(x) #h0可以指定或者不指定\n"
   ]
  },
  {
   "cell_type": "code",
   "execution_count": 3,
   "id": "7985d8de",
   "metadata": {},
   "outputs": [],
   "source": [
    "# 输入维度 50，隐层100维，两层\n",
    "lstm_seq = nn.LSTM(50, 100, num_layers=2)\n",
    "# 输入序列seq= 10，batch =3，输入维度=50\n",
    "lstm_input = torch.randn(10, 3, 50)\n",
    "out, (h, c) = lstm_seq(lstm_input) # 使用默认的全 0 隐藏状态"
   ]
  },
  {
   "cell_type": "code",
   "execution_count": 4,
   "id": "121642c4",
   "metadata": {},
   "outputs": [],
   "source": [
    "\n",
    "class RNN(torch.nn.Module):\n",
    "    def __init__(self,input_size, hidden_size, num_layers):\n",
    "        super(RNN,self).__init__()\n",
    "        self.input_size = input_size\n",
    "        self.hidden_size=hidden_size\n",
    "        self.num_layers=num_layers\n",
    "        self.lstm = torch.nn.LSTM(input_size=input_size,hidden_size=hidden_size,num_layers=num_layers,batch_first=True)\n",
    "    \n",
    "    def forward(self,input):\n",
    "        # input应该为(batch_size,seq_len,input_szie)\n",
    "        self.hidden = self.initHidden(input.size(0))\n",
    "        out,self.hidden = self.lstm(input,self.hidden)#lstm->self.lstm\n",
    "        return out,self.hidden\n",
    "    \n",
    "    def initHidden(self,batch_size):\n",
    "        if self.lstm.bidirectional:\n",
    "            return (torch.rand(self.num_layers*2,batch_size,self.hidden_size),torch.rand(self.num_layers*2,batch_size,self.hidden_size))\n",
    "        else:\n",
    "            return (torch.rand(self.num_layers,batch_size,self.hidden_size),torch.rand(self.num_layers,batch_size,self.hidden_size))\n",
    "\n",
    "input_size = 12\n",
    "hidden_size = 10\n",
    "num_layers = 3\n",
    "batch_size = 2\n",
    "model = RNN(input_size,hidden_size,num_layers)\n",
    "# input (seq_len, batch, input_size) 包含特征的输入序列，如果设置了batch_first，则batch为第一维\n",
    "input = torch.rand(2,4,12)    #生成一个用随机数初始化的矩阵"
   ]
  },
  {
   "cell_type": "markdown",
   "id": "636f44cf",
   "metadata": {},
   "source": [
    "https://blog.csdn.net/vivian_ll/article/details/93894151"
   ]
  },
  {
   "cell_type": "code",
   "execution_count": 5,
   "id": "aef6258d",
   "metadata": {},
   "outputs": [],
   "source": [
    "import torch.nn.functional as F\n",
    "class LSTMTagger(nn.Module):\n",
    "\n",
    "    def __init__(self, embedding_dim, hidden_dim, vocab_size, tagset_size):\n",
    "        super(LSTMTagger, self).__init__()\n",
    "        self.hidden_dim = hidden_dim\n",
    "\n",
    "        self.word_embeddings = nn.Embedding(vocab_size, embedding_dim)\n",
    "\n",
    "        # LSTM以word_embeddings作为输入, 输出维度为 hidden_dim 的隐藏状态值\n",
    "        self.lstm = nn.LSTM(embedding_dim, hidden_dim)\n",
    "\n",
    "        # 线性层将隐藏状态空间映射到标注空间\n",
    "        self.hidden2tag = nn.Linear(hidden_dim, tagset_size)\n",
    "        self.hidden = self.init_hidden()\n",
    "\n",
    "    def init_hidden(self):\n",
    "        # 一开始并没有隐藏状态所以我们要先初始化一个\n",
    "        # 关于维度为什么这么设计请参考Pytoch相关文档\n",
    "        # 各个维度的含义是 (num_layers*num_directions, batch_size, hidden_dim)\n",
    "        return (torch.zeros(1, 1, self.hidden_dim),\n",
    "                torch.zeros(1, 1, self.hidden_dim))\n",
    "\n",
    "    def forward(self, sentence):\n",
    "        embeds = self.word_embeddings(sentence)\n",
    "        lstm_out, self.hidden = self.lstm(\n",
    "            embeds.view(len(sentence), 1, -1), self.hidden)\n",
    "        tag_space = self.hidden2tag(lstm_out.view(len(sentence), -1))\n",
    "        tag_scores = F.log_softmax(tag_space, dim=1)\n",
    "        return tag_scores"
   ]
  },
  {
   "cell_type": "code",
   "execution_count": 6,
   "id": "c6eec1f5",
   "metadata": {},
   "outputs": [
    {
     "data": {
      "text/plain": [
       "'\\ntraining_data = [\\n    (\"The dog ate the apple\".split(), [\"DET\", \"NN\", \"V\", \"DET\", \"NN\"]),\\n    (\"Everybody read that book\".split(), [\"NN\", \"V\", \"DET\", \"NN\"])\\n]\\n'"
      ]
     },
     "execution_count": 6,
     "metadata": {},
     "output_type": "execute_result"
    }
   ],
   "source": [
    "#Making training data\n",
    "training_data = []\n",
    "t = open('./对应拼音标调.txt',\"r\", encoding='UTF8')\n",
    "\n",
    "f = open(\"./训练集.txt\", \"rb\")\n",
    "#计数 数一共有多少行\n",
    "lines = f.readlines()\n",
    "tags = t.readlines()\n",
    "# counter = len(lines)\n",
    "# counter = 0\n",
    "# for i in line:   \n",
    "#     counter = counter + 1\n",
    "\n",
    "for index, line in enumerate(lines):\n",
    "    line = lines[index].rstrip().split()\n",
    "    tag = tags[index].rstrip().split()\n",
    "    training_data.append((line, tag))\n",
    "    # f = open(\"./训练集.txt\", \"r\",encoding=\"ANSI\")\n",
    "    # line = f.readline().split()\n",
    "    # index = t.readline().split()\n",
    "    # for i in range(len(line)):\n",
    "    #     temp=[]\n",
    "    #     temp.append(line[i])\n",
    "    #     temp.append(tag[i])\n",
    "    #     temp = tuple(temp)\n",
    "    #     training_data.append(temp)\n",
    "'''\n",
    "training_data = [\n",
    "    (\"The dog ate the apple\".split(), [\"DET\", \"NN\", \"V\", \"DET\", \"NN\"]),\n",
    "    (\"Everybody read that book\".split(), [\"NN\", \"V\", \"DET\", \"NN\"])\n",
    "]\n",
    "'''\n",
    "# training_data为[(data,tag),…]"
   ]
  },
  {
   "cell_type": "code",
   "execution_count": 7,
   "id": "ae18c521",
   "metadata": {},
   "outputs": [
    {
     "data": {
      "text/plain": [
       "[b'ai',\n",
       " b'ya',\n",
       " b',',\n",
       " b'dui',\n",
       " b'bu',\n",
       " b'qi',\n",
       " b',',\n",
       " b'wo',\n",
       " b'ba',\n",
       " b'zhe',\n",
       " b'xie',\n",
       " b'shi',\n",
       " b'qing',\n",
       " b'tong',\n",
       " b'tong',\n",
       " b'wang',\n",
       " b'le',\n",
       " b'.']"
      ]
     },
     "execution_count": 7,
     "metadata": {},
     "output_type": "execute_result"
    }
   ],
   "source": [
    "import numpy as np\n",
    "len(training_data)\n",
    "training_data[0][0]"
   ]
  },
  {
   "cell_type": "code",
   "execution_count": 8,
   "id": "f1901deb",
   "metadata": {},
   "outputs": [],
   "source": [
    "\n",
    "def prepare_sequence(seq, to_ix):\n",
    "    idxs = [to_ix[w] for w in seq]\n",
    "    return torch.tensor(idxs, dtype=torch.long)\n",
    "\n",
    "word_to_ix = {}\n",
    "for sent, tags in training_data:\n",
    "    for word in sent:\n",
    "        if word not in word_to_ix:\n",
    "            word_to_ix[word] = len(word_to_ix)\n",
    "# print(word_to_ix)\n",
    "# tag_to_ix = {\"DET\": 0, \"NN\": 1, \"V\": 2}\n",
    "tag_to_ix = {\"0\":0, \"1\":1, \"2\":2, \"3\":3, \"4\":4, \",\":5, \".\":6, \"?\":7,\"!\":8}\n",
    "\n",
    "# 实际中通常使用更大的维度如32维, 64维.\n",
    "# 这里我们使用小的维度, 为了方便查看训练过程中权重的变化.\n",
    "EMBEDDING_DIM = 12\n",
    "HIDDEN_DIM = 12\n",
    "import numpy as np\n",
    "np.save('word_to_ix.npy',word_to_ix)\n",
    "np.save('tag_to_ix.npy',tag_to_ix)"
   ]
  },
  {
   "cell_type": "code",
   "execution_count": 9,
   "id": "19fc27ed",
   "metadata": {},
   "outputs": [],
   "source": [
    "from torch.utils.tensorboard import SummaryWriter"
   ]
  },
  {
   "cell_type": "code",
   "execution_count": 10,
   "id": "a44e7ed3",
   "metadata": {},
   "outputs": [
    {
     "name": "stdout",
     "output_type": "stream",
     "text": [
      "0\n"
     ]
    },
    {
     "name": "stderr",
     "output_type": "stream",
     "text": [
      "  0%|          | 0/5000 [00:00<?, ?it/s]"
     ]
    },
    {
     "name": "stderr",
     "output_type": "stream",
     "text": [
      "100%|██████████| 5000/5000 [01:39<00:00, 50.35it/s]\n",
      "100%|██████████| 1000/1000 [00:08<00:00, 121.80it/s]\n"
     ]
    },
    {
     "name": "stdout",
     "output_type": "stream",
     "text": [
      "tensor(0.5473, grad_fn=<NllLossBackward0>)\n",
      "training_acuracy 0.658834859523229\n",
      "validation_acuracy: 0.7084241322065379\n",
      "1\n"
     ]
    },
    {
     "name": "stderr",
     "output_type": "stream",
     "text": [
      "100%|██████████| 5000/5000 [01:50<00:00, 45.23it/s]\n",
      "100%|██████████| 1000/1000 [00:05<00:00, 170.81it/s]\n"
     ]
    },
    {
     "name": "stdout",
     "output_type": "stream",
     "text": [
      "tensor(0.4532, grad_fn=<NllLossBackward0>)\n",
      "training_acuracy 0.752405509944517\n",
      "validation_acuracy: 0.7273629989453331\n",
      "2\n"
     ]
    },
    {
     "name": "stderr",
     "output_type": "stream",
     "text": [
      "100%|██████████| 5000/5000 [00:45<00:00, 110.93it/s]\n",
      "100%|██████████| 1000/1000 [00:02<00:00, 390.78it/s]\n"
     ]
    },
    {
     "name": "stdout",
     "output_type": "stream",
     "text": [
      "tensor(0.4621, grad_fn=<NllLossBackward0>)\n",
      "training_acuracy 0.7658335404630171\n",
      "validation_acuracy: 0.7352473476474304\n",
      "3\n"
     ]
    },
    {
     "name": "stderr",
     "output_type": "stream",
     "text": [
      "100%|██████████| 5000/5000 [01:00<00:00, 83.31it/s] \n",
      "100%|██████████| 1000/1000 [00:02<00:00, 401.83it/s]\n"
     ]
    },
    {
     "name": "stdout",
     "output_type": "stream",
     "text": [
      "tensor(0.4641, grad_fn=<NllLossBackward0>)\n",
      "training_acuracy 0.7732800719482716\n",
      "validation_acuracy: 0.7412634617218009\n",
      "4\n"
     ]
    },
    {
     "name": "stderr",
     "output_type": "stream",
     "text": [
      "100%|██████████| 5000/5000 [00:38<00:00, 130.41it/s]\n",
      "100%|██████████| 1000/1000 [00:02<00:00, 377.63it/s]\n"
     ]
    },
    {
     "name": "stdout",
     "output_type": "stream",
     "text": [
      "tensor(0.4511, grad_fn=<NllLossBackward0>)\n",
      "training_acuracy 0.7791173010288545\n",
      "validation_acuracy: 0.7455328135246145\n",
      "5\n"
     ]
    },
    {
     "name": "stderr",
     "output_type": "stream",
     "text": [
      "100%|██████████| 5000/5000 [01:01<00:00, 80.74it/s] \n",
      "100%|██████████| 1000/1000 [00:02<00:00, 370.78it/s]\n"
     ]
    },
    {
     "name": "stdout",
     "output_type": "stream",
     "text": [
      "tensor(0.4143, grad_fn=<NllLossBackward0>)\n",
      "training_acuracy 0.7853811517397313\n",
      "validation_acuracy: 0.7516205125312644\n",
      "6\n"
     ]
    },
    {
     "name": "stderr",
     "output_type": "stream",
     "text": [
      "100%|██████████| 5000/5000 [00:57<00:00, 86.25it/s] \n",
      "100%|██████████| 1000/1000 [00:03<00:00, 331.58it/s]\n"
     ]
    },
    {
     "name": "stdout",
     "output_type": "stream",
     "text": [
      "tensor(0.3643, grad_fn=<NllLossBackward0>)\n",
      "training_acuracy 0.7899716302024531\n",
      "validation_acuracy: 0.7558070970796644\n",
      "7\n"
     ]
    },
    {
     "name": "stderr",
     "output_type": "stream",
     "text": [
      "100%|██████████| 5000/5000 [00:38<00:00, 130.80it/s]\n",
      "100%|██████████| 1000/1000 [00:02<00:00, 368.44it/s]\n"
     ]
    },
    {
     "name": "stdout",
     "output_type": "stream",
     "text": [
      "tensor(0.3371, grad_fn=<NllLossBackward0>)\n",
      "training_acuracy 0.7936124520864425\n",
      "validation_acuracy: 0.7595647308628971\n",
      "8\n"
     ]
    },
    {
     "name": "stderr",
     "output_type": "stream",
     "text": [
      "100%|██████████| 5000/5000 [00:41<00:00, 119.10it/s]\n",
      "100%|██████████| 1000/1000 [00:02<00:00, 382.27it/s]\n"
     ]
    },
    {
     "name": "stdout",
     "output_type": "stream",
     "text": [
      "tensor(0.3313, grad_fn=<NllLossBackward0>)\n",
      "training_acuracy 0.7975248065581912\n",
      "validation_acuracy: 0.76371276538153\n",
      "9\n"
     ]
    },
    {
     "name": "stderr",
     "output_type": "stream",
     "text": [
      "100%|██████████| 5000/5000 [00:34<00:00, 143.88it/s]\n",
      "100%|██████████| 1000/1000 [00:03<00:00, 321.56it/s]\n"
     ]
    },
    {
     "name": "stdout",
     "output_type": "stream",
     "text": [
      "tensor(0.3256, grad_fn=<NllLossBackward0>)\n",
      "training_acuracy 0.8009195287863796\n",
      "validation_acuracy: 0.764601277506927\n",
      "10\n"
     ]
    },
    {
     "name": "stderr",
     "output_type": "stream",
     "text": [
      "100%|██████████| 5000/5000 [00:44<00:00, 111.47it/s]\n",
      "100%|██████████| 1000/1000 [00:02<00:00, 410.12it/s]\n"
     ]
    },
    {
     "name": "stdout",
     "output_type": "stream",
     "text": [
      "tensor(0.3332, grad_fn=<NllLossBackward0>)\n",
      "training_acuracy 0.8036946642659807\n",
      "validation_acuracy: 0.7650998870910704\n",
      "11\n"
     ]
    },
    {
     "name": "stderr",
     "output_type": "stream",
     "text": [
      "100%|██████████| 5000/5000 [00:35<00:00, 142.83it/s]\n",
      "100%|██████████| 1000/1000 [00:02<00:00, 399.63it/s]\n"
     ]
    },
    {
     "name": "stdout",
     "output_type": "stream",
     "text": [
      "tensor(0.3481, grad_fn=<NllLossBackward0>)\n",
      "training_acuracy 0.8061144590274264\n",
      "validation_acuracy: 0.7662213925231899\n",
      "12\n"
     ]
    },
    {
     "name": "stderr",
     "output_type": "stream",
     "text": [
      "100%|██████████| 5000/5000 [00:35<00:00, 140.67it/s]\n",
      "100%|██████████| 1000/1000 [00:02<00:00, 399.28it/s]\n"
     ]
    },
    {
     "name": "stdout",
     "output_type": "stream",
     "text": [
      "tensor(0.3403, grad_fn=<NllLossBackward0>)\n",
      "training_acuracy 0.8083165213716228\n",
      "validation_acuracy: 0.7672160770265153\n",
      "13\n"
     ]
    },
    {
     "name": "stderr",
     "output_type": "stream",
     "text": [
      "100%|██████████| 5000/5000 [00:58<00:00, 85.39it/s] \n",
      "100%|██████████| 1000/1000 [00:02<00:00, 389.59it/s]\n"
     ]
    },
    {
     "name": "stdout",
     "output_type": "stream",
     "text": [
      "tensor(0.3447, grad_fn=<NllLossBackward0>)\n",
      "training_acuracy 0.8099707959541099\n",
      "validation_acuracy: 0.7675843243016183\n",
      "14\n"
     ]
    },
    {
     "name": "stderr",
     "output_type": "stream",
     "text": [
      "100%|██████████| 5000/5000 [00:34<00:00, 145.77it/s]\n",
      "100%|██████████| 1000/1000 [00:02<00:00, 409.79it/s]\n"
     ]
    },
    {
     "name": "stdout",
     "output_type": "stream",
     "text": [
      "tensor(0.3350, grad_fn=<NllLossBackward0>)\n",
      "training_acuracy 0.8122166481425946\n",
      "validation_acuracy: 0.7706027080157216\n",
      "15\n"
     ]
    },
    {
     "name": "stderr",
     "output_type": "stream",
     "text": [
      "100%|██████████| 5000/5000 [00:36<00:00, 137.87it/s]\n",
      "100%|██████████| 1000/1000 [00:02<00:00, 416.83it/s]\n"
     ]
    },
    {
     "name": "stdout",
     "output_type": "stream",
     "text": [
      "tensor(0.3436, grad_fn=<NllLossBackward0>)\n",
      "training_acuracy 0.81391015405963\n",
      "validation_acuracy: 0.7718770119714456\n",
      "16\n"
     ]
    },
    {
     "name": "stderr",
     "output_type": "stream",
     "text": [
      "100%|██████████| 5000/5000 [00:32<00:00, 152.64it/s]\n",
      "100%|██████████| 1000/1000 [00:02<00:00, 411.86it/s]\n"
     ]
    },
    {
     "name": "stdout",
     "output_type": "stream",
     "text": [
      "tensor(0.3495, grad_fn=<NllLossBackward0>)\n",
      "training_acuracy 0.8152225590973928\n",
      "validation_acuracy: 0.7727665036766336\n",
      "17\n"
     ]
    },
    {
     "name": "stderr",
     "output_type": "stream",
     "text": [
      "100%|██████████| 5000/5000 [00:32<00:00, 152.04it/s]\n",
      "100%|██████████| 1000/1000 [00:02<00:00, 438.94it/s]\n"
     ]
    },
    {
     "name": "stdout",
     "output_type": "stream",
     "text": [
      "tensor(0.3901, grad_fn=<NllLossBackward0>)\n",
      "training_acuracy 0.8165822617689218\n",
      "validation_acuracy: 0.7744604379501969\n",
      "18\n"
     ]
    },
    {
     "name": "stderr",
     "output_type": "stream",
     "text": [
      "100%|██████████| 5000/5000 [00:32<00:00, 153.86it/s]\n",
      "100%|██████████| 1000/1000 [00:02<00:00, 423.62it/s]\n"
     ]
    },
    {
     "name": "stdout",
     "output_type": "stream",
     "text": [
      "tensor(0.3782, grad_fn=<NllLossBackward0>)\n",
      "training_acuracy 0.8185677982074389\n",
      "validation_acuracy: 0.775808652764216\n",
      "19\n"
     ]
    },
    {
     "name": "stderr",
     "output_type": "stream",
     "text": [
      "100%|██████████| 5000/5000 [00:32<00:00, 152.72it/s]\n",
      "100%|██████████| 1000/1000 [00:02<00:00, 422.85it/s]\n"
     ]
    },
    {
     "name": "stdout",
     "output_type": "stream",
     "text": [
      "tensor(0.3870, grad_fn=<NllLossBackward0>)\n",
      "training_acuracy 0.8202702438318614\n",
      "validation_acuracy: 0.7759527371763193\n",
      "20\n"
     ]
    },
    {
     "name": "stderr",
     "output_type": "stream",
     "text": [
      "100%|██████████| 5000/5000 [00:33<00:00, 150.87it/s]\n",
      "100%|██████████| 1000/1000 [00:02<00:00, 425.99it/s]\n"
     ]
    },
    {
     "name": "stdout",
     "output_type": "stream",
     "text": [
      "tensor(0.3754, grad_fn=<NllLossBackward0>)\n",
      "training_acuracy 0.8214611940474713\n",
      "validation_acuracy: 0.7767187487735793\n",
      "21\n"
     ]
    },
    {
     "name": "stderr",
     "output_type": "stream",
     "text": [
      "100%|██████████| 5000/5000 [00:33<00:00, 148.39it/s]\n",
      "100%|██████████| 1000/1000 [00:02<00:00, 436.88it/s]\n"
     ]
    },
    {
     "name": "stdout",
     "output_type": "stream",
     "text": [
      "tensor(0.3633, grad_fn=<NllLossBackward0>)\n",
      "training_acuracy 0.8233501400349512\n",
      "validation_acuracy: 0.7781838105013458\n",
      "22\n"
     ]
    },
    {
     "name": "stderr",
     "output_type": "stream",
     "text": [
      "100%|██████████| 5000/5000 [00:33<00:00, 150.94it/s]\n",
      "100%|██████████| 1000/1000 [00:02<00:00, 420.28it/s]\n"
     ]
    },
    {
     "name": "stdout",
     "output_type": "stream",
     "text": [
      "tensor(0.3635, grad_fn=<NllLossBackward0>)\n",
      "training_acuracy 0.8248358372320654\n",
      "validation_acuracy: 0.7799640150020007\n",
      "23\n"
     ]
    },
    {
     "name": "stderr",
     "output_type": "stream",
     "text": [
      "100%|██████████| 5000/5000 [00:32<00:00, 152.60it/s]\n",
      "100%|██████████| 1000/1000 [00:02<00:00, 408.27it/s]\n"
     ]
    },
    {
     "name": "stdout",
     "output_type": "stream",
     "text": [
      "tensor(0.3654, grad_fn=<NllLossBackward0>)\n",
      "training_acuracy 0.8270256540272259\n",
      "validation_acuracy: 0.781203083880169\n",
      "24\n"
     ]
    },
    {
     "name": "stderr",
     "output_type": "stream",
     "text": [
      "100%|██████████| 5000/5000 [01:04<00:00, 77.39it/s] \n",
      "100%|██████████| 1000/1000 [00:06<00:00, 145.37it/s]\n"
     ]
    },
    {
     "name": "stdout",
     "output_type": "stream",
     "text": [
      "tensor(0.3772, grad_fn=<NllLossBackward0>)\n",
      "training_acuracy 0.8281465595912985\n",
      "validation_acuracy: 0.78269686029694\n",
      "0\n"
     ]
    },
    {
     "name": "stderr",
     "output_type": "stream",
     "text": [
      "100%|██████████| 5000/5000 [00:35<00:00, 139.23it/s]\n",
      "100%|██████████| 1000/1000 [00:02<00:00, 462.67it/s]\n"
     ]
    },
    {
     "name": "stdout",
     "output_type": "stream",
     "text": [
      "tensor(0.4363, grad_fn=<NllLossBackward0>)\n",
      "training_acuracy 0.7024153495549296\n",
      "validation_acuracy: 0.7342885506736102\n",
      "1\n"
     ]
    },
    {
     "name": "stderr",
     "output_type": "stream",
     "text": [
      "100%|██████████| 5000/5000 [00:46<00:00, 106.62it/s]\n",
      "100%|██████████| 1000/1000 [00:02<00:00, 386.78it/s]\n"
     ]
    },
    {
     "name": "stdout",
     "output_type": "stream",
     "text": [
      "tensor(0.2484, grad_fn=<NllLossBackward0>)\n",
      "training_acuracy 0.7864912715943357\n",
      "validation_acuracy: 0.7577642588405655\n",
      "2\n"
     ]
    },
    {
     "name": "stderr",
     "output_type": "stream",
     "text": [
      "  7%|▋         | 346/5000 [00:04<00:59, 77.92it/s] \n"
     ]
    },
    {
     "ename": "KeyboardInterrupt",
     "evalue": "",
     "output_type": "error",
     "traceback": [
      "\u001b[1;31m---------------------------------------------------------------------------\u001b[0m",
      "\u001b[1;31mKeyboardInterrupt\u001b[0m                         Traceback (most recent call last)",
      "Cell \u001b[1;32mIn[10], line 54\u001b[0m\n\u001b[0;32m     52\u001b[0m training_acuracy\u001b[39m.\u001b[39mappend(a)\n\u001b[0;32m     53\u001b[0m writer\u001b[39m.\u001b[39madd_scalar(\u001b[39m'\u001b[39m\u001b[39mAccuracy/train\u001b[39m\u001b[39m'\u001b[39m, a, epoch)\n\u001b[1;32m---> 54\u001b[0m loss\u001b[39m.\u001b[39;49mbackward()\n\u001b[0;32m     55\u001b[0m optimizer\u001b[39m.\u001b[39mstep()\n\u001b[0;32m     56\u001b[0m loss_list_train\u001b[39m.\u001b[39mappend(loss\u001b[39m.\u001b[39mitem())\n",
      "File \u001b[1;32md:\\Anaconda3\\lib\\site-packages\\torch\\_tensor.py:487\u001b[0m, in \u001b[0;36mTensor.backward\u001b[1;34m(self, gradient, retain_graph, create_graph, inputs)\u001b[0m\n\u001b[0;32m    477\u001b[0m \u001b[39mif\u001b[39;00m has_torch_function_unary(\u001b[39mself\u001b[39m):\n\u001b[0;32m    478\u001b[0m     \u001b[39mreturn\u001b[39;00m handle_torch_function(\n\u001b[0;32m    479\u001b[0m         Tensor\u001b[39m.\u001b[39mbackward,\n\u001b[0;32m    480\u001b[0m         (\u001b[39mself\u001b[39m,),\n\u001b[1;32m   (...)\u001b[0m\n\u001b[0;32m    485\u001b[0m         inputs\u001b[39m=\u001b[39minputs,\n\u001b[0;32m    486\u001b[0m     )\n\u001b[1;32m--> 487\u001b[0m torch\u001b[39m.\u001b[39;49mautograd\u001b[39m.\u001b[39;49mbackward(\n\u001b[0;32m    488\u001b[0m     \u001b[39mself\u001b[39;49m, gradient, retain_graph, create_graph, inputs\u001b[39m=\u001b[39;49minputs\n\u001b[0;32m    489\u001b[0m )\n",
      "File \u001b[1;32md:\\Anaconda3\\lib\\site-packages\\torch\\autograd\\__init__.py:197\u001b[0m, in \u001b[0;36mbackward\u001b[1;34m(tensors, grad_tensors, retain_graph, create_graph, grad_variables, inputs)\u001b[0m\n\u001b[0;32m    192\u001b[0m     retain_graph \u001b[39m=\u001b[39m create_graph\n\u001b[0;32m    194\u001b[0m \u001b[39m# The reason we repeat same the comment below is that\u001b[39;00m\n\u001b[0;32m    195\u001b[0m \u001b[39m# some Python versions print out the first line of a multi-line function\u001b[39;00m\n\u001b[0;32m    196\u001b[0m \u001b[39m# calls in the traceback and some print out the last line\u001b[39;00m\n\u001b[1;32m--> 197\u001b[0m Variable\u001b[39m.\u001b[39;49m_execution_engine\u001b[39m.\u001b[39;49mrun_backward(  \u001b[39m# Calls into the C++ engine to run the backward pass\u001b[39;49;00m\n\u001b[0;32m    198\u001b[0m     tensors, grad_tensors_, retain_graph, create_graph, inputs,\n\u001b[0;32m    199\u001b[0m     allow_unreachable\u001b[39m=\u001b[39;49m\u001b[39mTrue\u001b[39;49;00m, accumulate_grad\u001b[39m=\u001b[39;49m\u001b[39mTrue\u001b[39;49;00m)\n",
      "\u001b[1;31mKeyboardInterrupt\u001b[0m: "
     ]
    }
   ],
   "source": [
    "from tqdm import tqdm\n",
    "for i in range(5):\n",
    "    #更改训练参数\n",
    "    #Bert 有768个hidden_feature\n",
    "    #目前是embedding_dim=110\n",
    "    EMBEDDING_DIM = 60\n",
    "    HIDDEN_DIM = 10 + 30*i\n",
    "    g = \"./log/\"+\"Hidden_dim_\"+str(EMBEDDING_DIM)+\"_Embedding_dim_\"+str(HIDDEN_DIM)\n",
    "    model = LSTMTagger(EMBEDDING_DIM, HIDDEN_DIM, len(word_to_ix), len(tag_to_ix))\n",
    "    loss_function = nn.NLLLoss()\n",
    "    optimizer = torch.optim.SGD(model.parameters(), lr=0.1)\n",
    "    writer = SummaryWriter(g)\n",
    "\n",
    "    # 查看训练前的分数\n",
    "    # 注意: 输出的 i,j 元素的值表示单词 i 的 j 标签的得分\n",
    "    # 这里我们不需要训练不需要求导所以使用torch.no_grad()\n",
    "    with torch.no_grad():\n",
    "        inputs = prepare_sequence(training_data[0][0], word_to_ix)\n",
    "        # print(training_data[0][0], word_to_ix)\n",
    "        \n",
    "        tag_scores = model(inputs)\n",
    "        #print(tag_scores)\n",
    "        targets = prepare_sequence(training_data[0][1], tag_to_ix)\n",
    "        #print((torch.argmax(tag_scores, dim=-1) == targets).sum().item() / len(targets))\n",
    "\n",
    "\n",
    "    for epoch in range(25):  \n",
    "        print(epoch)\n",
    "        training_acuracy = []\n",
    "        validation_acuracy = []\n",
    "        loss_list_train = []\n",
    "        loss_list_validation = []\n",
    "        for sentence, tags in tqdm(training_data[:5000]):\n",
    "            # 第一步: 请记住Pytorch会累加梯度.\n",
    "            # 我们需要在训练每个实例前清空梯度\n",
    "            model.zero_grad()\n",
    "\n",
    "            # 此外还需要清空 LSTM 的隐状态,\n",
    "            # 将其从上个实例的历史中分离出来.\n",
    "            model.hidden = model.init_hidden()\n",
    "\n",
    "            # 准备网络输入, 将其变为词索引的 Tensor 类型数据\n",
    "            \n",
    "            sentence_in = prepare_sequence(sentence, word_to_ix)\n",
    "            targets = prepare_sequence(tags, tag_to_ix)\n",
    "            # 第三步: 前向传播.\n",
    "            tag_scores = model(sentence_in)\n",
    "\n",
    "            # 第四步: 计算损失和梯度值, 通过调用 optimizer.step() 来更新梯度\n",
    "            loss = loss_function(tag_scores, targets)\n",
    "            a = (torch.argmax(tag_scores, dim=-1) == targets).sum().item() / len(targets)\n",
    "            training_acuracy.append(a)\n",
    "            writer.add_scalar('Accuracy/train', a, epoch)\n",
    "            loss.backward()\n",
    "            optimizer.step()\n",
    "            loss_list_train.append(loss.item())\n",
    "        #Validation\n",
    "        for sentence, tags in tqdm(training_data[5000:6000]):\n",
    "            model.zero_grad()\n",
    "            model.hidden = model.init_hidden()\n",
    "\n",
    "            # 准备网络输入, 将其变为词索引的 Tensor 类型数据\n",
    "            \n",
    "            sentence_in = prepare_sequence(sentence, word_to_ix)\n",
    "            targets = prepare_sequence(tags, tag_to_ix)\n",
    "            # 第三步: 前向传播.\n",
    "            tag_scores = model(sentence_in)\n",
    "            #计算损失\n",
    "            a = (torch.argmax(tag_scores, dim=-1) == targets).sum().item() / len(targets)\n",
    "            validation_acuracy.append(a)\n",
    "            loss = loss_function(tag_scores, targets)\n",
    "            loss_list_validation.append(loss.item())\n",
    "            \n",
    "            \n",
    "\n",
    "            \n",
    "        #LSTM 可以做padding\n",
    "        print(loss)\n",
    "        c= sum(loss_list_train)\n",
    "        writer.add_scalar('Loss/training', c, epoch)\n",
    "        d = sum(loss_list_validation)\n",
    "        writer.add_scalar('Loss/validation', d, epoch)\n",
    "        #print(torch.argmax(tag_scores, dim=-1))\n",
    "        print(\"training_acuracy\",sum(training_acuracy)/len(training_acuracy))\n",
    "        b = sum(training_acuracy)/len(training_acuracy)\n",
    "        writer.add_scalar('Accuracy/training', b, epoch)\n",
    "        print(\"validation_acuracy:\",sum(validation_acuracy)/len(validation_acuracy))\n",
    "        a =sum(validation_acuracy)/len(validation_acuracy) \n",
    "        writer.add_scalar('Accuracy/validation', a, epoch)\n",
    "\n",
    "    # 查看训练后的得分\n",
    "    with torch.no_grad():\n",
    "        inputs = prepare_sequence(training_data[0][0], word_to_ix)\n",
    "        tag_scores = model(inputs)\n",
    "\n",
    "        # 句子是 \"the dog ate the apple\", i,j 表示对于单词 i, 标签 j 的得分.\n",
    "        # 我们采用得分最高的标签作为预测的标签. 从下面的输出我们可以看到, 预测得\n",
    "        # 到的结果是0 1 2 0 1. 因为 索引是从0开始的, 因此第一个值0表示第一行的\n",
    "        # 最大值, 第二个值1表示第二行的最大值, 以此类推. 所以最后的结果是 DET\n",
    "        # NOUN VERB DET NOUN, 整个序列都是正确的!\n",
    "        #print(tag_scores)\n"
   ]
  }
 ],
 "metadata": {
  "kernelspec": {
   "display_name": "Python 3.9.13 ('base')",
   "language": "python",
   "name": "python3"
  },
  "language_info": {
   "codemirror_mode": {
    "name": "ipython",
    "version": 3
   },
   "file_extension": ".py",
   "mimetype": "text/x-python",
   "name": "python",
   "nbconvert_exporter": "python",
   "pygments_lexer": "ipython3",
   "version": "3.9.13"
  },
  "vscode": {
   "interpreter": {
    "hash": "b09ec625f77bf4fd762565a912b97636504ad6ec901eb2d0f4cf5a7de23e1ee5"
   }
  }
 },
 "nbformat": 4,
 "nbformat_minor": 5
}
